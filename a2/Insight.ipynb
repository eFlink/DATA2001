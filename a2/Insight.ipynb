{
 "cells": [
  {
   "cell_type": "markdown",
   "id": "18f06dbc",
   "metadata": {},
   "source": [
    "# DATA2001 Assignment 2"
   ]
  },
  {
   "cell_type": "markdown",
   "id": "68e77382",
   "metadata": {},
   "source": [
    "Name: Erik Flink\n",
    "\n",
    "Student Number: s46267445"
   ]
  },
  {
   "cell_type": "code",
   "execution_count": 1,
   "id": "b45d11c8",
   "metadata": {},
   "outputs": [],
   "source": [
    "# import pandas library using alias pd\n",
    "import pandas as pd\n",
    "import numpy as np\n",
    "\n",
    "dataset = pd.read_csv(filepath_or_buffer='dataset.csv')"
   ]
  },
  {
   "cell_type": "markdown",
   "id": "63357d5f",
   "metadata": {},
   "source": [
    "## 1. Data Preparation"
   ]
  },
  {
   "cell_type": "markdown",
   "id": "11c1d254",
   "metadata": {},
   "source": [
    "### Create Subset"
   ]
  },
  {
   "cell_type": "code",
   "execution_count": 2,
   "id": "475603b1",
   "metadata": {},
   "outputs": [
    {
     "data": {
      "text/html": [
       "<div>\n",
       "<style scoped>\n",
       "    .dataframe tbody tr th:only-of-type {\n",
       "        vertical-align: middle;\n",
       "    }\n",
       "\n",
       "    .dataframe tbody tr th {\n",
       "        vertical-align: top;\n",
       "    }\n",
       "\n",
       "    .dataframe thead th {\n",
       "        text-align: right;\n",
       "    }\n",
       "</style>\n",
       "<table border=\"1\" class=\"dataframe\">\n",
       "  <thead>\n",
       "    <tr style=\"text-align: right;\">\n",
       "      <th></th>\n",
       "      <th>Id</th>\n",
       "      <th>Score</th>\n",
       "      <th>Text</th>\n",
       "    </tr>\n",
       "  </thead>\n",
       "  <tbody>\n",
       "    <tr>\n",
       "      <th>0</th>\n",
       "      <td>2</td>\n",
       "      <td>1</td>\n",
       "      <td>Product arrived labeled as Jumbo Salted Peanut...</td>\n",
       "    </tr>\n",
       "    <tr>\n",
       "      <th>1</th>\n",
       "      <td>5</td>\n",
       "      <td>5</td>\n",
       "      <td>Great taffy at a great price.  There was a wid...</td>\n",
       "    </tr>\n",
       "    <tr>\n",
       "      <th>2</th>\n",
       "      <td>10</td>\n",
       "      <td>5</td>\n",
       "      <td>This is a very healthy dog food. Good for thei...</td>\n",
       "    </tr>\n",
       "    <tr>\n",
       "      <th>3</th>\n",
       "      <td>17</td>\n",
       "      <td>2</td>\n",
       "      <td>I love eating them and they are good for watch...</td>\n",
       "    </tr>\n",
       "    <tr>\n",
       "      <th>4</th>\n",
       "      <td>39</td>\n",
       "      <td>4</td>\n",
       "      <td>I WAS VISITING MY FRIEND NATE THE OTHER MORNIN...</td>\n",
       "    </tr>\n",
       "  </tbody>\n",
       "</table>\n",
       "</div>"
      ],
      "text/plain": [
       "   Id  Score                                               Text\n",
       "0   2      1  Product arrived labeled as Jumbo Salted Peanut...\n",
       "1   5      5  Great taffy at a great price.  There was a wid...\n",
       "2  10      5  This is a very healthy dog food. Good for thei...\n",
       "3  17      2  I love eating them and they are good for watch...\n",
       "4  39      4  I WAS VISITING MY FRIEND NATE THE OTHER MORNIN..."
      ]
     },
     "execution_count": 2,
     "metadata": {},
     "output_type": "execute_result"
    }
   ],
   "source": [
    "# Create a subset of the dataset containing only Id, Score and Text\n",
    "data = dataset[['Id', 'Score', 'Text']]\n",
    "data.head()"
   ]
  },
  {
   "cell_type": "code",
   "execution_count": 3,
   "id": "6a19aa96",
   "metadata": {},
   "outputs": [
    {
     "data": {
      "text/plain": [
       "array([1, 5, 2, 4, 3])"
      ]
     },
     "execution_count": 3,
     "metadata": {},
     "output_type": "execute_result"
    }
   ],
   "source": [
    "# Determine if there are any inconsistencies in the data\n",
    "data[\"Score\"].unique()"
   ]
  },
  {
   "cell_type": "markdown",
   "id": "85361c55",
   "metadata": {},
   "source": [
    "Score column is consistent"
   ]
  },
  {
   "cell_type": "markdown",
   "id": "840cd48f",
   "metadata": {},
   "source": [
    "### Allocate sentiment value "
   ]
  },
  {
   "cell_type": "markdown",
   "id": "da512d17",
   "metadata": {},
   "source": [
    "Scores equal to 3 will be dropped as the sentiment values being labeled to rows will either be positive or negative, as 3 is the middle number between 1 and 5 it can't be either positive or negative."
   ]
  },
  {
   "cell_type": "code",
   "execution_count": 4,
   "id": "58b94ce5",
   "metadata": {},
   "outputs": [
    {
     "name": "stderr",
     "output_type": "stream",
     "text": [
      "/tmp/ipykernel_138320/1936775015.py:2: SettingWithCopyWarning: \n",
      "A value is trying to be set on a copy of a slice from a DataFrame\n",
      "\n",
      "See the caveats in the documentation: https://pandas.pydata.org/pandas-docs/stable/user_guide/indexing.html#returning-a-view-versus-a-copy\n",
      "  data.drop(data[data.Score == 3].index, inplace=True)\n"
     ]
    },
    {
     "data": {
      "text/plain": [
       "array([1, 5, 2, 4])"
      ]
     },
     "execution_count": 4,
     "metadata": {},
     "output_type": "execute_result"
    }
   ],
   "source": [
    "# Drops Scores equal to 3\n",
    "data.drop(data[data.Score == 3].index, inplace=True)\n",
    "\n",
    "data[\"Score\"].unique()"
   ]
  },
  {
   "cell_type": "markdown",
   "id": "cf81b81e",
   "metadata": {},
   "source": [
    "Above we can see that there are no more Score values equal to 3. "
   ]
  },
  {
   "cell_type": "code",
   "execution_count": 5,
   "id": "df697c45",
   "metadata": {},
   "outputs": [
    {
     "name": "stderr",
     "output_type": "stream",
     "text": [
      "/tmp/ipykernel_138320/1603206132.py:3: SettingWithCopyWarning: \n",
      "A value is trying to be set on a copy of a slice from a DataFrame.\n",
      "Try using .loc[row_indexer,col_indexer] = value instead\n",
      "\n",
      "See the caveats in the documentation: https://pandas.pydata.org/pandas-docs/stable/user_guide/indexing.html#returning-a-view-versus-a-copy\n",
      "  data['Label'] = np.where(data['Score'] >= 4, \"Pos\", \"Neg\")\n"
     ]
    },
    {
     "data": {
      "text/html": [
       "<div>\n",
       "<style scoped>\n",
       "    .dataframe tbody tr th:only-of-type {\n",
       "        vertical-align: middle;\n",
       "    }\n",
       "\n",
       "    .dataframe tbody tr th {\n",
       "        vertical-align: top;\n",
       "    }\n",
       "\n",
       "    .dataframe thead th {\n",
       "        text-align: right;\n",
       "    }\n",
       "</style>\n",
       "<table border=\"1\" class=\"dataframe\">\n",
       "  <thead>\n",
       "    <tr style=\"text-align: right;\">\n",
       "      <th></th>\n",
       "      <th>Id</th>\n",
       "      <th>Score</th>\n",
       "      <th>Text</th>\n",
       "      <th>Label</th>\n",
       "    </tr>\n",
       "  </thead>\n",
       "  <tbody>\n",
       "    <tr>\n",
       "      <th>0</th>\n",
       "      <td>2</td>\n",
       "      <td>1</td>\n",
       "      <td>Product arrived labeled as Jumbo Salted Peanut...</td>\n",
       "      <td>Neg</td>\n",
       "    </tr>\n",
       "    <tr>\n",
       "      <th>1</th>\n",
       "      <td>5</td>\n",
       "      <td>5</td>\n",
       "      <td>Great taffy at a great price.  There was a wid...</td>\n",
       "      <td>Pos</td>\n",
       "    </tr>\n",
       "    <tr>\n",
       "      <th>2</th>\n",
       "      <td>10</td>\n",
       "      <td>5</td>\n",
       "      <td>This is a very healthy dog food. Good for thei...</td>\n",
       "      <td>Pos</td>\n",
       "    </tr>\n",
       "    <tr>\n",
       "      <th>3</th>\n",
       "      <td>17</td>\n",
       "      <td>2</td>\n",
       "      <td>I love eating them and they are good for watch...</td>\n",
       "      <td>Neg</td>\n",
       "    </tr>\n",
       "    <tr>\n",
       "      <th>4</th>\n",
       "      <td>39</td>\n",
       "      <td>4</td>\n",
       "      <td>I WAS VISITING MY FRIEND NATE THE OTHER MORNIN...</td>\n",
       "      <td>Pos</td>\n",
       "    </tr>\n",
       "  </tbody>\n",
       "</table>\n",
       "</div>"
      ],
      "text/plain": [
       "   Id  Score                                               Text Label\n",
       "0   2      1  Product arrived labeled as Jumbo Salted Peanut...   Neg\n",
       "1   5      5  Great taffy at a great price.  There was a wid...   Pos\n",
       "2  10      5  This is a very healthy dog food. Good for thei...   Pos\n",
       "3  17      2  I love eating them and they are good for watch...   Neg\n",
       "4  39      4  I WAS VISITING MY FRIEND NATE THE OTHER MORNIN...   Pos"
      ]
     },
     "execution_count": 5,
     "metadata": {},
     "output_type": "execute_result"
    }
   ],
   "source": [
    "# Create a new column Label based on the condition that scores eqaul to or greater than 4 are positive and \n",
    "# scores under 4 are negative.\n",
    "data['Label'] = np.where(data['Score'] >= 4, \"Pos\", \"Neg\")\n",
    "data.head()"
   ]
  },
  {
   "cell_type": "markdown",
   "id": "12fe9b50",
   "metadata": {},
   "source": [
    "The table above shows that the label column has been implemented correctly according to the score column, this can be seen as all score values 1,2,4, and 5 can be observed in the table above with their correctly assigned label."
   ]
  },
  {
   "cell_type": "markdown",
   "id": "9a149b63",
   "metadata": {},
   "source": [
    "### Summary"
   ]
  },
  {
   "cell_type": "code",
   "execution_count": 6,
   "id": "ca3b8635",
   "metadata": {},
   "outputs": [
    {
     "data": {
      "text/plain": [
       "7.610736044788408"
      ]
     },
     "execution_count": 6,
     "metadata": {},
     "output_type": "execute_result"
    }
   ],
   "source": [
    "# Get the number of Removed reviews\n",
    "removed = dataset.shape[0] - data.shape[0]\n",
    "# Determine what percentage of the original rows were removed\n",
    "(removed / dataset.shape[0]) * 100"
   ]
  },
  {
   "cell_type": "markdown",
   "id": "81e39ed5",
   "metadata": {},
   "source": [
    "Although removing scores equal to 3 allows the data set to be easily labeled positive or negative, we can observe above that 7.6% of the rows were removed. This is okay since we understand what data is missing."
   ]
  },
  {
   "cell_type": "code",
   "execution_count": 7,
   "id": "1703388a",
   "metadata": {},
   "outputs": [
    {
     "data": {
      "text/plain": [
       "count     28054\n",
       "unique        2\n",
       "top         Pos\n",
       "freq      23228\n",
       "Name: Label, dtype: object"
      ]
     },
     "execution_count": 7,
     "metadata": {},
     "output_type": "execute_result"
    }
   ],
   "source": [
    "data[\"Label\"].describe()"
   ]
  },
  {
   "cell_type": "markdown",
   "id": "b1488874",
   "metadata": {},
   "source": [
    "We can see above that there are 23228 rows with Positive reviews meaning that there are a remaining 4826 rows with negative reviews, showing a significantly higher number of positive reviews compared to negative."
   ]
  },
  {
   "cell_type": "code",
   "execution_count": 8,
   "id": "2242b53e",
   "metadata": {},
   "outputs": [
    {
     "data": {
      "text/plain": [
       "count    28054.000000\n",
       "mean         4.233122\n",
       "std          1.373777\n",
       "min          1.000000\n",
       "25%          4.000000\n",
       "50%          5.000000\n",
       "75%          5.000000\n",
       "max          5.000000\n",
       "Name: Score, dtype: float64"
      ]
     },
     "execution_count": 8,
     "metadata": {},
     "output_type": "execute_result"
    }
   ],
   "source": [
    "data[\"Score\"].describe()"
   ]
  },
  {
   "cell_type": "markdown",
   "id": "4c3d9c45",
   "metadata": {},
   "source": [
    "This significant skew in the data is seen above in the Scores column, showing why there is such difference in frequency between the positive and negative reviews."
   ]
  },
  {
   "cell_type": "markdown",
   "id": "c8b94043",
   "metadata": {},
   "source": [
    "## 2. Data Cleaning"
   ]
  },
  {
   "cell_type": "markdown",
   "id": "14d11572",
   "metadata": {},
   "source": [
    "### Text Exploration"
   ]
  },
  {
   "cell_type": "markdown",
   "id": "3ca0d612",
   "metadata": {},
   "source": [
    "Review texts will be explored to see what isn't necessary when analysing the data. Below are a few text reviews that stood out as they had useless bits of information."
   ]
  },
  {
   "cell_type": "code",
   "execution_count": 9,
   "id": "08271923",
   "metadata": {},
   "outputs": [
    {
     "data": {
      "text/plain": [
       "'I WAS VISITING MY FRIEND NATE THE OTHER MORNING FOR COFFEE , HE CAME OUT OF HIS STORAGE ROOM WITH ( A PACKET OF McCANNS INSTANT IRISH OATMEAL .) HE SUGGESTED THAT I TRY IT FOR MY OWN USE ,IN MY STASH . SOMETIMES NATE DOSE NOT GIVE YOU A CHANCE TO SAY NO , SO I ENDED UP TRYING THE APPLE AND CINN . FOUND IT TO BE VERY TASTEFULL WHEN MADE WITH WATER OR POWDERED MILK . IT GOES GOOD WITH O.J. AND COFFEE AND A SLICE OF TOAST AND YOUR READY TO TAKE ON THE WORLD...OR THE DAY AT LEAST..  JERRY REITH...'"
      ]
     },
     "execution_count": 9,
     "metadata": {},
     "output_type": "execute_result"
    }
   ],
   "source": [
    "data.loc[4, \"Text\"]"
   ]
  },
  {
   "cell_type": "code",
   "execution_count": 10,
   "id": "2830ccbd",
   "metadata": {},
   "outputs": [
    {
     "data": {
      "text/plain": [
       "\"This wasn't in stock the last time I looked. I had to go to the Vermont Country Store in Weston to find it along with a jaw harp, Cranberry Horseradish Sauce, Fartless Black Bean Salsa, Apple Cider Jelly, Newton's Cradle Art in Motion and the staple Vermont Maple Syrup.<br /><br />Back to the Ass Kickin Peanuts. They are hot. They will activate the perspiration glands behind your ears and under your arms. It requires a beverage as advertised, a glass of very cold milk, and a box of Kleenex since it will make your nose run. They look like ordinary peanuts which is already giving me ideas for work. I suspect that some people have been hitting my goodies in my absence, especially my colleague Greg. I'm going to take this to work at earliest opportunity and empty the contents of this can into an ordinary Planters Peanuts can, and then see whose crying or whose nose is running when I return.<br /><br />The can should be shaken to ensure the spices are evenly distributed. It is important to wash your hands after consumption and not touch the eyes.<br /><br />You'll go nuts over these Ass-Kickin' Peanuts.<br /><br />P.S. I'm not sharing the peanuts, not deliberately, and I'll probably give Greg the jaw harp for Christmas. He'll be so insulted.\""
      ]
     },
     "execution_count": 10,
     "metadata": {},
     "output_type": "execute_result"
    }
   ],
   "source": [
    "data.loc[5, \"Text\"]"
   ]
  },
  {
   "cell_type": "code",
   "execution_count": 11,
   "id": "9b7b2702",
   "metadata": {
    "scrolled": false
   },
   "outputs": [
    {
     "data": {
      "text/plain": [
       "\"We roast these in a large cast iron pan on the grill (about 1/3 of the bag at a time).  The smell is wonderful and the roasted beans taste delicious too.  More importantly, the coffee is smooth; no bitter aftertaste.  On numerous occasions, we've had to send the roasted beans home with friends because they like it so much.\""
      ]
     },
     "execution_count": 11,
     "metadata": {},
     "output_type": "execute_result"
    }
   ],
   "source": [
    "data.loc[6, \"Text\"]"
   ]
  },
  {
   "cell_type": "markdown",
   "id": "aa59c24d",
   "metadata": {},
   "source": [
    "### Data Cleaning"
   ]
  },
  {
   "cell_type": "markdown",
   "id": "97a0db33",
   "metadata": {},
   "source": [
    "Texts that contained a parenthesis had a pattern of describing scenarios that didn't contribute to the rating of the product, for this reason parenthesis and the information inside of it will be removed. The Text must follow regular expression (regex) to search for patterns. Row 5 also had HTML elements that need to be removed \\<br>. Removal of weird characters that aren't need for regular expression (regex) will also be removed to help with pattern matching."
   ]
  },
  {
   "cell_type": "code",
   "execution_count": 12,
   "id": "717dded9",
   "metadata": {},
   "outputs": [],
   "source": [
    "import re\n",
    "\n",
    "def clean_text(text):\n",
    "    \n",
    "    # remove parenthesis and any information inside\n",
    "    re.sub(r'\\([^)]*\\)', ' ', text)\n",
    "    \n",
    "    # remove instances of br from HTML elements\n",
    "    text = text.replace(\"br\", \" \")\n",
    "    \n",
    "    # remove any weired characters that aren't useful for pattern matching\n",
    "    text = re.sub(r\"[^A-Za-z*'-]+\", \" \", text)\n",
    "    \n",
    "    # convert text to lowercase\n",
    "    text = text.lower().strip()\n",
    "    \n",
    "    return text"
   ]
  },
  {
   "cell_type": "code",
   "execution_count": 13,
   "id": "70312687",
   "metadata": {},
   "outputs": [
    {
     "name": "stderr",
     "output_type": "stream",
     "text": [
      "/tmp/ipykernel_138320/4245509868.py:1: SettingWithCopyWarning: \n",
      "A value is trying to be set on a copy of a slice from a DataFrame.\n",
      "Try using .loc[row_indexer,col_indexer] = value instead\n",
      "\n",
      "See the caveats in the documentation: https://pandas.pydata.org/pandas-docs/stable/user_guide/indexing.html#returning-a-view-versus-a-copy\n",
      "  data[\"Text\"] = data[\"Text\"].apply(clean_text)\n"
     ]
    }
   ],
   "source": [
    "data[\"Text\"] = data[\"Text\"].apply(clean_text)"
   ]
  },
  {
   "cell_type": "code",
   "execution_count": 14,
   "id": "f9653c7f",
   "metadata": {},
   "outputs": [
    {
     "data": {
      "text/plain": [
       "'i was visiting my friend nate the other morning for coffee he came out of his storage room with a packet of mccanns instant irish oatmeal he suggested that i try it for my own use in my stash sometimes nate dose not give you a chance to say no so i ended up trying the apple and cinn found it to be very tastefull when made with water or powdered milk it goes good with o j and coffee and a slice of toast and your ready to take on the world or the day at least jerry reith'"
      ]
     },
     "execution_count": 14,
     "metadata": {},
     "output_type": "execute_result"
    }
   ],
   "source": [
    "data.loc[4, \"Text\"]"
   ]
  },
  {
   "cell_type": "markdown",
   "id": "95ab9a5e",
   "metadata": {},
   "source": [
    "Above we can see that there are no more parenthesis or any of the information that was in them. Uppercased letters are also not present any more as well as non regex characters."
   ]
  },
  {
   "cell_type": "code",
   "execution_count": 15,
   "id": "7eb7ead0",
   "metadata": {},
   "outputs": [
    {
     "data": {
      "text/plain": [
       "\"this wasn't in stock the last time i looked i had to go to the vermont country store in weston to find it along with a jaw harp cranberry horseradish sauce fartless black bean salsa apple cider jelly newton's cradle art in motion and the staple vermont maple syrup back to the ass kickin peanuts they are hot they will activate the perspiration glands behind your ears and under your arms it requires a beverage as advertised a glass of very cold milk and a box of kleenex since it will make your nose run they look like ordinary peanuts which is already giving me ideas for work i suspect that some people have been hitting my goodies in my absence especially my colleague greg i'm going to take this to work at earliest opportunity and empty the contents of this can into an ordinary planters peanuts can and then see whose crying or whose nose is running when i return the can should be shaken to ensure the spices are evenly distributed it is important to wash your hands after consumption and not touch the eyes you'll go nuts over these ass-kickin' peanuts p s i'm not sharing the peanuts not deliberately and i'll probably give greg the jaw harp for christmas he'll be so insulted\""
      ]
     },
     "execution_count": 15,
     "metadata": {},
     "output_type": "execute_result"
    }
   ],
   "source": [
    "data.loc[5, \"Text\"]"
   ]
  },
  {
   "cell_type": "markdown",
   "id": "8ff38f2e",
   "metadata": {},
   "source": [
    "Above we can also observe that there are no more HTML elements present."
   ]
  },
  {
   "cell_type": "markdown",
   "id": "803965a4",
   "metadata": {},
   "source": [
    "## Data Analysis"
   ]
  },
  {
   "cell_type": "markdown",
   "id": "65811e3b",
   "metadata": {},
   "source": [
    "## 3. Build a logistic regression text classifier"
   ]
  },
  {
   "cell_type": "markdown",
   "id": "5aa0bcaf",
   "metadata": {},
   "source": [
    "The bag of words model was used to represent the natural language as numeric values where we can then perform analysis.\n",
    "\n",
    "As 70% of the reviews will be used for training and the other half for tests. The training data will be used to develop a text classification model, this will be done by correlating words that are present in texts to their 'pos' or 'neg' labels. "
   ]
  },
  {
   "cell_type": "code",
   "execution_count": 16,
   "id": "98c98130",
   "metadata": {},
   "outputs": [],
   "source": [
    "import numpy as np\n",
    "from sklearn.model_selection import train_test_split\n",
    "\n",
    "# define random state to make random processes reproducible\n",
    "random_state = np.random.RandomState(0)"
   ]
  },
  {
   "cell_type": "code",
   "execution_count": 17,
   "id": "4947c629",
   "metadata": {},
   "outputs": [],
   "source": [
    "# Define X(features) and y(target)\n",
    "X = data[\"Text\"]\n",
    "y = data[\"Label\"]\n",
    "\n",
    "# split the data into train-test split where 30% of data will be used as test set\n",
    "X_train, X_test, y_train, y_test = train_test_split(X, y, test_size=0.3, shuffle=True, random_state=random_state)"
   ]
  },
  {
   "cell_type": "markdown",
   "id": "60ce78a5",
   "metadata": {},
   "source": [
    "### Represent Text as bag of words"
   ]
  },
  {
   "cell_type": "markdown",
   "id": "fb19d6d0",
   "metadata": {},
   "source": [
    "Stop words or words that aren't useful for identifying sentiments, are initially removed. We also filter words that aren't present in many reviews. We create a count vector that counts the frequency of each word then transforms that into the bag of words format."
   ]
  },
  {
   "cell_type": "code",
   "execution_count": 18,
   "id": "b94ac968",
   "metadata": {},
   "outputs": [
    {
     "name": "stdout",
     "output_type": "stream",
     "text": [
      "Defaulting to user installation because normal site-packages is not writeable\n",
      "Requirement already satisfied: nltk in /home/s4626744/.local/lib/python3.9/site-packages (3.7)\n",
      "Requirement already satisfied: click in /usr/local/lib/python3.9/dist-packages (from nltk) (8.1.3)\n",
      "Requirement already satisfied: regex>=2021.8.3 in /usr/local/lib/python3.9/dist-packages (from nltk) (2022.7.9)\n",
      "Requirement already satisfied: joblib in /usr/local/lib/python3.9/dist-packages (from nltk) (1.1.0)\n",
      "Requirement already satisfied: tqdm in /home/s4626744/.local/lib/python3.9/site-packages (from nltk) (4.64.1)\n",
      "--- Logging error ---\n",
      "Traceback (most recent call last):\n",
      "  File \"/usr/local/lib/python3.9/dist-packages/pip/_internal/utils/logging.py\", line 177, in emit\n",
      "    self.console.print(renderable, overflow=\"ignore\", crop=False, style=style)\n",
      "  File \"/usr/local/lib/python3.9/dist-packages/pip/_vendor/rich/console.py\", line 1752, in print\n",
      "    extend(render(renderable, render_options))\n",
      "  File \"/usr/local/lib/python3.9/dist-packages/pip/_vendor/rich/console.py\", line 1390, in render\n",
      "    for render_output in iter_render:\n",
      "  File \"/usr/local/lib/python3.9/dist-packages/pip/_internal/utils/logging.py\", line 134, in __rich_console__\n",
      "    for line in lines:\n",
      "  File \"/usr/local/lib/python3.9/dist-packages/pip/_vendor/rich/segment.py\", line 245, in split_lines\n",
      "    for segment in segments:\n",
      "  File \"/usr/local/lib/python3.9/dist-packages/pip/_vendor/rich/console.py\", line 1368, in render\n",
      "    renderable = rich_cast(renderable)\n",
      "  File \"/usr/local/lib/python3.9/dist-packages/pip/_vendor/rich/protocol.py\", line 36, in rich_cast\n",
      "    renderable = cast_method()\n",
      "  File \"/usr/local/lib/python3.9/dist-packages/pip/_internal/self_outdated_check.py\", line 130, in __rich__\n",
      "    pip_cmd = get_best_invocation_for_this_pip()\n",
      "  File \"/usr/local/lib/python3.9/dist-packages/pip/_internal/utils/entrypoints.py\", line 58, in get_best_invocation_for_this_pip\n",
      "    if found_executable and os.path.samefile(\n",
      "  File \"/usr/lib/python3.9/genericpath.py\", line 101, in samefile\n",
      "    s2 = os.stat(f2)\n",
      "FileNotFoundError: [Errno 2] No such file or directory: '/usr/bin/pip'\n",
      "Call stack:\n",
      "  File \"/usr/local/bin/pip\", line 8, in <module>\n",
      "    sys.exit(main())\n",
      "  File \"/usr/local/lib/python3.9/dist-packages/pip/_internal/cli/main.py\", line 70, in main\n",
      "    return command.main(cmd_args)\n",
      "  File \"/usr/local/lib/python3.9/dist-packages/pip/_internal/cli/base_command.py\", line 101, in main\n",
      "    return self._main(args)\n",
      "  File \"/usr/local/lib/python3.9/dist-packages/pip/_internal/cli/base_command.py\", line 223, in _main\n",
      "    self.handle_pip_version_check(options)\n",
      "  File \"/usr/local/lib/python3.9/dist-packages/pip/_internal/cli/req_command.py\", line 148, in handle_pip_version_check\n",
      "    pip_self_version_check(session, options)\n",
      "  File \"/usr/local/lib/python3.9/dist-packages/pip/_internal/self_outdated_check.py\", line 237, in pip_self_version_check\n",
      "    logger.info(\"[present-rich] %s\", upgrade_prompt)\n",
      "  File \"/usr/lib/python3.9/logging/__init__.py\", line 1446, in info\n",
      "    self._log(INFO, msg, args, **kwargs)\n",
      "  File \"/usr/lib/python3.9/logging/__init__.py\", line 1589, in _log\n",
      "    self.handle(record)\n",
      "  File \"/usr/lib/python3.9/logging/__init__.py\", line 1599, in handle\n",
      "    self.callHandlers(record)\n",
      "  File \"/usr/lib/python3.9/logging/__init__.py\", line 1661, in callHandlers\n",
      "    hdlr.handle(record)\n",
      "  File \"/usr/lib/python3.9/logging/__init__.py\", line 952, in handle\n",
      "    self.emit(record)\n",
      "  File \"/usr/local/lib/python3.9/dist-packages/pip/_internal/utils/logging.py\", line 179, in emit\n",
      "    self.handleError(record)\n",
      "Message: '[present-rich] %s'\n",
      "Arguments: (UpgradePrompt(old='22.1.2', new='22.2.2'),)\n"
     ]
    },
    {
     "name": "stderr",
     "output_type": "stream",
     "text": [
      "[nltk_data] Downloading package stopwords to\n",
      "[nltk_data]     /home/s4626744/nltk_data...\n",
      "[nltk_data]   Package stopwords is already up-to-date!\n"
     ]
    }
   ],
   "source": [
    "from sklearn.feature_extraction.text import CountVectorizer\n",
    "!pip install nltk\n",
    "import nltk\n",
    "nltk.download('stopwords')\n",
    "from nltk.corpus import stopwords"
   ]
  },
  {
   "cell_type": "code",
   "execution_count": 19,
   "id": "85060c0c",
   "metadata": {},
   "outputs": [],
   "source": [
    "# Remove Words that aren't useful for identifying sentiments.\n",
    "stop_words = stopwords.words('english')"
   ]
  },
  {
   "cell_type": "code",
   "execution_count": 20,
   "id": "746c4f33",
   "metadata": {},
   "outputs": [],
   "source": [
    "# define CountVectorizer object\n",
    "# min_df=0.01 means words that belong to only 1% of the all texts will be excluded in the BOW\n",
    "vectorizer = CountVectorizer(stop_words=stopwords.words('english'), min_df=0.01)\n",
    "\n",
    "# fit the vectorizer object to train data\n",
    "vectorizer.fit(X_train)\n",
    "\n",
    "# get the BOW for train data\n",
    "X_train_BOW = vectorizer.transform(X_train)"
   ]
  },
  {
   "cell_type": "code",
   "execution_count": 21,
   "id": "b79fe26d",
   "metadata": {},
   "outputs": [
    {
     "name": "stderr",
     "output_type": "stream",
     "text": [
      "/usr/local/lib/python3.9/dist-packages/sklearn/utils/deprecation.py:87: FutureWarning: Function get_feature_names is deprecated; get_feature_names is deprecated in 1.0 and will be removed in 1.2. Please use get_feature_names_out instead.\n",
      "  warnings.warn(msg, category=FutureWarning)\n"
     ]
    },
    {
     "data": {
      "text/html": [
       "<div>\n",
       "<style scoped>\n",
       "    .dataframe tbody tr th:only-of-type {\n",
       "        vertical-align: middle;\n",
       "    }\n",
       "\n",
       "    .dataframe tbody tr th {\n",
       "        vertical-align: top;\n",
       "    }\n",
       "\n",
       "    .dataframe thead th {\n",
       "        text-align: right;\n",
       "    }\n",
       "</style>\n",
       "<table border=\"1\" class=\"dataframe\">\n",
       "  <thead>\n",
       "    <tr style=\"text-align: right;\">\n",
       "      <th></th>\n",
       "      <th>0</th>\n",
       "      <th>1</th>\n",
       "      <th>2</th>\n",
       "      <th>3</th>\n",
       "      <th>4</th>\n",
       "      <th>5</th>\n",
       "      <th>6</th>\n",
       "      <th>7</th>\n",
       "      <th>8</th>\n",
       "      <th>9</th>\n",
       "      <th>...</th>\n",
       "      <th>19627</th>\n",
       "      <th>19628</th>\n",
       "      <th>19629</th>\n",
       "      <th>19630</th>\n",
       "      <th>19631</th>\n",
       "      <th>19632</th>\n",
       "      <th>19633</th>\n",
       "      <th>19634</th>\n",
       "      <th>19635</th>\n",
       "      <th>19636</th>\n",
       "    </tr>\n",
       "  </thead>\n",
       "  <tbody>\n",
       "    <tr>\n",
       "      <th>able</th>\n",
       "      <td>0</td>\n",
       "      <td>0</td>\n",
       "      <td>0</td>\n",
       "      <td>0</td>\n",
       "      <td>0</td>\n",
       "      <td>0</td>\n",
       "      <td>0</td>\n",
       "      <td>0</td>\n",
       "      <td>0</td>\n",
       "      <td>0</td>\n",
       "      <td>...</td>\n",
       "      <td>0</td>\n",
       "      <td>0</td>\n",
       "      <td>0</td>\n",
       "      <td>1</td>\n",
       "      <td>0</td>\n",
       "      <td>1</td>\n",
       "      <td>0</td>\n",
       "      <td>0</td>\n",
       "      <td>0</td>\n",
       "      <td>0</td>\n",
       "    </tr>\n",
       "    <tr>\n",
       "      <th>absolutely</th>\n",
       "      <td>0</td>\n",
       "      <td>0</td>\n",
       "      <td>0</td>\n",
       "      <td>0</td>\n",
       "      <td>0</td>\n",
       "      <td>0</td>\n",
       "      <td>0</td>\n",
       "      <td>0</td>\n",
       "      <td>0</td>\n",
       "      <td>0</td>\n",
       "      <td>...</td>\n",
       "      <td>0</td>\n",
       "      <td>0</td>\n",
       "      <td>3</td>\n",
       "      <td>0</td>\n",
       "      <td>0</td>\n",
       "      <td>0</td>\n",
       "      <td>0</td>\n",
       "      <td>0</td>\n",
       "      <td>0</td>\n",
       "      <td>0</td>\n",
       "    </tr>\n",
       "    <tr>\n",
       "      <th>actually</th>\n",
       "      <td>0</td>\n",
       "      <td>0</td>\n",
       "      <td>0</td>\n",
       "      <td>0</td>\n",
       "      <td>0</td>\n",
       "      <td>0</td>\n",
       "      <td>0</td>\n",
       "      <td>1</td>\n",
       "      <td>0</td>\n",
       "      <td>0</td>\n",
       "      <td>...</td>\n",
       "      <td>0</td>\n",
       "      <td>0</td>\n",
       "      <td>0</td>\n",
       "      <td>0</td>\n",
       "      <td>0</td>\n",
       "      <td>1</td>\n",
       "      <td>0</td>\n",
       "      <td>0</td>\n",
       "      <td>0</td>\n",
       "      <td>0</td>\n",
       "    </tr>\n",
       "    <tr>\n",
       "      <th>add</th>\n",
       "      <td>0</td>\n",
       "      <td>0</td>\n",
       "      <td>0</td>\n",
       "      <td>0</td>\n",
       "      <td>0</td>\n",
       "      <td>0</td>\n",
       "      <td>0</td>\n",
       "      <td>0</td>\n",
       "      <td>0</td>\n",
       "      <td>1</td>\n",
       "      <td>...</td>\n",
       "      <td>0</td>\n",
       "      <td>0</td>\n",
       "      <td>0</td>\n",
       "      <td>0</td>\n",
       "      <td>0</td>\n",
       "      <td>0</td>\n",
       "      <td>0</td>\n",
       "      <td>1</td>\n",
       "      <td>0</td>\n",
       "      <td>0</td>\n",
       "    </tr>\n",
       "    <tr>\n",
       "      <th>added</th>\n",
       "      <td>0</td>\n",
       "      <td>0</td>\n",
       "      <td>0</td>\n",
       "      <td>0</td>\n",
       "      <td>0</td>\n",
       "      <td>0</td>\n",
       "      <td>0</td>\n",
       "      <td>0</td>\n",
       "      <td>0</td>\n",
       "      <td>0</td>\n",
       "      <td>...</td>\n",
       "      <td>0</td>\n",
       "      <td>0</td>\n",
       "      <td>0</td>\n",
       "      <td>0</td>\n",
       "      <td>0</td>\n",
       "      <td>0</td>\n",
       "      <td>0</td>\n",
       "      <td>0</td>\n",
       "      <td>0</td>\n",
       "      <td>0</td>\n",
       "    </tr>\n",
       "  </tbody>\n",
       "</table>\n",
       "<p>5 rows × 19637 columns</p>\n",
       "</div>"
      ],
      "text/plain": [
       "            0      1      2      3      4      5      6      7      8      \\\n",
       "able            0      0      0      0      0      0      0      0      0   \n",
       "absolutely      0      0      0      0      0      0      0      0      0   \n",
       "actually        0      0      0      0      0      0      0      1      0   \n",
       "add             0      0      0      0      0      0      0      0      0   \n",
       "added           0      0      0      0      0      0      0      0      0   \n",
       "\n",
       "            9      ...  19627  19628  19629  19630  19631  19632  19633  \\\n",
       "able            0  ...      0      0      0      1      0      1      0   \n",
       "absolutely      0  ...      0      0      3      0      0      0      0   \n",
       "actually        0  ...      0      0      0      0      0      1      0   \n",
       "add             1  ...      0      0      0      0      0      0      0   \n",
       "added           0  ...      0      0      0      0      0      0      0   \n",
       "\n",
       "            19634  19635  19636  \n",
       "able            0      0      0  \n",
       "absolutely      0      0      0  \n",
       "actually        0      0      0  \n",
       "add             1      0      0  \n",
       "added           0      0      0  \n",
       "\n",
       "[5 rows x 19637 columns]"
      ]
     },
     "execution_count": 21,
     "metadata": {},
     "output_type": "execute_result"
    }
   ],
   "source": [
    "# visualize BOW\n",
    "training_data_BOW = pd.DataFrame(data=X_train_BOW.toarray(), columns=vectorizer.get_feature_names()).T\n",
    "\n",
    "training_data_BOW.head(5)"
   ]
  },
  {
   "cell_type": "markdown",
   "id": "e3f0e496",
   "metadata": {},
   "source": [
    "Above we can observe the range of frequency between words from the more to less occuring."
   ]
  },
  {
   "cell_type": "markdown",
   "id": "44722bae",
   "metadata": {},
   "source": [
    "## 4. Logistic regression analysis"
   ]
  },
  {
   "cell_type": "markdown",
   "id": "5de8edad",
   "metadata": {},
   "source": [
    "### Baseline Model"
   ]
  },
  {
   "cell_type": "markdown",
   "id": "6d3e9f14",
   "metadata": {},
   "source": [
    "We identify the most frequent label in the data then assign that label to a while dataset to act as a reference point to draw comparisons with."
   ]
  },
  {
   "cell_type": "code",
   "execution_count": 22,
   "id": "71e5700a",
   "metadata": {},
   "outputs": [
    {
     "data": {
      "text/plain": [
       "Pos    16234\n",
       "Neg     3403\n",
       "Name: Label, dtype: int64"
      ]
     },
     "execution_count": 22,
     "metadata": {},
     "output_type": "execute_result"
    }
   ],
   "source": [
    "# identify most frequently occurring label in the train data\n",
    "y_train.value_counts()"
   ]
  },
  {
   "cell_type": "code",
   "execution_count": 23,
   "id": "875212fc",
   "metadata": {},
   "outputs": [],
   "source": [
    "# Assign Pos to dataset as it is the most frequent occuring value\n",
    "y_test_baseline_predictions = pd.Series(['Pos']*len(y_test))"
   ]
  },
  {
   "cell_type": "markdown",
   "id": "135d161f",
   "metadata": {},
   "source": [
    "### Logistic regression model"
   ]
  },
  {
   "cell_type": "markdown",
   "id": "04b81c84",
   "metadata": {},
   "source": [
    "The logistic regression model used will take the bag of words as input and will be used to predict whether the text has a 'Pos' or 'Neg' label. \n",
    "\n",
    "We will start with creating a logistic regression model and apply the bag of words derived from the training data and their corresponding labels to see which words correlate to 'pos' or 'neg' labels."
   ]
  },
  {
   "cell_type": "code",
   "execution_count": 24,
   "id": "aedbc854",
   "metadata": {},
   "outputs": [
    {
     "data": {
      "text/html": [
       "<style>#sk-container-id-1 {color: black;background-color: white;}#sk-container-id-1 pre{padding: 0;}#sk-container-id-1 div.sk-toggleable {background-color: white;}#sk-container-id-1 label.sk-toggleable__label {cursor: pointer;display: block;width: 100%;margin-bottom: 0;padding: 0.3em;box-sizing: border-box;text-align: center;}#sk-container-id-1 label.sk-toggleable__label-arrow:before {content: \"▸\";float: left;margin-right: 0.25em;color: #696969;}#sk-container-id-1 label.sk-toggleable__label-arrow:hover:before {color: black;}#sk-container-id-1 div.sk-estimator:hover label.sk-toggleable__label-arrow:before {color: black;}#sk-container-id-1 div.sk-toggleable__content {max-height: 0;max-width: 0;overflow: hidden;text-align: left;background-color: #f0f8ff;}#sk-container-id-1 div.sk-toggleable__content pre {margin: 0.2em;color: black;border-radius: 0.25em;background-color: #f0f8ff;}#sk-container-id-1 input.sk-toggleable__control:checked~div.sk-toggleable__content {max-height: 200px;max-width: 100%;overflow: auto;}#sk-container-id-1 input.sk-toggleable__control:checked~label.sk-toggleable__label-arrow:before {content: \"▾\";}#sk-container-id-1 div.sk-estimator input.sk-toggleable__control:checked~label.sk-toggleable__label {background-color: #d4ebff;}#sk-container-id-1 div.sk-label input.sk-toggleable__control:checked~label.sk-toggleable__label {background-color: #d4ebff;}#sk-container-id-1 input.sk-hidden--visually {border: 0;clip: rect(1px 1px 1px 1px);clip: rect(1px, 1px, 1px, 1px);height: 1px;margin: -1px;overflow: hidden;padding: 0;position: absolute;width: 1px;}#sk-container-id-1 div.sk-estimator {font-family: monospace;background-color: #f0f8ff;border: 1px dotted black;border-radius: 0.25em;box-sizing: border-box;margin-bottom: 0.5em;}#sk-container-id-1 div.sk-estimator:hover {background-color: #d4ebff;}#sk-container-id-1 div.sk-parallel-item::after {content: \"\";width: 100%;border-bottom: 1px solid gray;flex-grow: 1;}#sk-container-id-1 div.sk-label:hover label.sk-toggleable__label {background-color: #d4ebff;}#sk-container-id-1 div.sk-serial::before {content: \"\";position: absolute;border-left: 1px solid gray;box-sizing: border-box;top: 0;bottom: 0;left: 50%;z-index: 0;}#sk-container-id-1 div.sk-serial {display: flex;flex-direction: column;align-items: center;background-color: white;padding-right: 0.2em;padding-left: 0.2em;position: relative;}#sk-container-id-1 div.sk-item {position: relative;z-index: 1;}#sk-container-id-1 div.sk-parallel {display: flex;align-items: stretch;justify-content: center;background-color: white;position: relative;}#sk-container-id-1 div.sk-item::before, #sk-container-id-1 div.sk-parallel-item::before {content: \"\";position: absolute;border-left: 1px solid gray;box-sizing: border-box;top: 0;bottom: 0;left: 50%;z-index: -1;}#sk-container-id-1 div.sk-parallel-item {display: flex;flex-direction: column;z-index: 1;position: relative;background-color: white;}#sk-container-id-1 div.sk-parallel-item:first-child::after {align-self: flex-end;width: 50%;}#sk-container-id-1 div.sk-parallel-item:last-child::after {align-self: flex-start;width: 50%;}#sk-container-id-1 div.sk-parallel-item:only-child::after {width: 0;}#sk-container-id-1 div.sk-dashed-wrapped {border: 1px dashed gray;margin: 0 0.4em 0.5em 0.4em;box-sizing: border-box;padding-bottom: 0.4em;background-color: white;}#sk-container-id-1 div.sk-label label {font-family: monospace;font-weight: bold;display: inline-block;line-height: 1.2em;}#sk-container-id-1 div.sk-label-container {text-align: center;}#sk-container-id-1 div.sk-container {/* jupyter's `normalize.less` sets `[hidden] { display: none; }` but bootstrap.min.css set `[hidden] { display: none !important; }` so we also need the `!important` here to be able to override the default hidden behavior on the sphinx rendered scikit-learn.org. See: https://github.com/scikit-learn/scikit-learn/issues/21755 */display: inline-block !important;position: relative;}#sk-container-id-1 div.sk-text-repr-fallback {display: none;}</style><div id=\"sk-container-id-1\" class=\"sk-top-container\"><div class=\"sk-text-repr-fallback\"><pre>LogisticRegression(max_iter=102,\n",
       "                   random_state=RandomState(MT19937) at 0x7FFFA9049040)</pre><b>In a Jupyter environment, please rerun this cell to show the HTML representation or trust the notebook. <br />On GitHub, the HTML representation is unable to render, please try loading this page with nbviewer.org.</b></div><div class=\"sk-container\" hidden><div class=\"sk-item\"><div class=\"sk-estimator sk-toggleable\"><input class=\"sk-toggleable__control sk-hidden--visually\" id=\"sk-estimator-id-1\" type=\"checkbox\" checked><label for=\"sk-estimator-id-1\" class=\"sk-toggleable__label sk-toggleable__label-arrow\">LogisticRegression</label><div class=\"sk-toggleable__content\"><pre>LogisticRegression(max_iter=102,\n",
       "                   random_state=RandomState(MT19937) at 0x7FFFA9049040)</pre></div></div></div></div></div>"
      ],
      "text/plain": [
       "LogisticRegression(max_iter=102,\n",
       "                   random_state=RandomState(MT19937) at 0x7FFFA9049040)"
      ]
     },
     "execution_count": 24,
     "metadata": {},
     "output_type": "execute_result"
    }
   ],
   "source": [
    "from sklearn.linear_model import LogisticRegression\n",
    "\n",
    "# define logositic regression model object\n",
    "# increase number of iterations to 102 instead of the default 100. This allows it to converge.\n",
    "log_reg = LogisticRegression(random_state=random_state, max_iter=102)\n",
    "\n",
    "# fit the model to training data\n",
    "log_reg.fit(X_train_BOW, y_train)"
   ]
  },
  {
   "cell_type": "markdown",
   "id": "98fe20db",
   "metadata": {},
   "source": [
    "After the logistic regression converges and we create the regression model, we will use the prediction function to predict whether the review text had a 'pos' or 'neg' label. This will then be used for evaulations of the logistic regression."
   ]
  },
  {
   "cell_type": "code",
   "execution_count": 25,
   "id": "3d2b44cf",
   "metadata": {},
   "outputs": [
    {
     "data": {
      "text/plain": [
       "array(['Pos', 'Pos', 'Pos', ..., 'Pos', 'Neg', 'Pos'], dtype=object)"
      ]
     },
     "execution_count": 25,
     "metadata": {},
     "output_type": "execute_result"
    }
   ],
   "source": [
    "# create BOW for test data\n",
    "X_test_BOW = vectorizer.transform(X_test)\n",
    "\n",
    "# predict using log_reg object\n",
    "y_test_log_reg_predictions = log_reg.predict(X_test_BOW)\n",
    "\n",
    "# view the predictions\n",
    "y_test_log_reg_predictions"
   ]
  },
  {
   "cell_type": "markdown",
   "id": "cb9e3a37",
   "metadata": {},
   "source": [
    "As we have the predictions made, we will now evaluate the model."
   ]
  },
  {
   "cell_type": "markdown",
   "id": "3eb38c2f",
   "metadata": {},
   "source": [
    "### Model Evaluation"
   ]
  },
  {
   "cell_type": "markdown",
   "id": "990608ef",
   "metadata": {},
   "source": [
    "#### Confusion matrix"
   ]
  },
  {
   "cell_type": "markdown",
   "id": "d6540881",
   "metadata": {},
   "source": [
    "As the confusion matrix gives us values to calculate precision and recal values, it will be shown first."
   ]
  },
  {
   "cell_type": "markdown",
   "id": "80ba410c",
   "metadata": {},
   "source": [
    "##### Baseline model"
   ]
  },
  {
   "cell_type": "code",
   "execution_count": 26,
   "id": "8e600923",
   "metadata": {},
   "outputs": [
    {
     "data": {
      "image/png": "[encoded data removed]",
      "text/plain": [
       "<Figure size 432x288 with 2 Axes>"
      ]
     },
     "metadata": {
      "needs_background": "light"
     },
     "output_type": "display_data"
    }
   ],
   "source": [
    "from sklearn.metrics import ConfusionMatrixDisplay, confusion_matrix\n",
    "\n",
    "cm = confusion_matrix(y_test, y_test_baseline_predictions)\n",
    "display = ConfusionMatrixDisplay(confusion_matrix=cm, display_labels=log_reg.classes_)\n",
    "display.plot();"
   ]
  },
  {
   "cell_type": "markdown",
   "id": "d4d75cf0",
   "metadata": {},
   "source": [
    "- Model correctly identified 6994 positive review texts as positive. (True Positive - TP)\n",
    "- Model incorrectly identified 1423 negative review texts as positive. (False Positive - FP)"
   ]
  },
  {
   "cell_type": "markdown",
   "id": "2fc38b7e",
   "metadata": {},
   "source": [
    "##### Logistic regression model"
   ]
  },
  {
   "cell_type": "code",
   "execution_count": 27,
   "id": "c34e565c",
   "metadata": {},
   "outputs": [
    {
     "data": {
      "image/png": "[encoded data removed]",
      "text/plain": [
       "<Figure size 432x288 with 2 Axes>"
      ]
     },
     "metadata": {
      "needs_background": "light"
     },
     "output_type": "display_data"
    }
   ],
   "source": [
    "cm = confusion_matrix(y_test, y_test_log_reg_predictions)\n",
    "display = ConfusionMatrixDisplay(confusion_matrix=cm, display_labels=log_reg.classes_)\n",
    "display.plot();"
   ]
  },
  {
   "cell_type": "markdown",
   "id": "6bd5a433",
   "metadata": {},
   "source": [
    "- Model correctly identified 780 negative review texts as negative. (True Negative - TN)\n",
    "- Model correctly identified 6688 positive review texts as positive. (True Positive - TP)\n",
    "- Model incorrectly identified 306 positive review texts as negative. (False Negative - FN)\n",
    "- Model incorrectly identified 643 negative review texts as positive. (False Positive - FP)"
   ]
  },
  {
   "cell_type": "markdown",
   "id": "ab8e1ece",
   "metadata": {},
   "source": [
    "#### Report"
   ]
  },
  {
   "cell_type": "markdown",
   "id": "fe45029c",
   "metadata": {},
   "source": [
    "#### Accuracy"
   ]
  },
  {
   "cell_type": "code",
   "execution_count": 28,
   "id": "3c3d6e4a",
   "metadata": {},
   "outputs": [],
   "source": [
    "from sklearn.metrics import accuracy_score"
   ]
  },
  {
   "cell_type": "code",
   "execution_count": 29,
   "id": "b7fafc95",
   "metadata": {},
   "outputs": [
    {
     "data": {
      "text/plain": [
       "0.8309373886182726"
      ]
     },
     "execution_count": 29,
     "metadata": {},
     "output_type": "execute_result"
    }
   ],
   "source": [
    "# Accuracy on baseline predictions\n",
    "accuracy_score(y_test, y_test_baseline_predictions)"
   ]
  },
  {
   "cell_type": "code",
   "execution_count": 30,
   "id": "89287453",
   "metadata": {},
   "outputs": [
    {
     "data": {
      "text/plain": [
       "0.8872519900201972"
      ]
     },
     "execution_count": 30,
     "metadata": {},
     "output_type": "execute_result"
    }
   ],
   "source": [
    "# Accuracy on logisitical regression\n",
    "accuracy_score(y_test, y_test_log_reg_predictions)"
   ]
  },
  {
   "cell_type": "markdown",
   "id": "25dba008",
   "metadata": {},
   "source": [
    "#### Precision and recall"
   ]
  },
  {
   "cell_type": "markdown",
   "id": "96ecd196",
   "metadata": {},
   "source": [
    "Use precision and recall positive formulas but change the N to P and P to N\n",
    "- Precision for positive = TP/(TP+FP)\n",
    "- Precision for negative = TN/(TN+FN)\n",
    "- Recall for positive = TP/(TP+FN)\n",
    "- Recall for negative = TN/(TN+FP)"
   ]
  },
  {
   "cell_type": "markdown",
   "id": "a32c701b",
   "metadata": {},
   "source": [
    "***Baseline***\n",
    "- Precision = 0/(0+0) = 0\n",
    "- Recall = 0/(0+1423) = 0\n",
    "\n",
    "***Logistic regression***\n",
    "- Precision = 779/(779+305) = 779/1084 = 0.7186\n",
    "- Recall = 779/(779+644) = 779/1423 = 0.547"
   ]
  },
  {
   "cell_type": "markdown",
   "id": "ae52bd3b",
   "metadata": {},
   "source": [
    "#### f1-score"
   ]
  },
  {
   "cell_type": "code",
   "execution_count": 31,
   "id": "7632dd00",
   "metadata": {},
   "outputs": [
    {
     "data": {
      "text/plain": [
       "0.0"
      ]
     },
     "execution_count": 31,
     "metadata": {},
     "output_type": "execute_result"
    }
   ],
   "source": [
    "from sklearn.metrics import f1_score\n",
    "\n",
    "# f1 score for baseline\n",
    "f1_score(y_test, y_test_baseline_predictions, pos_label='Neg')"
   ]
  },
  {
   "cell_type": "code",
   "execution_count": 32,
   "id": "2a28318c",
   "metadata": {},
   "outputs": [
    {
     "data": {
      "text/plain": [
       "0.6217616580310881"
      ]
     },
     "execution_count": 32,
     "metadata": {},
     "output_type": "execute_result"
    }
   ],
   "source": [
    "# f1-score for logistic regression\n",
    "f1_score(y_test, y_test_log_reg_predictions, pos_label='Neg')"
   ]
  },
  {
   "cell_type": "markdown",
   "id": "d95738e9",
   "metadata": {},
   "source": [
    "#### Results"
   ]
  },
  {
   "cell_type": "markdown",
   "id": "1312099b",
   "metadata": {},
   "source": [
    "Baseline: {‘accuracy’:0.831, ‘precision’:0.0, ’recall’:0.0, ‘f1-score’:0.0}\n",
    "\n",
    "Logisticregression: {‘accuracy’:0.887, ‘precision’:0.719, ’recall’:0.547, ‘f1-score’:0.621}"
   ]
  },
  {
   "cell_type": "markdown",
   "id": "0fe1eef4",
   "metadata": {},
   "source": [
    "##### Accuracy Analysis"
   ]
  },
  {
   "cell_type": "markdown",
   "id": "013fb0c4",
   "metadata": {},
   "source": [
    "The high accuracy values of the logistic regression initially show that the accuracy of the prediction models is high however, the difference between the baseline and logistic regression accuracy is only 0.887 - 0.831 = 0.056 which isn't significant at all. This may be caused by the the significant imbalance between the positive to negative reviews which may have also led to misleading or inaccurate accuracy values."
   ]
  },
  {
   "cell_type": "markdown",
   "id": "87c55d28",
   "metadata": {},
   "source": [
    "##### f1-score analysis"
   ]
  },
  {
   "cell_type": "markdown",
   "id": "be2a459f",
   "metadata": {},
   "source": [
    "As the Baseline f1-score reports the negative cases, the value is 0 for the baseline as it only has positive labels present for the label. This indicates that the f1-score is completely invalid for the baseline. The 0.621 f1-score for the logistic regression value displays a more accurate representation of the data by using the precision and recall values so takes into account the imbalances. An f1-score of 0.621 shows an okay performance."
   ]
  },
  {
   "cell_type": "markdown",
   "id": "95f384fc",
   "metadata": {},
   "source": [
    "## 5. Predict Data"
   ]
  },
  {
   "cell_type": "markdown",
   "id": "b845a9f6",
   "metadata": {},
   "source": [
    "The logistic regression model we built previously will be used to predict the 'predictdata' csv. We will do so by creating a bag of words with \"predictdata\" which will then be inputed into the predict function of the logistic regression. This prediction will then be added as a new column called \"Model Prediction\"."
   ]
  },
  {
   "cell_type": "code",
   "execution_count": 33,
   "id": "e3255f7e",
   "metadata": {},
   "outputs": [],
   "source": [
    "predicted = pd.read_csv(filepath_or_buffer='predictdata.csv')"
   ]
  },
  {
   "cell_type": "code",
   "execution_count": 34,
   "id": "73ea9f5d",
   "metadata": {},
   "outputs": [],
   "source": [
    "# Clean the text using the previously used function so the texts are consistent with the data used to build the regression model.\n",
    "predicted[\"Text\"] = predicted[\"Text\"].apply(clean_text)"
   ]
  },
  {
   "cell_type": "code",
   "execution_count": 35,
   "id": "5d9d3e0b",
   "metadata": {},
   "outputs": [],
   "source": [
    "# Define X(features)\n",
    "X = predicted[\"Text\"]"
   ]
  },
  {
   "cell_type": "code",
   "execution_count": 36,
   "id": "7999062c",
   "metadata": {},
   "outputs": [
    {
     "data": {
      "text/plain": [
       "array(['Pos', 'Pos', 'Pos', 'Pos', 'Neg'], dtype=object)"
      ]
     },
     "execution_count": 36,
     "metadata": {},
     "output_type": "execute_result"
    }
   ],
   "source": [
    "# create BOW for predicted data data\n",
    "X_BOW = vectorizer.transform(X)\n",
    "\n",
    "# predict using log_reg object\n",
    "y_log_reg_predictions = log_reg.predict(X_BOW)\n",
    "\n",
    "# view the predictions\n",
    "y_log_reg_predictions"
   ]
  },
  {
   "cell_type": "code",
   "execution_count": 37,
   "id": "5bed3729",
   "metadata": {},
   "outputs": [
    {
     "data": {
      "text/html": [
       "<div>\n",
       "<style scoped>\n",
       "    .dataframe tbody tr th:only-of-type {\n",
       "        vertical-align: middle;\n",
       "    }\n",
       "\n",
       "    .dataframe tbody tr th {\n",
       "        vertical-align: top;\n",
       "    }\n",
       "\n",
       "    .dataframe thead th {\n",
       "        text-align: right;\n",
       "    }\n",
       "</style>\n",
       "<table border=\"1\" class=\"dataframe\">\n",
       "  <thead>\n",
       "    <tr style=\"text-align: right;\">\n",
       "      <th></th>\n",
       "      <th>Id</th>\n",
       "      <th>Text</th>\n",
       "      <th>Model Prediction</th>\n",
       "    </tr>\n",
       "  </thead>\n",
       "  <tbody>\n",
       "    <tr>\n",
       "      <th>0</th>\n",
       "      <td>1</td>\n",
       "      <td>the candy is tasty but they totally scam you o...</td>\n",
       "      <td>Pos</td>\n",
       "    </tr>\n",
       "    <tr>\n",
       "      <th>1</th>\n",
       "      <td>2</td>\n",
       "      <td>i had been looking for the violet candy with t...</td>\n",
       "      <td>Pos</td>\n",
       "    </tr>\n",
       "    <tr>\n",
       "      <th>2</th>\n",
       "      <td>3</td>\n",
       "      <td>these are very pricey so i only enjoy them now...</td>\n",
       "      <td>Pos</td>\n",
       "    </tr>\n",
       "    <tr>\n",
       "      <th>3</th>\n",
       "      <td>4</td>\n",
       "      <td>these candies have a mild flavor when compared...</td>\n",
       "      <td>Pos</td>\n",
       "    </tr>\n",
       "    <tr>\n",
       "      <th>4</th>\n",
       "      <td>5</td>\n",
       "      <td>this product is a bit pricey for the amt recei...</td>\n",
       "      <td>Neg</td>\n",
       "    </tr>\n",
       "  </tbody>\n",
       "</table>\n",
       "</div>"
      ],
      "text/plain": [
       "   Id                                               Text Model Prediction\n",
       "0   1  the candy is tasty but they totally scam you o...              Pos\n",
       "1   2  i had been looking for the violet candy with t...              Pos\n",
       "2   3  these are very pricey so i only enjoy them now...              Pos\n",
       "3   4  these candies have a mild flavor when compared...              Pos\n",
       "4   5  this product is a bit pricey for the amt recei...              Neg"
      ]
     },
     "execution_count": 37,
     "metadata": {},
     "output_type": "execute_result"
    }
   ],
   "source": [
    "predicted[\"Model Prediction\"] = y_log_reg_predictions\n",
    "predicted"
   ]
  },
  {
   "cell_type": "markdown",
   "id": "77456b0e",
   "metadata": {},
   "source": [
    "Above we can observe that the text has been predicted, we will now take a closer look to see if the Model Prediction is accurate."
   ]
  },
  {
   "cell_type": "markdown",
   "id": "a727cc67",
   "metadata": {},
   "source": [
    "### Evaluate Prediction"
   ]
  },
  {
   "cell_type": "markdown",
   "id": "1d050732",
   "metadata": {},
   "source": [
    "As there are only 5 text reviews, all rows will be investigated."
   ]
  },
  {
   "cell_type": "code",
   "execution_count": 38,
   "id": "798e5990",
   "metadata": {},
   "outputs": [
    {
     "data": {
      "text/plain": [
       "'the candy is tasty but they totally scam you on the price the jar is only the size of a soda can and looks absolutely nothing like the picture i will not be buying this again if your gonna sell something that small make the price around'"
      ]
     },
     "execution_count": 38,
     "metadata": {},
     "output_type": "execute_result"
    }
   ],
   "source": [
    "predicted.loc[0, \"Text\"]"
   ]
  },
  {
   "cell_type": "markdown",
   "id": "c29f2dc0",
   "metadata": {},
   "source": [
    "From reading the above text we can observe that the review is negative, in particular the phrase \"I will not be buying this again\" clearly highlights this. This model was predicted to be a positive review which isn't correct, leading to a false positive."
   ]
  },
  {
   "cell_type": "code",
   "execution_count": 39,
   "id": "1c6a8090",
   "metadata": {},
   "outputs": [
    {
     "data": {
      "text/plain": [
       "'i had been looking for the violet candy with the perfect balance of sweet and floral when i tried these the search has ended i am very pleased'"
      ]
     },
     "execution_count": 39,
     "metadata": {},
     "output_type": "execute_result"
    }
   ],
   "source": [
    "predicted.loc[1, \"Text\"]"
   ]
  },
  {
   "cell_type": "markdown",
   "id": "9c09201c",
   "metadata": {},
   "source": [
    "The positive is prediction is observed to be correct when reading the above review as the reviewer is pleased with their product, leading to a true positive result."
   ]
  },
  {
   "cell_type": "code",
   "execution_count": 40,
   "id": "8a3200c1",
   "metadata": {},
   "outputs": [
    {
     "data": {
      "text/plain": [
       "'these are very pricey so i only enjoy them now and then as a treat but the flavor is wonderfull and the packaging is very nice would make a wonderfull gift to send to someone who likes such dainties i will order again when i run out truly a nice treat'"
      ]
     },
     "execution_count": 40,
     "metadata": {},
     "output_type": "execute_result"
    }
   ],
   "source": [
    "predicted.loc[2, \"Text\"]"
   ]
  },
  {
   "cell_type": "code",
   "execution_count": 41,
   "id": "ccf577a4",
   "metadata": {},
   "outputs": [
    {
     "data": {
      "text/plain": [
       "\"these candies have a mild flavor when compared with choward's violet candy but they are delicious nevertheless i will definitely purchase these candies again\""
      ]
     },
     "execution_count": 41,
     "metadata": {},
     "output_type": "execute_result"
    }
   ],
   "source": [
    "predicted.loc[3, \"Text\"]"
   ]
  },
  {
   "cell_type": "markdown",
   "id": "665fefa6",
   "metadata": {},
   "source": [
    "As the reviewer indicates their interest in purchasing again, we can observe that the result is also a true positive."
   ]
  },
  {
   "cell_type": "code",
   "execution_count": 42,
   "id": "77d40676",
   "metadata": {},
   "outputs": [
    {
     "data": {
      "text/plain": [
       "'this product is a bit pricey for the amt received but i wanted the candy i chain sucked through paris and ifound it delivery was also quicker than i expected'"
      ]
     },
     "execution_count": 42,
     "metadata": {},
     "output_type": "execute_result"
    }
   ],
   "source": [
    "predicted.loc[4, \"Text\"]"
   ]
  },
  {
   "cell_type": "markdown",
   "id": "92092300",
   "metadata": {},
   "source": [
    "This review neither indicates a positive or negative result, this may be due to being neutral on the product which is a prediction that hasn't been accounted for."
   ]
  },
  {
   "cell_type": "markdown",
   "id": "9ce2e686",
   "metadata": {},
   "source": [
    "In summary, we can observe that there are 3 true positives, 1 false positive and 1 unknown. "
   ]
  },
  {
   "cell_type": "markdown",
   "id": "5329aa56",
   "metadata": {},
   "source": [
    "## 6. Most frequent words"
   ]
  },
  {
   "cell_type": "markdown",
   "id": "86432168",
   "metadata": {},
   "source": [
    "### Word Cloud"
   ]
  },
  {
   "cell_type": "code",
   "execution_count": 45,
   "id": "de33d0a8",
   "metadata": {},
   "outputs": [
    {
     "name": "stdout",
     "output_type": "stream",
     "text": [
      "Defaulting to user installation because normal site-packages is not writeable\n",
      "Requirement already satisfied: wordcloud in /home/s4626744/.local/lib/python3.9/site-packages (1.8.2.2)\n",
      "Requirement already satisfied: numpy>=1.6.1 in /usr/local/lib/python3.9/dist-packages (from wordcloud) (1.23.1)\n",
      "Requirement already satisfied: pillow in /usr/local/lib/python3.9/dist-packages (from wordcloud) (9.2.0)\n",
      "Requirement already satisfied: matplotlib in /usr/local/lib/python3.9/dist-packages (from wordcloud) (3.5.2)\n",
      "Requirement already satisfied: cycler>=0.10 in /usr/local/lib/python3.9/dist-packages (from matplotlib->wordcloud) (0.11.0)\n",
      "Requirement already satisfied: packaging>=20.0 in /usr/local/lib/python3.9/dist-packages (from matplotlib->wordcloud) (21.3)\n",
      "Requirement already satisfied: fonttools>=4.22.0 in /usr/local/lib/python3.9/dist-packages (from matplotlib->wordcloud) (4.34.4)\n",
      "Requirement already satisfied: python-dateutil>=2.7 in /usr/local/lib/python3.9/dist-packages (from matplotlib->wordcloud) (2.8.2)\n",
      "Requirement already satisfied: kiwisolver>=1.0.1 in /usr/local/lib/python3.9/dist-packages (from matplotlib->wordcloud) (1.4.3)\n",
      "Requirement already satisfied: pyparsing>=2.2.1 in /usr/local/lib/python3.9/dist-packages (from matplotlib->wordcloud) (3.0.9)\n",
      "Requirement already satisfied: six>=1.5 in /usr/local/lib/python3.9/dist-packages (from python-dateutil>=2.7->matplotlib->wordcloud) (1.16.0)\n",
      "--- Logging error ---\n",
      "Traceback (most recent call last):\n",
      "  File \"/usr/local/lib/python3.9/dist-packages/pip/_internal/utils/logging.py\", line 177, in emit\n",
      "    self.console.print(renderable, overflow=\"ignore\", crop=False, style=style)\n",
      "  File \"/usr/local/lib/python3.9/dist-packages/pip/_vendor/rich/console.py\", line 1752, in print\n",
      "    extend(render(renderable, render_options))\n",
      "  File \"/usr/local/lib/python3.9/dist-packages/pip/_vendor/rich/console.py\", line 1390, in render\n",
      "    for render_output in iter_render:\n",
      "  File \"/usr/local/lib/python3.9/dist-packages/pip/_internal/utils/logging.py\", line 134, in __rich_console__\n",
      "    for line in lines:\n",
      "  File \"/usr/local/lib/python3.9/dist-packages/pip/_vendor/rich/segment.py\", line 245, in split_lines\n",
      "    for segment in segments:\n",
      "  File \"/usr/local/lib/python3.9/dist-packages/pip/_vendor/rich/console.py\", line 1368, in render\n",
      "    renderable = rich_cast(renderable)\n",
      "  File \"/usr/local/lib/python3.9/dist-packages/pip/_vendor/rich/protocol.py\", line 36, in rich_cast\n",
      "    renderable = cast_method()\n",
      "  File \"/usr/local/lib/python3.9/dist-packages/pip/_internal/self_outdated_check.py\", line 130, in __rich__\n",
      "    pip_cmd = get_best_invocation_for_this_pip()\n",
      "  File \"/usr/local/lib/python3.9/dist-packages/pip/_internal/utils/entrypoints.py\", line 58, in get_best_invocation_for_this_pip\n",
      "    if found_executable and os.path.samefile(\n",
      "  File \"/usr/lib/python3.9/genericpath.py\", line 101, in samefile\n",
      "    s2 = os.stat(f2)\n",
      "FileNotFoundError: [Errno 2] No such file or directory: '/usr/bin/pip'\n",
      "Call stack:\n",
      "  File \"/usr/local/bin/pip\", line 8, in <module>\n",
      "    sys.exit(main())\n",
      "  File \"/usr/local/lib/python3.9/dist-packages/pip/_internal/cli/main.py\", line 70, in main\n",
      "    return command.main(cmd_args)\n",
      "  File \"/usr/local/lib/python3.9/dist-packages/pip/_internal/cli/base_command.py\", line 101, in main\n",
      "    return self._main(args)\n",
      "  File \"/usr/local/lib/python3.9/dist-packages/pip/_internal/cli/base_command.py\", line 223, in _main\n",
      "    self.handle_pip_version_check(options)\n",
      "  File \"/usr/local/lib/python3.9/dist-packages/pip/_internal/cli/req_command.py\", line 148, in handle_pip_version_check\n",
      "    pip_self_version_check(session, options)\n",
      "  File \"/usr/local/lib/python3.9/dist-packages/pip/_internal/self_outdated_check.py\", line 237, in pip_self_version_check\n",
      "    logger.info(\"[present-rich] %s\", upgrade_prompt)\n",
      "  File \"/usr/lib/python3.9/logging/__init__.py\", line 1446, in info\n",
      "    self._log(INFO, msg, args, **kwargs)\n",
      "  File \"/usr/lib/python3.9/logging/__init__.py\", line 1589, in _log\n",
      "    self.handle(record)\n",
      "  File \"/usr/lib/python3.9/logging/__init__.py\", line 1599, in handle\n",
      "    self.callHandlers(record)\n",
      "  File \"/usr/lib/python3.9/logging/__init__.py\", line 1661, in callHandlers\n",
      "    hdlr.handle(record)\n",
      "  File \"/usr/lib/python3.9/logging/__init__.py\", line 952, in handle\n",
      "    self.emit(record)\n",
      "  File \"/usr/local/lib/python3.9/dist-packages/pip/_internal/utils/logging.py\", line 179, in emit\n",
      "    self.handleError(record)\n",
      "Message: '[present-rich] %s'\n",
      "Arguments: (UpgradePrompt(old='22.1.2', new='22.2.2'),)\n"
     ]
    }
   ],
   "source": [
    "!pip install wordcloud\n",
    "from wordcloud import WordCloud\n",
    "from matplotlib import pyplot as plt"
   ]
  },
  {
   "cell_type": "code",
   "execution_count": 46,
   "id": "6ffe56de",
   "metadata": {},
   "outputs": [
    {
     "data": {
      "image/png": "[encoded data removed]",
      "text/plain": [
       "<Figure size 432x288 with 1 Axes>"
      ]
     },
     "metadata": {
      "needs_background": "light"
     },
     "output_type": "display_data"
    }
   ],
   "source": [
    "text = \" \".join(X_train)\n",
    "word_cloud = WordCloud(stopwords=set(stop_words)).generate(text)\n",
    "plt.imshow(word_cloud, interpolation='bilinear');"
   ]
  },
  {
   "cell_type": "markdown",
   "id": "cff14485",
   "metadata": {},
   "source": [
    "We can observe the most frequently used words above, a significant majority are describing the product and are also positive which is expected as a large majority of of the review scores were positive."
   ]
  },
  {
   "cell_type": "markdown",
   "id": "f53a7b02",
   "metadata": {},
   "source": [
    "### Identifying important words for predictions"
   ]
  },
  {
   "cell_type": "code",
   "execution_count": 47,
   "id": "b017d1a1",
   "metadata": {},
   "outputs": [],
   "source": [
    "# function adapted from https://aneesha.medium.com/visualising-top-features-in-linear-svm-with-scikit-learn-and-matplotlib-3454ab18a14d\n",
    "def plot_coefficients(classifier, feature_names, top_features=10):\n",
    "    coef = classifier.coef_.ravel()\n",
    "    top_positive_coefficients = np.argsort(coef)[-top_features:]\n",
    "    top_negative_coefficients = np.argsort(coef)[:top_features]\n",
    "    top_coefficients = np.hstack([top_negative_coefficients, top_positive_coefficients])\n",
    "    # create plot\n",
    "    plt.figure(figsize=(15, 5))\n",
    "    colors = ['red' if c < 0 else 'blue' for c in coef[top_coefficients]]\n",
    "    plt.bar(np.arange(2 * top_features), coef[top_coefficients], color=colors)\n",
    "    feature_names = np.array(feature_names)\n",
    "    plt.xticks(np.arange(0, 2 * top_features), feature_names[top_coefficients], rotation=90, ha='right')\n",
    "    plt.xlabel(\"Important Words\")\n",
    "    plt.ylabel(\"Model Coefficient\")\n",
    "    plt.title(\"Important words with their model coefficient\")\n",
    "    plt.show()"
   ]
  },
  {
   "cell_type": "code",
   "execution_count": 48,
   "id": "e345019a",
   "metadata": {
    "scrolled": true
   },
   "outputs": [
    {
     "name": "stderr",
     "output_type": "stream",
     "text": [
      "/usr/local/lib/python3.9/dist-packages/sklearn/utils/deprecation.py:87: FutureWarning: Function get_feature_names is deprecated; get_feature_names is deprecated in 1.0 and will be removed in 1.2. Please use get_feature_names_out instead.\n",
      "  warnings.warn(msg, category=FutureWarning)\n"
     ]
    },
    {
     "data": {
      "image/png": "[encoded data removed]",
      "text/plain": [
       "<Figure size 1080x360 with 1 Axes>"
      ]
     },
     "metadata": {
      "needs_background": "light"
     },
     "output_type": "display_data"
    }
   ],
   "source": [
    "plot_coefficients(log_reg, vectorizer.get_feature_names())"
   ]
  },
  {
   "cell_type": "markdown",
   "id": "718cf4b1",
   "metadata": {},
   "source": [
    "Above we can observe which words were most frequent in positive and negative scores, resulting in being important factors for predicting labels. The blue bars show the top 10 words with positive model coefficient values and the red bars show the top 10 words with negative model coefficient values. "
   ]
  },
  {
   "cell_type": "markdown",
   "id": "f092ddfb",
   "metadata": {},
   "source": [
    "## 7. Classifiction and unbalanced data"
   ]
  },
  {
   "cell_type": "markdown",
   "id": "2ed78ace",
   "metadata": {},
   "source": [
    "Unbalanced classification refers to a data set which has a disproportionate levels between observations. This can cause the data to be skewed and can result in misleading results in some classifier algorithm models.\n",
    "\n",
    "The issue with unbalanced is that there can be insufficient patterns in the minority class to get a comparable representation compared to the majority class, leading to misleading result values. Re-sampling is the most adopted practice in dealing with unblanced data due to its simplicity, this process can be done by oversampling (making copies of the minority class to match the the majority) and undersampling (removing copies of the majority class to match the minority class)."
   ]
  },
  {
   "cell_type": "markdown",
   "id": "5a7b6e64",
   "metadata": {},
   "source": [
    "References:\n",
    "- https://statisticalhorizons.com/logistic-regression-for-rare-events/\n",
    "- https://www.kdnuggets.com/2020/01/5-most-useful-techniques-handle-imbalanced-datasets.html"
   ]
  }
 ],
 "metadata": {
  "kernelspec": {
   "display_name": "Python 3 (ipykernel)",
   "language": "python",
   "name": "python3"
  },
  "language_info": {
   "codemirror_mode": {
    "name": "ipython",
    "version": 3
   },
   "file_extension": ".py",
   "mimetype": "text/x-python",
   "name": "python",
   "nbconvert_exporter": "python",
   "pygments_lexer": "ipython3",
   "version": "3.9.13"
  }
 },
 "nbformat": 4,
 "nbformat_minor": 5
}
