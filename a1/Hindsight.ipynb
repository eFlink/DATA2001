{
 "cells": [
  {
   "cell_type": "markdown",
   "id": "df3e8631",
   "metadata": {},
   "source": [
    "# Assignment 1"
   ]
  },
  {
   "cell_type": "markdown",
   "id": "0a2dd359",
   "metadata": {},
   "source": [
    "## Data set"
   ]
  },
  {
   "cell_type": "markdown",
   "id": "498906c7",
   "metadata": {},
   "source": [
    "The dataset for this assignment consists of penguin’s data. It contains body measurements, and\n",
    "isotope measurements from blood samples of three different penguin species which lived in the\n",
    "islands of the Palmer Archipelago, Antarctica. Data was collected from 2007 -2009, as a part of study\n",
    "done by Dr. Kristen Gorman and the Palmer Station, Antarctica LTER, a member of the Long Term\n",
    "Ecological Research Network."
   ]
  },
  {
   "cell_type": "markdown",
   "id": "2c19a8e0",
   "metadata": {},
   "source": [
    "## Load and prepare data"
   ]
  },
  {
   "cell_type": "markdown",
   "id": "7ed5af5c",
   "metadata": {},
   "source": [
    "Read the dataset using the “pandas” library. Can you identify any missing\n",
    "data both row and column wise in the dataset? Handle them in an appropriate way. Explain\n",
    "how you did it along with a justification for your choices."
   ]
  },
  {
   "cell_type": "code",
   "execution_count": 2,
   "id": "56960a35",
   "metadata": {
    "scrolled": false
   },
   "outputs": [
    {
     "data": {
      "text/html": [
       "<div>\n",
       "<style scoped>\n",
       "    .dataframe tbody tr th:only-of-type {\n",
       "        vertical-align: middle;\n",
       "    }\n",
       "\n",
       "    .dataframe tbody tr th {\n",
       "        vertical-align: top;\n",
       "    }\n",
       "\n",
       "    .dataframe thead th {\n",
       "        text-align: right;\n",
       "    }\n",
       "</style>\n",
       "<table border=\"1\" class=\"dataframe\">\n",
       "  <thead>\n",
       "    <tr style=\"text-align: right;\">\n",
       "      <th></th>\n",
       "      <th>studyName</th>\n",
       "      <th>Sample Number</th>\n",
       "      <th>Species</th>\n",
       "      <th>Region</th>\n",
       "      <th>Island</th>\n",
       "      <th>Stage</th>\n",
       "      <th>Individual ID</th>\n",
       "      <th>Clutch Completion</th>\n",
       "      <th>Date Egg</th>\n",
       "      <th>Culmen Length (mm)</th>\n",
       "      <th>Culmen Depth (mm)</th>\n",
       "      <th>Flipper Length (mm)</th>\n",
       "      <th>Body Mass (g)</th>\n",
       "      <th>Sex</th>\n",
       "      <th>Delta 15 N (o/oo)</th>\n",
       "      <th>Delta 13 C (o/oo)</th>\n",
       "      <th>Comments</th>\n",
       "    </tr>\n",
       "  </thead>\n",
       "  <tbody>\n",
       "    <tr>\n",
       "      <th>0</th>\n",
       "      <td>PAL0708</td>\n",
       "      <td>1</td>\n",
       "      <td>Adelie Penguin (Pygoscelis adeliae)</td>\n",
       "      <td>Anvers</td>\n",
       "      <td>Torgersen</td>\n",
       "      <td>Adult, 1 Egg Stage</td>\n",
       "      <td>N1A1</td>\n",
       "      <td>Yes</td>\n",
       "      <td>11/11/07</td>\n",
       "      <td>39.1</td>\n",
       "      <td>18.7</td>\n",
       "      <td>181.0</td>\n",
       "      <td>3750.0</td>\n",
       "      <td>MALE</td>\n",
       "      <td>NaN</td>\n",
       "      <td>NaN</td>\n",
       "      <td>Not enough blood for isotopes.</td>\n",
       "    </tr>\n",
       "    <tr>\n",
       "      <th>1</th>\n",
       "      <td>PAL0708</td>\n",
       "      <td>2</td>\n",
       "      <td>Adelie Penguin (Pygoscelis adeliae)</td>\n",
       "      <td>Anvers</td>\n",
       "      <td>Torgersen</td>\n",
       "      <td>Adult, 1 Egg Stage</td>\n",
       "      <td>N1A2</td>\n",
       "      <td>Yes</td>\n",
       "      <td>11/11/07</td>\n",
       "      <td>39.5</td>\n",
       "      <td>17.4</td>\n",
       "      <td>186.0</td>\n",
       "      <td>3800.0</td>\n",
       "      <td>FEMALE</td>\n",
       "      <td>8.94956</td>\n",
       "      <td>-24.69454</td>\n",
       "      <td>NaN</td>\n",
       "    </tr>\n",
       "    <tr>\n",
       "      <th>2</th>\n",
       "      <td>PAL0708</td>\n",
       "      <td>3</td>\n",
       "      <td>Adelie Penguin (Pygoscelis adeliae)</td>\n",
       "      <td>Anvers</td>\n",
       "      <td>Torgersen</td>\n",
       "      <td>Adult, 1 Egg Stage</td>\n",
       "      <td>N2A1</td>\n",
       "      <td>Yes</td>\n",
       "      <td>11/16/07</td>\n",
       "      <td>40.3</td>\n",
       "      <td>18.0</td>\n",
       "      <td>195.0</td>\n",
       "      <td>3250.0</td>\n",
       "      <td>FEMALE</td>\n",
       "      <td>8.36821</td>\n",
       "      <td>-25.33302</td>\n",
       "      <td>NaN</td>\n",
       "    </tr>\n",
       "    <tr>\n",
       "      <th>3</th>\n",
       "      <td>PAL0708</td>\n",
       "      <td>4</td>\n",
       "      <td>Adelie Penguin (Pygoscelis adeliae)</td>\n",
       "      <td>Anvers</td>\n",
       "      <td>Torgersen</td>\n",
       "      <td>Adult, 1 Egg Stage</td>\n",
       "      <td>N2A2</td>\n",
       "      <td>Yes</td>\n",
       "      <td>11/16/07</td>\n",
       "      <td>NaN</td>\n",
       "      <td>NaN</td>\n",
       "      <td>NaN</td>\n",
       "      <td>NaN</td>\n",
       "      <td>NaN</td>\n",
       "      <td>NaN</td>\n",
       "      <td>NaN</td>\n",
       "      <td>Adult not sampled.</td>\n",
       "    </tr>\n",
       "    <tr>\n",
       "      <th>4</th>\n",
       "      <td>PAL0708</td>\n",
       "      <td>5</td>\n",
       "      <td>Adelie Penguin (Pygoscelis adeliae)</td>\n",
       "      <td>Anvers</td>\n",
       "      <td>Torgersen</td>\n",
       "      <td>Adult, 1 Egg Stage</td>\n",
       "      <td>N3A1</td>\n",
       "      <td>Yes</td>\n",
       "      <td>11/16/07</td>\n",
       "      <td>36.7</td>\n",
       "      <td>19.3</td>\n",
       "      <td>193.0</td>\n",
       "      <td>3450.0</td>\n",
       "      <td>FEMALE</td>\n",
       "      <td>8.76651</td>\n",
       "      <td>-25.32426</td>\n",
       "      <td>NaN</td>\n",
       "    </tr>\n",
       "    <tr>\n",
       "      <th>5</th>\n",
       "      <td>PAL0708</td>\n",
       "      <td>6</td>\n",
       "      <td>Adelie Penguin (Pygoscelis adeliae)</td>\n",
       "      <td>Anvers</td>\n",
       "      <td>Torgersen</td>\n",
       "      <td>Adult, 1 Egg Stage</td>\n",
       "      <td>N3A2</td>\n",
       "      <td>Yes</td>\n",
       "      <td>11/16/07</td>\n",
       "      <td>39.3</td>\n",
       "      <td>20.6</td>\n",
       "      <td>190.0</td>\n",
       "      <td>3650.0</td>\n",
       "      <td>MALE</td>\n",
       "      <td>8.66496</td>\n",
       "      <td>-25.29805</td>\n",
       "      <td>NaN</td>\n",
       "    </tr>\n",
       "    <tr>\n",
       "      <th>6</th>\n",
       "      <td>PAL0708</td>\n",
       "      <td>7</td>\n",
       "      <td>Adelie Penguin (Pygoscelis adeliae)</td>\n",
       "      <td>Anvers</td>\n",
       "      <td>Torgersen</td>\n",
       "      <td>Adult, 1 Egg Stage</td>\n",
       "      <td>N4A1</td>\n",
       "      <td>No</td>\n",
       "      <td>11/15/07</td>\n",
       "      <td>38.9</td>\n",
       "      <td>17.8</td>\n",
       "      <td>181.0</td>\n",
       "      <td>3625.0</td>\n",
       "      <td>FEMALE</td>\n",
       "      <td>9.18718</td>\n",
       "      <td>-25.21799</td>\n",
       "      <td>Nest never observed with full clutch.</td>\n",
       "    </tr>\n",
       "    <tr>\n",
       "      <th>7</th>\n",
       "      <td>PAL0708</td>\n",
       "      <td>8</td>\n",
       "      <td>Adelie Penguin (Pygoscelis adeliae)</td>\n",
       "      <td>Anvers</td>\n",
       "      <td>Torgersen</td>\n",
       "      <td>Adult, 1 Egg Stage</td>\n",
       "      <td>N4A2</td>\n",
       "      <td>No</td>\n",
       "      <td>11/15/07</td>\n",
       "      <td>39.2</td>\n",
       "      <td>19.6</td>\n",
       "      <td>195.0</td>\n",
       "      <td>4675.0</td>\n",
       "      <td>MALE</td>\n",
       "      <td>9.46060</td>\n",
       "      <td>-24.89958</td>\n",
       "      <td>Nest never observed with full clutch.</td>\n",
       "    </tr>\n",
       "    <tr>\n",
       "      <th>8</th>\n",
       "      <td>PAL0708</td>\n",
       "      <td>9</td>\n",
       "      <td>Adelie Penguin (Pygoscelis adeliae)</td>\n",
       "      <td>Anvers</td>\n",
       "      <td>Torgersen</td>\n",
       "      <td>Adult, 1 Egg Stage</td>\n",
       "      <td>N5A1</td>\n",
       "      <td>Yes</td>\n",
       "      <td>11/9/07</td>\n",
       "      <td>34.1</td>\n",
       "      <td>18.1</td>\n",
       "      <td>193.0</td>\n",
       "      <td>3475.0</td>\n",
       "      <td>NaN</td>\n",
       "      <td>NaN</td>\n",
       "      <td>NaN</td>\n",
       "      <td>No blood sample obtained.</td>\n",
       "    </tr>\n",
       "    <tr>\n",
       "      <th>9</th>\n",
       "      <td>PAL0708</td>\n",
       "      <td>10</td>\n",
       "      <td>Adelie Penguin (Pygoscelis adeliae)</td>\n",
       "      <td>Anvers</td>\n",
       "      <td>Torgersen</td>\n",
       "      <td>Adult, 1 Egg Stage</td>\n",
       "      <td>N5A2</td>\n",
       "      <td>Yes</td>\n",
       "      <td>11/9/07</td>\n",
       "      <td>42.0</td>\n",
       "      <td>20.2</td>\n",
       "      <td>190.0</td>\n",
       "      <td>4250.0</td>\n",
       "      <td>NaN</td>\n",
       "      <td>9.13362</td>\n",
       "      <td>-25.09368</td>\n",
       "      <td>No blood sample obtained for sexing.</td>\n",
       "    </tr>\n",
       "  </tbody>\n",
       "</table>\n",
       "</div>"
      ],
      "text/plain": [
       "  studyName  Sample Number                              Species  Region  \\\n",
       "0   PAL0708              1  Adelie Penguin (Pygoscelis adeliae)  Anvers   \n",
       "1   PAL0708              2  Adelie Penguin (Pygoscelis adeliae)  Anvers   \n",
       "2   PAL0708              3  Adelie Penguin (Pygoscelis adeliae)  Anvers   \n",
       "3   PAL0708              4  Adelie Penguin (Pygoscelis adeliae)  Anvers   \n",
       "4   PAL0708              5  Adelie Penguin (Pygoscelis adeliae)  Anvers   \n",
       "5   PAL0708              6  Adelie Penguin (Pygoscelis adeliae)  Anvers   \n",
       "6   PAL0708              7  Adelie Penguin (Pygoscelis adeliae)  Anvers   \n",
       "7   PAL0708              8  Adelie Penguin (Pygoscelis adeliae)  Anvers   \n",
       "8   PAL0708              9  Adelie Penguin (Pygoscelis adeliae)  Anvers   \n",
       "9   PAL0708             10  Adelie Penguin (Pygoscelis adeliae)  Anvers   \n",
       "\n",
       "      Island               Stage Individual ID Clutch Completion  Date Egg  \\\n",
       "0  Torgersen  Adult, 1 Egg Stage          N1A1               Yes  11/11/07   \n",
       "1  Torgersen  Adult, 1 Egg Stage          N1A2               Yes  11/11/07   \n",
       "2  Torgersen  Adult, 1 Egg Stage          N2A1               Yes  11/16/07   \n",
       "3  Torgersen  Adult, 1 Egg Stage          N2A2               Yes  11/16/07   \n",
       "4  Torgersen  Adult, 1 Egg Stage          N3A1               Yes  11/16/07   \n",
       "5  Torgersen  Adult, 1 Egg Stage          N3A2               Yes  11/16/07   \n",
       "6  Torgersen  Adult, 1 Egg Stage          N4A1                No  11/15/07   \n",
       "7  Torgersen  Adult, 1 Egg Stage          N4A2                No  11/15/07   \n",
       "8  Torgersen  Adult, 1 Egg Stage          N5A1               Yes   11/9/07   \n",
       "9  Torgersen  Adult, 1 Egg Stage          N5A2               Yes   11/9/07   \n",
       "\n",
       "   Culmen Length (mm)  Culmen Depth (mm)  Flipper Length (mm)  Body Mass (g)  \\\n",
       "0                39.1               18.7                181.0         3750.0   \n",
       "1                39.5               17.4                186.0         3800.0   \n",
       "2                40.3               18.0                195.0         3250.0   \n",
       "3                 NaN                NaN                  NaN            NaN   \n",
       "4                36.7               19.3                193.0         3450.0   \n",
       "5                39.3               20.6                190.0         3650.0   \n",
       "6                38.9               17.8                181.0         3625.0   \n",
       "7                39.2               19.6                195.0         4675.0   \n",
       "8                34.1               18.1                193.0         3475.0   \n",
       "9                42.0               20.2                190.0         4250.0   \n",
       "\n",
       "      Sex  Delta 15 N (o/oo)  Delta 13 C (o/oo)  \\\n",
       "0    MALE                NaN                NaN   \n",
       "1  FEMALE            8.94956          -24.69454   \n",
       "2  FEMALE            8.36821          -25.33302   \n",
       "3     NaN                NaN                NaN   \n",
       "4  FEMALE            8.76651          -25.32426   \n",
       "5    MALE            8.66496          -25.29805   \n",
       "6  FEMALE            9.18718          -25.21799   \n",
       "7    MALE            9.46060          -24.89958   \n",
       "8     NaN                NaN                NaN   \n",
       "9     NaN            9.13362          -25.09368   \n",
       "\n",
       "                                Comments  \n",
       "0         Not enough blood for isotopes.  \n",
       "1                                    NaN  \n",
       "2                                    NaN  \n",
       "3                     Adult not sampled.  \n",
       "4                                    NaN  \n",
       "5                                    NaN  \n",
       "6  Nest never observed with full clutch.  \n",
       "7  Nest never observed with full clutch.  \n",
       "8              No blood sample obtained.  \n",
       "9   No blood sample obtained for sexing.  "
      ]
     },
     "execution_count": 2,
     "metadata": {},
     "output_type": "execute_result"
    }
   ],
   "source": [
    "# import pandas library\n",
    "import pandas as pd\n",
    "\n",
    "# load the data\n",
    "penguin_information = pd.read_csv(filepath_or_buffer='penguins_lter.csv')\n",
    "\n",
    "# view first few rows of the data\n",
    "penguin_information.head(10)"
   ]
  },
  {
   "cell_type": "markdown",
   "id": "c0a8b511",
   "metadata": {},
   "source": [
    "From what we can tell through the first 10 rows of data, comments are present under 2 circumstances, the first is if there's missing data or if the clutch completion was incomplete."
   ]
  },
  {
   "cell_type": "markdown",
   "id": "d6f62f24",
   "metadata": {},
   "source": [
    "### Task 1"
   ]
  },
  {
   "cell_type": "code",
   "execution_count": 3,
   "id": "c652cf72",
   "metadata": {},
   "outputs": [
    {
     "name": "stdout",
     "output_type": "stream",
     "text": [
      "<class 'pandas.core.frame.DataFrame'>\n",
      "RangeIndex: 344 entries, 0 to 343\n",
      "Data columns (total 17 columns):\n",
      " #   Column               Non-Null Count  Dtype  \n",
      "---  ------               --------------  -----  \n",
      " 0   studyName            344 non-null    object \n",
      " 1   Sample Number        344 non-null    int64  \n",
      " 2   Species              344 non-null    object \n",
      " 3   Region               344 non-null    object \n",
      " 4   Island               344 non-null    object \n",
      " 5   Stage                344 non-null    object \n",
      " 6   Individual ID        344 non-null    object \n",
      " 7   Clutch Completion    344 non-null    object \n",
      " 8   Date Egg             344 non-null    object \n",
      " 9   Culmen Length (mm)   342 non-null    float64\n",
      " 10  Culmen Depth (mm)    342 non-null    float64\n",
      " 11  Flipper Length (mm)  342 non-null    float64\n",
      " 12  Body Mass (g)        342 non-null    float64\n",
      " 13  Sex                  334 non-null    object \n",
      " 14  Delta 15 N (o/oo)    330 non-null    float64\n",
      " 15  Delta 13 C (o/oo)    331 non-null    float64\n",
      " 16  Comments             26 non-null     object \n",
      "dtypes: float64(6), int64(1), object(10)\n",
      "memory usage: 45.8+ KB\n"
     ]
    }
   ],
   "source": [
    "penguin_information.info()"
   ]
  },
  {
   "cell_type": "markdown",
   "id": "6242c94b",
   "metadata": {},
   "source": [
    "The columns include quantitative and qualitative data, with values from both data types not being present."
   ]
  },
  {
   "cell_type": "code",
   "execution_count": 4,
   "id": "3292cbf5",
   "metadata": {
    "scrolled": true
   },
   "outputs": [
    {
     "data": {
      "text/plain": [
       "studyName                0\n",
       "Sample Number            0\n",
       "Species                  0\n",
       "Region                   0\n",
       "Island                   0\n",
       "Stage                    0\n",
       "Individual ID            0\n",
       "Clutch Completion        0\n",
       "Date Egg                 0\n",
       "Culmen Length (mm)       2\n",
       "Culmen Depth (mm)        2\n",
       "Flipper Length (mm)      2\n",
       "Body Mass (g)            2\n",
       "Sex                     10\n",
       "Delta 15 N (o/oo)       14\n",
       "Delta 13 C (o/oo)       13\n",
       "Comments               318\n",
       "dtype: int64"
      ]
     },
     "execution_count": 4,
     "metadata": {},
     "output_type": "execute_result"
    }
   ],
   "source": [
    "penguin_information.isna().sum()"
   ]
  },
  {
   "cell_type": "markdown",
   "id": "fd07fd7b",
   "metadata": {},
   "source": [
    "Currently, missing quantitative data values are the culmen length and depth, flipper length, body mass, Delta 15 N (o/oo), and Delta 13 C (o/oo). The missing qualitative data values are sex and comments, comments are present to explain why other data values aren't present so this can be ignored. This was observed previously through the first 10 rows."
   ]
  },
  {
   "cell_type": "markdown",
   "id": "aca46a34",
   "metadata": {},
   "source": [
    "### Culmen Length and Depth, Flipper Length, and Body Mass"
   ]
  },
  {
   "cell_type": "markdown",
   "id": "bad5d526",
   "metadata": {},
   "source": [
    "As the columns, Culmen Length and Depth, Flipper Length and Body Mass have a low amount of missing values, mean imputation will be used for all of these values which won't significantly shrink standard errors."
   ]
  },
  {
   "cell_type": "code",
   "execution_count": 5,
   "id": "776adc64",
   "metadata": {},
   "outputs": [],
   "source": [
    "# mean of non-missing Culmen Length values\n",
    "non_missing_culmen_length = penguin_information[penguin_information.notna()][\"Culmen Length (mm)\"].mean()\n",
    "\n",
    "# fill Culmen Length values with the above mean\n",
    "penguin_information[\"Culmen Length (mm)\"].fillna(non_missing_culmen_length, inplace=True)\n",
    "\n",
    "# mean of non-missing Culmen Depth values\n",
    "non_missing_culmen_depth = penguin_information[penguin_information.notna()][\"Culmen Depth (mm)\"].mean()\n",
    "\n",
    "# fill Culmen Depth values with the above mean\n",
    "penguin_information[\"Culmen Depth (mm)\"].fillna(non_missing_culmen_depth, inplace=True)\n",
    "\n",
    "# mean of non-missing Flipper Length values\n",
    "non_missing_flipper_length = penguin_information[penguin_information.notna()][\"Flipper Length (mm)\"].mean()\n",
    "\n",
    "# fill Flipper Length values with the above mean\n",
    "penguin_information[\"Flipper Length (mm)\"].fillna(non_missing_flipper_length, inplace=True)\n",
    "\n",
    "# mean of non-missing Flipper Length values\n",
    "non_missing_flipper_length = penguin_information[penguin_information.notna()][\"Flipper Length (mm)\"].mean()\n",
    "\n",
    "# fill Flipper Length values with the above mean\n",
    "penguin_information[\"Flipper Length (mm)\"].fillna(non_missing_flipper_length, inplace=True)\n",
    "\n",
    "# mean of non-missing Body Mass values\n",
    "non_missing_body_mass = penguin_information[penguin_information.notna()][\"Body Mass (g)\"].mean()\n",
    "\n",
    "# fill Body Mass values with the above mean\n",
    "penguin_information[\"Body Mass (g)\"].fillna(non_missing_body_mass, inplace=True)"
   ]
  },
  {
   "cell_type": "code",
   "execution_count": 6,
   "id": "316cf8ea",
   "metadata": {},
   "outputs": [
    {
     "data": {
      "text/plain": [
       "studyName                0\n",
       "Sample Number            0\n",
       "Species                  0\n",
       "Region                   0\n",
       "Island                   0\n",
       "Stage                    0\n",
       "Individual ID            0\n",
       "Clutch Completion        0\n",
       "Date Egg                 0\n",
       "Culmen Length (mm)       0\n",
       "Culmen Depth (mm)        0\n",
       "Flipper Length (mm)      0\n",
       "Body Mass (g)            0\n",
       "Sex                     10\n",
       "Delta 15 N (o/oo)       14\n",
       "Delta 13 C (o/oo)       13\n",
       "Comments               318\n",
       "dtype: int64"
      ]
     },
     "execution_count": 6,
     "metadata": {},
     "output_type": "execute_result"
    }
   ],
   "source": [
    "penguin_information.isna().sum()"
   ]
  },
  {
   "cell_type": "markdown",
   "id": "1cf90ea7",
   "metadata": {},
   "source": [
    "We Can see that the Culmen Length and Depth, Flipper Length and Body Mass don't have any more missing values."
   ]
  },
  {
   "cell_type": "markdown",
   "id": "3ea3e434",
   "metadata": {},
   "source": [
    "### Sex"
   ]
  },
  {
   "cell_type": "code",
   "execution_count": 7,
   "id": "feb31ab3",
   "metadata": {},
   "outputs": [
    {
     "data": {
      "text/plain": [
       "MALE      168\n",
       "FEMALE    165\n",
       ".           1\n",
       "Name: Sex, dtype: int64"
      ]
     },
     "execution_count": 7,
     "metadata": {},
     "output_type": "execute_result"
    }
   ],
   "source": [
    "penguin_information[\"Sex\"].value_counts()"
   ]
  },
  {
   "cell_type": "markdown",
   "id": "fdb3098b",
   "metadata": {},
   "source": [
    "Above we can observe that the ratio between MALE and FEMALE is roughly 50%, to prevent loss of data we will impute data values. Backwards fill maintains this ratio the best."
   ]
  },
  {
   "cell_type": "code",
   "execution_count": 8,
   "id": "51ba5895",
   "metadata": {},
   "outputs": [],
   "source": [
    "penguin_information[\"Sex\"].fillna(method='bfill', inplace = True)"
   ]
  },
  {
   "cell_type": "code",
   "execution_count": 9,
   "id": "f76ee109",
   "metadata": {},
   "outputs": [
    {
     "data": {
      "text/plain": [
       "FEMALE    172\n",
       "MALE      171\n",
       ".           1\n",
       "Name: Sex, dtype: int64"
      ]
     },
     "execution_count": 9,
     "metadata": {},
     "output_type": "execute_result"
    }
   ],
   "source": [
    "penguin_information[\"Sex\"].value_counts()"
   ]
  },
  {
   "cell_type": "markdown",
   "id": "568127e2",
   "metadata": {},
   "source": [
    "Above we can see that although the ratio is slightly different than before, it's better than mode imputation or forward fill done with previous tests."
   ]
  },
  {
   "cell_type": "markdown",
   "id": "12a27a7c",
   "metadata": {},
   "source": [
    "### Delta 15 N (o/oo) and Delta 13 C (o/oo)"
   ]
  },
  {
   "cell_type": "markdown",
   "id": "69ced954",
   "metadata": {},
   "source": [
    "There are more missing values for Delta 15 N and Delta 13 C so using mean imputation could lead to bias results when comparing columns so random impputations will be used to replace the missing values."
   ]
  },
  {
   "cell_type": "code",
   "execution_count": 10,
   "id": "b66735d7",
   "metadata": {},
   "outputs": [
    {
     "data": {
      "text/plain": [
       "count    330.000000\n",
       "mean       8.733382\n",
       "std        0.551770\n",
       "min        7.632200\n",
       "25%        8.299890\n",
       "50%        8.652405\n",
       "75%        9.172123\n",
       "max       10.025440\n",
       "Name: Delta 15 N (o/oo), dtype: float64"
      ]
     },
     "execution_count": 10,
     "metadata": {},
     "output_type": "execute_result"
    }
   ],
   "source": [
    "penguin_information[\"Delta 15 N (o/oo)\"].describe()"
   ]
  },
  {
   "cell_type": "code",
   "execution_count": 11,
   "id": "c82d7604",
   "metadata": {},
   "outputs": [
    {
     "data": {
      "text/plain": [
       "0"
      ]
     },
     "execution_count": 11,
     "metadata": {},
     "output_type": "execute_result"
    }
   ],
   "source": [
    "# import numpy with alias np\n",
    "import numpy as np\n",
    "\n",
    "# set random seed for reproducibility of the results\n",
    "np.random.seed(10)\n",
    "\n",
    "# extract non-missing values from the ratings column\n",
    "non_missing_delta_15 = penguin_information.loc[penguin_information[\"Delta 15 N (o/oo)\"].notna(), \"Delta 15 N (o/oo)\"]\n",
    "\n",
    "# extract indices of missing rows from the ratings column\n",
    "missing_delta_15_indices = penguin_information.loc[penguin_information[\"Delta 15 N (o/oo)\"].isna(), \"Delta 15 N (o/oo)\"].index\n",
    "\n",
    "# impute missing values\n",
    "penguin_information.loc[missing_delta_15_indices, \"Delta 15 N (o/oo)\"] = np.random.choice(a=non_missing_delta_15, \n",
    "                                                                                      size=missing_delta_15_indices.size)\n",
    "\n",
    "# verify that there no missing values in the column\n",
    "penguin_information[\"Delta 15 N (o/oo)\"].isna().sum()"
   ]
  },
  {
   "cell_type": "code",
   "execution_count": 12,
   "id": "539093ea",
   "metadata": {},
   "outputs": [
    {
     "data": {
      "text/plain": [
       "count    344.000000\n",
       "mean       8.729159\n",
       "std        0.549060\n",
       "min        7.632200\n",
       "25%        8.302148\n",
       "50%        8.649730\n",
       "75%        9.149743\n",
       "max       10.025440\n",
       "Name: Delta 15 N (o/oo), dtype: float64"
      ]
     },
     "execution_count": 12,
     "metadata": {},
     "output_type": "execute_result"
    }
   ],
   "source": [
    "penguin_information[\"Delta 15 N (o/oo)\"].describe()"
   ]
  },
  {
   "cell_type": "markdown",
   "id": "7e18756a",
   "metadata": {},
   "source": [
    "If you compare the values that describe the Delta 15 N (o/oo) column pre and post imputation, you can see that there are only slight differences, so random imputation didn't cause any significant differences in data as it maintains the spread."
   ]
  },
  {
   "cell_type": "code",
   "execution_count": 13,
   "id": "d7c1373d",
   "metadata": {},
   "outputs": [
    {
     "data": {
      "text/plain": [
       "count    331.000000\n",
       "mean     -25.686292\n",
       "std        0.793961\n",
       "min      -27.018540\n",
       "25%      -26.320305\n",
       "50%      -25.833520\n",
       "75%      -25.062050\n",
       "max      -23.787670\n",
       "Name: Delta 13 C (o/oo), dtype: float64"
      ]
     },
     "execution_count": 13,
     "metadata": {},
     "output_type": "execute_result"
    }
   ],
   "source": [
    "penguin_information[\"Delta 13 C (o/oo)\"].describe()"
   ]
  },
  {
   "cell_type": "code",
   "execution_count": 14,
   "id": "5288b70a",
   "metadata": {},
   "outputs": [
    {
     "data": {
      "text/plain": [
       "0"
      ]
     },
     "execution_count": 14,
     "metadata": {},
     "output_type": "execute_result"
    }
   ],
   "source": [
    "# import numpy with alias np\n",
    "import numpy as np\n",
    "\n",
    "# set random seed for reproducibility of the results\n",
    "np.random.seed(10)\n",
    "\n",
    "# extract non-missing values from the ratings column\n",
    "non_missing_delta_13 = penguin_information.loc[penguin_information[\"Delta 13 C (o/oo)\"].notna(), \"Delta 13 C (o/oo)\"]\n",
    "\n",
    "# extract indices of missing rows from the ratings column\n",
    "missing_delta_13_indices = penguin_information.loc[penguin_information[\"Delta 13 C (o/oo)\"].isna(), \"Delta 13 C (o/oo)\"].index\n",
    "\n",
    "# impute missing values\n",
    "penguin_information.loc[missing_delta_13_indices, \"Delta 13 C (o/oo)\"] = np.random.choice(a=non_missing_delta_13, \n",
    "                                                                                      size=missing_delta_13_indices.size)\n",
    "\n",
    "# verify that there no missing values in the column\n",
    "penguin_information[\"Delta 13 C (o/oo)\"].isna().sum()"
   ]
  },
  {
   "cell_type": "code",
   "execution_count": 15,
   "id": "4edf53d5",
   "metadata": {},
   "outputs": [
    {
     "data": {
      "text/plain": [
       "count    344.000000\n",
       "mean     -25.691022\n",
       "std        0.789899\n",
       "min      -27.018540\n",
       "25%      -26.326780\n",
       "50%      -25.832060\n",
       "75%      -25.066157\n",
       "max      -23.787670\n",
       "Name: Delta 13 C (o/oo), dtype: float64"
      ]
     },
     "execution_count": 15,
     "metadata": {},
     "output_type": "execute_result"
    }
   ],
   "source": [
    "penguin_information[\"Delta 13 C (o/oo)\"].describe()"
   ]
  },
  {
   "cell_type": "markdown",
   "id": "8a47ee2d",
   "metadata": {},
   "source": [
    "Again it can be observed that pre and post imputation wasn't significantly changed."
   ]
  },
  {
   "cell_type": "markdown",
   "id": "f5243cca",
   "metadata": {},
   "source": [
    "## Task 2"
   ]
  },
  {
   "cell_type": "markdown",
   "id": "f1353909",
   "metadata": {},
   "source": [
    "### Univariate EDA"
   ]
  },
  {
   "cell_type": "markdown",
   "id": "864218f6",
   "metadata": {},
   "source": [
    "#### studyName"
   ]
  },
  {
   "cell_type": "code",
   "execution_count": 16,
   "id": "f533bf83",
   "metadata": {},
   "outputs": [
    {
     "data": {
      "text/plain": [
       "count         344\n",
       "unique          3\n",
       "top       PAL0910\n",
       "freq          120\n",
       "Name: studyName, dtype: object"
      ]
     },
     "execution_count": 16,
     "metadata": {},
     "output_type": "execute_result"
    }
   ],
   "source": [
    "penguin_information[\"studyName\"].describe()"
   ]
  },
  {
   "cell_type": "markdown",
   "id": "c81fc605",
   "metadata": {},
   "source": [
    "It can be observed that three sampling expedition's data are being analysed."
   ]
  },
  {
   "cell_type": "code",
   "execution_count": 17,
   "id": "749ec7ca",
   "metadata": {},
   "outputs": [
    {
     "data": {
      "image/png": "[encoded data removed]",
      "text/plain": [
       "<Figure size 432x288 with 1 Axes>"
      ]
     },
     "metadata": {
      "needs_background": "light"
     },
     "output_type": "display_data"
    }
   ],
   "source": [
    "study_name = penguin_information[\"studyName\"].value_counts()\n",
    "\n",
    "# plot distribution of the 'studyName' column\n",
    "study_name.plot.bar(xlabel=\"Sampling Expedition\", ylabel=\"Sample number\", grid=False, title=\"Sampling Expedition\");"
   ]
  },
  {
   "cell_type": "markdown",
   "id": "29dd9076",
   "metadata": {},
   "source": [
    "It can be observed that there is a nearly even spread between the 3 expeditions."
   ]
  },
  {
   "cell_type": "markdown",
   "id": "3f4e2519",
   "metadata": {},
   "source": [
    "#### Sample Number"
   ]
  },
  {
   "cell_type": "code",
   "execution_count": 18,
   "id": "198062ed",
   "metadata": {},
   "outputs": [
    {
     "data": {
      "text/plain": [
       "count    344.000000\n",
       "mean      63.151163\n",
       "std       40.430199\n",
       "min        1.000000\n",
       "25%       29.000000\n",
       "50%       58.000000\n",
       "75%       95.250000\n",
       "max      152.000000\n",
       "Name: Sample Number, dtype: float64"
      ]
     },
     "execution_count": 18,
     "metadata": {},
     "output_type": "execute_result"
    }
   ],
   "source": [
    "penguin_information[\"Sample Number\"].describe()"
   ]
  },
  {
   "cell_type": "markdown",
   "id": "6bd6df29",
   "metadata": {},
   "source": [
    "No significant observations can be made."
   ]
  },
  {
   "cell_type": "markdown",
   "id": "696cb5f7",
   "metadata": {},
   "source": [
    "#### Species"
   ]
  },
  {
   "cell_type": "code",
   "execution_count": 19,
   "id": "0d7eaca2",
   "metadata": {},
   "outputs": [
    {
     "data": {
      "text/plain": [
       "array(['Adelie Penguin (Pygoscelis adeliae)',\n",
       "       'Chinstrap penguin (Pygoscelis antarctica)',\n",
       "       'Gentoo penguin (Pygoscelis papua)'], dtype=object)"
      ]
     },
     "execution_count": 19,
     "metadata": {},
     "output_type": "execute_result"
    }
   ],
   "source": [
    "penguin_information['Species'].unique()\n",
    "# No quality issues"
   ]
  },
  {
   "cell_type": "code",
   "execution_count": 20,
   "id": "5dc7d94f",
   "metadata": {},
   "outputs": [
    {
     "data": {
      "image/png": "[encoded data removed]",
      "text/plain": [
       "<Figure size 432x288 with 1 Axes>"
      ]
     },
     "metadata": {},
     "output_type": "display_data"
    }
   ],
   "source": [
    "# distribution of the 'species' column values\n",
    "species_distribution = penguin_information[\"Species\"].value_counts(dropna=False, normalize=True)\n",
    "\n",
    "# make a pie chart\n",
    "species_distribution.plot.pie(autopct='%1.0f%%', pctdistance=0.8, radius=1, title=\"Distribution of Species\");"
   ]
  },
  {
   "cell_type": "markdown",
   "id": "a49c205c",
   "metadata": {},
   "source": [
    "It can be observved that the Adelie Penguin has been sampled the most followed by the Gentoo penguin and significantly less than the two, the Chinstrap penguin."
   ]
  },
  {
   "cell_type": "markdown",
   "id": "f6072cee",
   "metadata": {},
   "source": [
    "#### Region"
   ]
  },
  {
   "cell_type": "code",
   "execution_count": 21,
   "id": "b3337c27",
   "metadata": {},
   "outputs": [
    {
     "data": {
      "text/plain": [
       "array(['Anvers'], dtype=object)"
      ]
     },
     "execution_count": 21,
     "metadata": {},
     "output_type": "execute_result"
    }
   ],
   "source": [
    "penguin_information['Region'].unique()"
   ]
  },
  {
   "cell_type": "markdown",
   "id": "e6f01832",
   "metadata": {},
   "source": [
    "No significant observations can be made."
   ]
  },
  {
   "cell_type": "markdown",
   "id": "d39ba6ef",
   "metadata": {},
   "source": [
    "#### Island"
   ]
  },
  {
   "cell_type": "code",
   "execution_count": 22,
   "id": "2de8dc9f",
   "metadata": {},
   "outputs": [
    {
     "data": {
      "text/plain": [
       "array(['Torgersen', 'Biscoe', 'Dream'], dtype=object)"
      ]
     },
     "execution_count": 22,
     "metadata": {},
     "output_type": "execute_result"
    }
   ],
   "source": [
    "penguin_information['Island'].unique()"
   ]
  },
  {
   "cell_type": "code",
   "execution_count": 23,
   "id": "fe3550f5",
   "metadata": {},
   "outputs": [
    {
     "data": {
      "image/png": "[encoded data removed]",
      "text/plain": [
       "<Figure size 432x288 with 1 Axes>"
      ]
     },
     "metadata": {},
     "output_type": "display_data"
    }
   ],
   "source": [
    "# distribution of the 'Island' column values\n",
    "island_distribution = penguin_information[\"Island\"].value_counts(dropna=False, normalize=True)\n",
    "\n",
    "# make a pie chart\n",
    "island_distribution.plot.pie(autopct='%1.0f%%', pctdistance=0.8, radius=1, title=\"Island Distribution\");"
   ]
  },
  {
   "cell_type": "markdown",
   "id": "ffc3a192",
   "metadata": {},
   "source": [
    "It can be observed that a majority of the samples are taken from Biscoe Island with Togersen only being a minor amount."
   ]
  },
  {
   "cell_type": "markdown",
   "id": "ab3ed04f",
   "metadata": {},
   "source": [
    "#### Stage"
   ]
  },
  {
   "cell_type": "code",
   "execution_count": 24,
   "id": "bf040971",
   "metadata": {},
   "outputs": [
    {
     "data": {
      "text/plain": [
       "count                    344\n",
       "unique                     1\n",
       "top       Adult, 1 Egg Stage\n",
       "freq                     344\n",
       "Name: Stage, dtype: object"
      ]
     },
     "execution_count": 24,
     "metadata": {},
     "output_type": "execute_result"
    }
   ],
   "source": [
    "penguin_information['Stage'].describe()"
   ]
  },
  {
   "cell_type": "markdown",
   "id": "5c982579",
   "metadata": {},
   "source": [
    "No significant observations can be made."
   ]
  },
  {
   "cell_type": "markdown",
   "id": "0627af36",
   "metadata": {},
   "source": [
    "#### Individual ID"
   ]
  },
  {
   "cell_type": "code",
   "execution_count": 25,
   "id": "8c0f5796",
   "metadata": {},
   "outputs": [
    {
     "data": {
      "text/plain": [
       "count       344\n",
       "unique      190\n",
       "top       N61A2\n",
       "freq          3\n",
       "Name: Individual ID, dtype: object"
      ]
     },
     "execution_count": 25,
     "metadata": {},
     "output_type": "execute_result"
    }
   ],
   "source": [
    "penguin_information['Individual ID'].describe()"
   ]
  },
  {
   "cell_type": "code",
   "execution_count": 26,
   "id": "38d77bb8",
   "metadata": {},
   "outputs": [
    {
     "data": {
      "text/plain": [
       "0"
      ]
     },
     "execution_count": 26,
     "metadata": {},
     "output_type": "execute_result"
    }
   ],
   "source": [
    "# count number of duplicates in the data\n",
    "penguin_information.duplicated().sum()"
   ]
  },
  {
   "cell_type": "markdown",
   "id": "fddfcc28",
   "metadata": {},
   "source": [
    "There are no duplicates in the data as repeated ID is unique to each sample expediton, which was 3, no significant observations can be made."
   ]
  },
  {
   "cell_type": "markdown",
   "id": "991574c7",
   "metadata": {},
   "source": [
    "#### Clutch Completion"
   ]
  },
  {
   "cell_type": "code",
   "execution_count": 27,
   "id": "eaf7f387",
   "metadata": {},
   "outputs": [
    {
     "data": {
      "text/plain": [
       "count     344\n",
       "unique      2\n",
       "top       Yes\n",
       "freq      308\n",
       "Name: Clutch Completion, dtype: object"
      ]
     },
     "execution_count": 27,
     "metadata": {},
     "output_type": "execute_result"
    }
   ],
   "source": [
    "penguin_information['Clutch Completion'].describe()"
   ]
  },
  {
   "cell_type": "code",
   "execution_count": 28,
   "id": "9f1b7255",
   "metadata": {},
   "outputs": [
    {
     "data": {
      "image/png": "[encoded data removed]",
      "text/plain": [
       "<Figure size 432x288 with 1 Axes>"
      ]
     },
     "metadata": {},
     "output_type": "display_data"
    }
   ],
   "source": [
    "# analyze Clutch Completion column\n",
    "\n",
    "# distribution of the 'Clutch Completion' column values\n",
    "clutch_completion_distribution = penguin_information[\"Clutch Completion\"].value_counts(dropna=False, normalize=True)\n",
    "\n",
    "# make a pie chart\n",
    "clutch_completion_distribution.plot.pie(autopct='%1.0f%%', pctdistance=0.8, radius=1, title=\"Distribution of Clutch Completion\");"
   ]
  },
  {
   "cell_type": "markdown",
   "id": "627cb253",
   "metadata": {},
   "source": [
    "It can be observed that a large majority of study nests were observed with a full clutch."
   ]
  },
  {
   "cell_type": "markdown",
   "id": "533c0e77",
   "metadata": {},
   "source": [
    "#### Date Egg"
   ]
  },
  {
   "cell_type": "code",
   "execution_count": 29,
   "id": "db9e82ed",
   "metadata": {},
   "outputs": [
    {
     "data": {
      "text/plain": [
       "count          344\n",
       "unique          50\n",
       "top       11/27/07\n",
       "freq            18\n",
       "Name: Date Egg, dtype: object"
      ]
     },
     "execution_count": 29,
     "metadata": {},
     "output_type": "execute_result"
    }
   ],
   "source": [
    "penguin_information[\"Date Egg\"].describe()"
   ]
  },
  {
   "cell_type": "code",
   "execution_count": 30,
   "id": "0b26ab9e",
   "metadata": {},
   "outputs": [],
   "source": [
    "# Convert Date into datetime64[ns] Dtype\n",
    "penguin_information['Date Egg'] = penguin_information['Date Egg'].astype('datetime64[ns]')"
   ]
  },
  {
   "cell_type": "code",
   "execution_count": 31,
   "id": "9eaff4bd",
   "metadata": {},
   "outputs": [
    {
     "name": "stdout",
     "output_type": "stream",
     "text": [
      "<class 'pandas.core.frame.DataFrame'>\n",
      "RangeIndex: 344 entries, 0 to 343\n",
      "Data columns (total 17 columns):\n",
      " #   Column               Non-Null Count  Dtype         \n",
      "---  ------               --------------  -----         \n",
      " 0   studyName            344 non-null    object        \n",
      " 1   Sample Number        344 non-null    int64         \n",
      " 2   Species              344 non-null    object        \n",
      " 3   Region               344 non-null    object        \n",
      " 4   Island               344 non-null    object        \n",
      " 5   Stage                344 non-null    object        \n",
      " 6   Individual ID        344 non-null    object        \n",
      " 7   Clutch Completion    344 non-null    object        \n",
      " 8   Date Egg             344 non-null    datetime64[ns]\n",
      " 9   Culmen Length (mm)   344 non-null    float64       \n",
      " 10  Culmen Depth (mm)    344 non-null    float64       \n",
      " 11  Flipper Length (mm)  344 non-null    float64       \n",
      " 12  Body Mass (g)        344 non-null    float64       \n",
      " 13  Sex                  344 non-null    object        \n",
      " 14  Delta 15 N (o/oo)    344 non-null    float64       \n",
      " 15  Delta 13 C (o/oo)    344 non-null    float64       \n",
      " 16  Comments             26 non-null     object        \n",
      "dtypes: datetime64[ns](1), float64(6), int64(1), object(9)\n",
      "memory usage: 45.8+ KB\n"
     ]
    }
   ],
   "source": [
    "penguin_information.info()"
   ]
  },
  {
   "cell_type": "code",
   "execution_count": 32,
   "id": "80c4d0e7",
   "metadata": {},
   "outputs": [
    {
     "data": {
      "text/plain": [
       "<AxesSubplot:xlabel='Date Egg,Date Egg'>"
      ]
     },
     "execution_count": 32,
     "metadata": {},
     "output_type": "execute_result"
    },
    {
     "data": {
      "image/png": "[encoded data removed]",
      "text/plain": [
       "<Figure size 432x288 with 1 Axes>"
      ]
     },
     "metadata": {
      "needs_background": "light"
     },
     "output_type": "display_data"
    }
   ],
   "source": [
    "penguin_information[\"Date Egg\"].groupby([penguin_information[\"Date Egg\"].dt.year, penguin_information[\"Date Egg\"].dt.month]).count().plot(kind=\"bar\")"
   ]
  },
  {
   "cell_type": "markdown",
   "id": "44ac6826",
   "metadata": {},
   "source": [
    "When grouped by month and year, it can be observed that samples are taken yearly during the the same time periods."
   ]
  },
  {
   "cell_type": "markdown",
   "id": "f68347ab",
   "metadata": {},
   "source": [
    "#### Culmen Length (mm)"
   ]
  },
  {
   "cell_type": "code",
   "execution_count": 33,
   "id": "5d58aa5e",
   "metadata": {},
   "outputs": [
    {
     "data": {
      "text/plain": [
       "count    344.000000\n",
       "mean      43.921930\n",
       "std        5.443643\n",
       "min       32.100000\n",
       "25%       39.275000\n",
       "50%       44.250000\n",
       "75%       48.500000\n",
       "max       59.600000\n",
       "Name: Culmen Length (mm), dtype: float64"
      ]
     },
     "execution_count": 33,
     "metadata": {},
     "output_type": "execute_result"
    }
   ],
   "source": [
    "penguin_information[\"Culmen Length (mm)\"].describe()"
   ]
  },
  {
   "cell_type": "code",
   "execution_count": 34,
   "id": "dc29c6a0",
   "metadata": {},
   "outputs": [
    {
     "data": {
      "image/png": "[encoded data removed]",
      "text/plain": [
       "<Figure size 432x288 with 1 Axes>"
      ]
     },
     "metadata": {
      "needs_background": "light"
     },
     "output_type": "display_data"
    }
   ],
   "source": [
    "penguin_information[\"Culmen Length (mm)\"].plot.box(vert=False, title=\"Distribution of Culmen Length\");"
   ]
  },
  {
   "cell_type": "markdown",
   "id": "ae67f569",
   "metadata": {},
   "source": [
    "It can be observed that the column does not have any outliers with a slight skew to the right."
   ]
  },
  {
   "cell_type": "markdown",
   "id": "1c6f3b42",
   "metadata": {},
   "source": [
    "#### Culmen Depth (mm)"
   ]
  },
  {
   "cell_type": "code",
   "execution_count": 35,
   "id": "d4796813",
   "metadata": {},
   "outputs": [
    {
     "data": {
      "text/plain": [
       "count    344.000000\n",
       "mean      17.151170\n",
       "std        1.969027\n",
       "min       13.100000\n",
       "25%       15.600000\n",
       "50%       17.300000\n",
       "75%       18.700000\n",
       "max       21.500000\n",
       "Name: Culmen Depth (mm), dtype: float64"
      ]
     },
     "execution_count": 35,
     "metadata": {},
     "output_type": "execute_result"
    }
   ],
   "source": [
    "penguin_information[\"Culmen Depth (mm)\"].describe()"
   ]
  },
  {
   "cell_type": "code",
   "execution_count": 36,
   "id": "7da1dc6a",
   "metadata": {},
   "outputs": [
    {
     "data": {
      "image/png": "[encoded data removed]",
      "text/plain": [
       "<Figure size 432x288 with 1 Axes>"
      ]
     },
     "metadata": {
      "needs_background": "light"
     },
     "output_type": "display_data"
    }
   ],
   "source": [
    "penguin_information[\"Culmen Depth (mm)\"].plot.box(vert=False, title=\"Distribution of Culmen Depth\");"
   ]
  },
  {
   "cell_type": "markdown",
   "id": "0630f04d",
   "metadata": {},
   "source": [
    "It can be observed that the column does not have any outliers, and no skews."
   ]
  },
  {
   "cell_type": "markdown",
   "id": "a29ab24d",
   "metadata": {},
   "source": [
    "#### Flipper Length (mm)"
   ]
  },
  {
   "cell_type": "code",
   "execution_count": 37,
   "id": "4d4b4331",
   "metadata": {},
   "outputs": [
    {
     "data": {
      "text/plain": [
       "count    344.000000\n",
       "mean     200.915205\n",
       "std       14.020657\n",
       "min      172.000000\n",
       "25%      190.000000\n",
       "50%      197.000000\n",
       "75%      213.000000\n",
       "max      231.000000\n",
       "Name: Flipper Length (mm), dtype: float64"
      ]
     },
     "execution_count": 37,
     "metadata": {},
     "output_type": "execute_result"
    }
   ],
   "source": [
    "penguin_information[\"Flipper Length (mm)\"].describe()"
   ]
  },
  {
   "cell_type": "code",
   "execution_count": 38,
   "id": "8b106b10",
   "metadata": {},
   "outputs": [
    {
     "data": {
      "image/png": "[encoded data removed]",
      "text/plain": [
       "<Figure size 432x288 with 1 Axes>"
      ]
     },
     "metadata": {
      "needs_background": "light"
     },
     "output_type": "display_data"
    }
   ],
   "source": [
    "penguin_information[\"Flipper Length (mm)\"].plot.box(vert=False, title=\"Distribution of Flipper Length\");"
   ]
  },
  {
   "cell_type": "markdown",
   "id": "d2c2da4d",
   "metadata": {},
   "source": [
    "It can be observed that the column does not have any outliers, and no skews."
   ]
  },
  {
   "cell_type": "markdown",
   "id": "0c579032",
   "metadata": {},
   "source": [
    "#### Body Mass (g)"
   ]
  },
  {
   "cell_type": "code",
   "execution_count": 39,
   "id": "c3f44777",
   "metadata": {},
   "outputs": [
    {
     "data": {
      "text/plain": [
       "count     344.000000\n",
       "mean     4201.754386\n",
       "std       799.613058\n",
       "min      2700.000000\n",
       "25%      3550.000000\n",
       "50%      4050.000000\n",
       "75%      4750.000000\n",
       "max      6300.000000\n",
       "Name: Body Mass (g), dtype: float64"
      ]
     },
     "execution_count": 39,
     "metadata": {},
     "output_type": "execute_result"
    }
   ],
   "source": [
    "penguin_information[\"Body Mass (g)\"].describe()"
   ]
  },
  {
   "cell_type": "code",
   "execution_count": 40,
   "id": "49b6d314",
   "metadata": {},
   "outputs": [
    {
     "data": {
      "image/png": "[encoded data removed]",
      "text/plain": [
       "<Figure size 432x288 with 1 Axes>"
      ]
     },
     "metadata": {
      "needs_background": "light"
     },
     "output_type": "display_data"
    }
   ],
   "source": [
    "penguin_information[\"Body Mass (g)\"].plot.box(vert=False, title=\"Distribution of Body Mass\");"
   ]
  },
  {
   "cell_type": "markdown",
   "id": "7655d406",
   "metadata": {},
   "source": [
    "It can be observed that the column does not have any outliers with a slight skew to the right, similar in shape to the Culmen length (mm) box plot."
   ]
  },
  {
   "cell_type": "markdown",
   "id": "f02ebfa6",
   "metadata": {},
   "source": [
    "#### Sex"
   ]
  },
  {
   "cell_type": "code",
   "execution_count": 41,
   "id": "c808753c",
   "metadata": {},
   "outputs": [
    {
     "data": {
      "text/plain": [
       "array(['MALE', 'FEMALE', '.'], dtype=object)"
      ]
     },
     "execution_count": 41,
     "metadata": {},
     "output_type": "execute_result"
    }
   ],
   "source": [
    "penguin_information[\"Sex\"].unique()"
   ]
  },
  {
   "cell_type": "code",
   "execution_count": 42,
   "id": "d59b5cf6",
   "metadata": {},
   "outputs": [
    {
     "data": {
      "text/plain": [
       "FEMALE    172\n",
       "MALE      171\n",
       ".           1\n",
       "Name: Sex, dtype: int64"
      ]
     },
     "execution_count": 42,
     "metadata": {},
     "output_type": "execute_result"
    }
   ],
   "source": [
    "penguin_information[\"Sex\"].value_counts()"
   ]
  },
  {
   "cell_type": "markdown",
   "id": "8c5acb01",
   "metadata": {},
   "source": [
    "It can be observed that the There is one outlier that is associated with '.', this can be changed to either MALE or FEMALE as 1 won't significantly affect the data."
   ]
  },
  {
   "cell_type": "code",
   "execution_count": 43,
   "id": "e270bdd6",
   "metadata": {},
   "outputs": [],
   "source": [
    "penguin_information[\"Sex\"].replace({'.': 'MALE'}, inplace=True)"
   ]
  },
  {
   "cell_type": "code",
   "execution_count": 44,
   "id": "5b4daf9d",
   "metadata": {},
   "outputs": [
    {
     "data": {
      "text/plain": [
       "MALE      172\n",
       "FEMALE    172\n",
       "Name: Sex, dtype: int64"
      ]
     },
     "execution_count": 44,
     "metadata": {},
     "output_type": "execute_result"
    }
   ],
   "source": [
    "penguin_information[\"Sex\"].value_counts()"
   ]
  },
  {
   "cell_type": "markdown",
   "id": "8a9a442b",
   "metadata": {},
   "source": [
    "#### Delta 15 N (o/oo)"
   ]
  },
  {
   "cell_type": "code",
   "execution_count": 45,
   "id": "2ec33a7d",
   "metadata": {},
   "outputs": [
    {
     "data": {
      "text/plain": [
       "count    344.000000\n",
       "mean       8.729159\n",
       "std        0.549060\n",
       "min        7.632200\n",
       "25%        8.302148\n",
       "50%        8.649730\n",
       "75%        9.149743\n",
       "max       10.025440\n",
       "Name: Delta 15 N (o/oo), dtype: float64"
      ]
     },
     "execution_count": 45,
     "metadata": {},
     "output_type": "execute_result"
    }
   ],
   "source": [
    "penguin_information[\"Delta 15 N (o/oo)\"].describe()"
   ]
  },
  {
   "cell_type": "code",
   "execution_count": 46,
   "id": "4c47352c",
   "metadata": {},
   "outputs": [
    {
     "data": {
      "image/png": "[encoded data removed]",
      "text/plain": [
       "<Figure size 432x288 with 1 Axes>"
      ]
     },
     "metadata": {
      "needs_background": "light"
     },
     "output_type": "display_data"
    }
   ],
   "source": [
    "penguin_information[\"Delta 15 N (o/oo)\"].plot.box(vert=False, title=\"Distribution of Body Mass\");"
   ]
  },
  {
   "cell_type": "markdown",
   "id": "8a4c4c20",
   "metadata": {},
   "source": [
    "It can be observed that the column does not have any outliers, and no skews."
   ]
  },
  {
   "cell_type": "markdown",
   "id": "822aea17",
   "metadata": {},
   "source": [
    "#### Delta 13 C (o/oo)"
   ]
  },
  {
   "cell_type": "code",
   "execution_count": 47,
   "id": "691ff4d8",
   "metadata": {},
   "outputs": [
    {
     "data": {
      "text/plain": [
       "count    344.000000\n",
       "mean     -25.691022\n",
       "std        0.789899\n",
       "min      -27.018540\n",
       "25%      -26.326780\n",
       "50%      -25.832060\n",
       "75%      -25.066157\n",
       "max      -23.787670\n",
       "Name: Delta 13 C (o/oo), dtype: float64"
      ]
     },
     "execution_count": 47,
     "metadata": {},
     "output_type": "execute_result"
    }
   ],
   "source": [
    "penguin_information[\"Delta 13 C (o/oo)\"].describe()"
   ]
  },
  {
   "cell_type": "code",
   "execution_count": 48,
   "id": "36492386",
   "metadata": {},
   "outputs": [
    {
     "data": {
      "image/png": "[encoded data removed]",
      "text/plain": [
       "<Figure size 432x288 with 1 Axes>"
      ]
     },
     "metadata": {
      "needs_background": "light"
     },
     "output_type": "display_data"
    }
   ],
   "source": [
    "penguin_information[\"Delta 13 C (o/oo)\"].plot.box(vert=False, title=\"Distribution of Body Mass\");"
   ]
  },
  {
   "cell_type": "markdown",
   "id": "a7eba6d9",
   "metadata": {},
   "source": [
    "It can be observed that the column does not have any outliers, with a slight skew to the right."
   ]
  },
  {
   "cell_type": "markdown",
   "id": "8c278ad2",
   "metadata": {},
   "source": [
    "### Bivariate EDA"
   ]
  },
  {
   "cell_type": "markdown",
   "id": "1853996e",
   "metadata": {},
   "source": [
    "#### Correlation among numeric data"
   ]
  },
  {
   "cell_type": "code",
   "execution_count": 49,
   "id": "e493f4c3",
   "metadata": {},
   "outputs": [
    {
     "data": {
      "text/plain": [
       "Index(['studyName', 'Sample Number', 'Species', 'Region', 'Island', 'Stage',\n",
       "       'Individual ID', 'Clutch Completion', 'Date Egg', 'Culmen Length (mm)',\n",
       "       'Culmen Depth (mm)', 'Flipper Length (mm)', 'Body Mass (g)', 'Sex',\n",
       "       'Delta 15 N (o/oo)', 'Delta 13 C (o/oo)', 'Comments'],\n",
       "      dtype='object')"
      ]
     },
     "execution_count": 49,
     "metadata": {},
     "output_type": "execute_result"
    }
   ],
   "source": [
    "penguin_information.columns"
   ]
  },
  {
   "cell_type": "code",
   "execution_count": 50,
   "id": "772cfa7b",
   "metadata": {},
   "outputs": [
    {
     "data": {
      "text/html": [
       "<style type=\"text/css\">\n",
       "#T_f9609_row0_col0, #T_f9609_row1_col1, #T_f9609_row2_col2, #T_f9609_row3_col3, #T_f9609_row4_col4, #T_f9609_row5_col5 {\n",
       "  background-color: #800026;\n",
       "  color: #f1f1f1;\n",
       "}\n",
       "#T_f9609_row0_col1 {\n",
       "  background-color: #fede80;\n",
       "  color: #000000;\n",
       "}\n",
       "#T_f9609_row0_col2 {\n",
       "  background-color: #d9131f;\n",
       "  color: #f1f1f1;\n",
       "}\n",
       "#T_f9609_row0_col3, #T_f9609_row1_col4 {\n",
       "  background-color: #e61f1d;\n",
       "  color: #f1f1f1;\n",
       "}\n",
       "#T_f9609_row0_col4 {\n",
       "  background-color: #fec965;\n",
       "  color: #000000;\n",
       "}\n",
       "#T_f9609_row0_col5 {\n",
       "  background-color: #feab49;\n",
       "  color: #000000;\n",
       "}\n",
       "#T_f9609_row1_col0, #T_f9609_row1_col2, #T_f9609_row2_col1, #T_f9609_row3_col4, #T_f9609_row3_col5, #T_f9609_row4_col3 {\n",
       "  background-color: #ffffcc;\n",
       "  color: #000000;\n",
       "}\n",
       "#T_f9609_row1_col3 {\n",
       "  background-color: #fffac1;\n",
       "  color: #000000;\n",
       "}\n",
       "#T_f9609_row1_col5 {\n",
       "  background-color: #fc6a32;\n",
       "  color: #f1f1f1;\n",
       "}\n",
       "#T_f9609_row2_col0 {\n",
       "  background-color: #e9261f;\n",
       "  color: #f1f1f1;\n",
       "}\n",
       "#T_f9609_row2_col3 {\n",
       "  background-color: #a80026;\n",
       "  color: #f1f1f1;\n",
       "}\n",
       "#T_f9609_row2_col4 {\n",
       "  background-color: #fffcc4;\n",
       "  color: #000000;\n",
       "}\n",
       "#T_f9609_row2_col5 {\n",
       "  background-color: #fffecb;\n",
       "  color: #000000;\n",
       "}\n",
       "#T_f9609_row3_col0 {\n",
       "  background-color: #f23924;\n",
       "  color: #f1f1f1;\n",
       "}\n",
       "#T_f9609_row3_col1 {\n",
       "  background-color: #fff5b3;\n",
       "  color: #000000;\n",
       "}\n",
       "#T_f9609_row3_col2 {\n",
       "  background-color: #a60026;\n",
       "  color: #f1f1f1;\n",
       "}\n",
       "#T_f9609_row4_col0 {\n",
       "  background-color: #ffeb9c;\n",
       "  color: #000000;\n",
       "}\n",
       "#T_f9609_row4_col1 {\n",
       "  background-color: #e41c1d;\n",
       "  color: #f1f1f1;\n",
       "}\n",
       "#T_f9609_row4_col2 {\n",
       "  background-color: #fff7b7;\n",
       "  color: #000000;\n",
       "}\n",
       "#T_f9609_row4_col5 {\n",
       "  background-color: #f33b25;\n",
       "  color: #f1f1f1;\n",
       "}\n",
       "#T_f9609_row5_col0 {\n",
       "  background-color: #febd57;\n",
       "  color: #000000;\n",
       "}\n",
       "#T_f9609_row5_col1 {\n",
       "  background-color: #fb4b29;\n",
       "  color: #f1f1f1;\n",
       "}\n",
       "#T_f9609_row5_col2 {\n",
       "  background-color: #ffe998;\n",
       "  color: #000000;\n",
       "}\n",
       "#T_f9609_row5_col3 {\n",
       "  background-color: #ffefa4;\n",
       "  color: #000000;\n",
       "}\n",
       "#T_f9609_row5_col4 {\n",
       "  background-color: #eb2b21;\n",
       "  color: #f1f1f1;\n",
       "}\n",
       "</style>\n",
       "<table id=\"T_f9609\">\n",
       "  <thead>\n",
       "    <tr>\n",
       "      <th class=\"blank level0\" >&nbsp;</th>\n",
       "      <th id=\"T_f9609_level0_col0\" class=\"col_heading level0 col0\" >Culmen Length (mm)</th>\n",
       "      <th id=\"T_f9609_level0_col1\" class=\"col_heading level0 col1\" >Culmen Depth (mm)</th>\n",
       "      <th id=\"T_f9609_level0_col2\" class=\"col_heading level0 col2\" >Flipper Length (mm)</th>\n",
       "      <th id=\"T_f9609_level0_col3\" class=\"col_heading level0 col3\" >Body Mass (g)</th>\n",
       "      <th id=\"T_f9609_level0_col4\" class=\"col_heading level0 col4\" >Delta 15 N (o/oo)</th>\n",
       "      <th id=\"T_f9609_level0_col5\" class=\"col_heading level0 col5\" >Delta 13 C (o/oo)</th>\n",
       "    </tr>\n",
       "  </thead>\n",
       "  <tbody>\n",
       "    <tr>\n",
       "      <th id=\"T_f9609_level0_row0\" class=\"row_heading level0 row0\" >Culmen Length (mm)</th>\n",
       "      <td id=\"T_f9609_row0_col0\" class=\"data row0 col0\" >1.000000</td>\n",
       "      <td id=\"T_f9609_row0_col1\" class=\"data row0 col1\" >-0.235053</td>\n",
       "      <td id=\"T_f9609_row0_col2\" class=\"data row0 col2\" >0.656181</td>\n",
       "      <td id=\"T_f9609_row0_col3\" class=\"data row0 col3\" >0.595110</td>\n",
       "      <td id=\"T_f9609_row0_col4\" class=\"data row0 col4\" >-0.061490</td>\n",
       "      <td id=\"T_f9609_row0_col5\" class=\"data row0 col5\" >0.186830</td>\n",
       "    </tr>\n",
       "    <tr>\n",
       "      <th id=\"T_f9609_level0_row1\" class=\"row_heading level0 row1\" >Culmen Depth (mm)</th>\n",
       "      <td id=\"T_f9609_row1_col0\" class=\"data row1 col0\" >-0.235053</td>\n",
       "      <td id=\"T_f9609_row1_col1\" class=\"data row1 col1\" >1.000000</td>\n",
       "      <td id=\"T_f9609_row1_col2\" class=\"data row1 col2\" >-0.583851</td>\n",
       "      <td id=\"T_f9609_row1_col3\" class=\"data row1 col3\" >-0.471916</td>\n",
       "      <td id=\"T_f9609_row1_col4\" class=\"data row1 col4\" >0.594874</td>\n",
       "      <td id=\"T_f9609_row1_col5\" class=\"data row1 col5\" >0.414960</td>\n",
       "    </tr>\n",
       "    <tr>\n",
       "      <th id=\"T_f9609_level0_row2\" class=\"row_heading level0 row2\" >Flipper Length (mm)</th>\n",
       "      <td id=\"T_f9609_row2_col0\" class=\"data row2 col0\" >0.656181</td>\n",
       "      <td id=\"T_f9609_row2_col1\" class=\"data row2 col1\" >-0.583851</td>\n",
       "      <td id=\"T_f9609_row2_col2\" class=\"data row2 col2\" >1.000000</td>\n",
       "      <td id=\"T_f9609_row2_col3\" class=\"data row2 col3\" >0.871202</td>\n",
       "      <td id=\"T_f9609_row2_col4\" class=\"data row2 col4\" >-0.487358</td>\n",
       "      <td id=\"T_f9609_row2_col5\" class=\"data row2 col5\" >-0.345811</td>\n",
       "    </tr>\n",
       "    <tr>\n",
       "      <th id=\"T_f9609_level0_row3\" class=\"row_heading level0 row3\" >Body Mass (g)</th>\n",
       "      <td id=\"T_f9609_row3_col0\" class=\"data row3 col0\" >0.595110</td>\n",
       "      <td id=\"T_f9609_row3_col1\" class=\"data row3 col1\" >-0.471916</td>\n",
       "      <td id=\"T_f9609_row3_col2\" class=\"data row3 col2\" >0.871202</td>\n",
       "      <td id=\"T_f9609_row3_col3\" class=\"data row3 col3\" >1.000000</td>\n",
       "      <td id=\"T_f9609_row3_col4\" class=\"data row3 col4\" >-0.525377</td>\n",
       "      <td id=\"T_f9609_row3_col5\" class=\"data row3 col5\" >-0.351851</td>\n",
       "    </tr>\n",
       "    <tr>\n",
       "      <th id=\"T_f9609_level0_row4\" class=\"row_heading level0 row4\" >Delta 15 N (o/oo)</th>\n",
       "      <td id=\"T_f9609_row4_col0\" class=\"data row4 col0\" >-0.061490</td>\n",
       "      <td id=\"T_f9609_row4_col1\" class=\"data row4 col1\" >0.594874</td>\n",
       "      <td id=\"T_f9609_row4_col2\" class=\"data row4 col2\" >-0.487358</td>\n",
       "      <td id=\"T_f9609_row4_col3\" class=\"data row4 col3\" >-0.525377</td>\n",
       "      <td id=\"T_f9609_row4_col4\" class=\"data row4 col4\" >1.000000</td>\n",
       "      <td id=\"T_f9609_row4_col5\" class=\"data row4 col5\" >0.555879</td>\n",
       "    </tr>\n",
       "    <tr>\n",
       "      <th id=\"T_f9609_level0_row5\" class=\"row_heading level0 row5\" >Delta 13 C (o/oo)</th>\n",
       "      <td id=\"T_f9609_row5_col0\" class=\"data row5 col0\" >0.186830</td>\n",
       "      <td id=\"T_f9609_row5_col1\" class=\"data row5 col1\" >0.414960</td>\n",
       "      <td id=\"T_f9609_row5_col2\" class=\"data row5 col2\" >-0.345811</td>\n",
       "      <td id=\"T_f9609_row5_col3\" class=\"data row5 col3\" >-0.351851</td>\n",
       "      <td id=\"T_f9609_row5_col4\" class=\"data row5 col4\" >0.555879</td>\n",
       "      <td id=\"T_f9609_row5_col5\" class=\"data row5 col5\" >1.000000</td>\n",
       "    </tr>\n",
       "  </tbody>\n",
       "</table>\n"
      ],
      "text/plain": [
       "<pandas.io.formats.style.Styler at 0x7fffdaeaecd0>"
      ]
     },
     "execution_count": 50,
     "metadata": {},
     "output_type": "execute_result"
    }
   ],
   "source": [
    "# correlation heatmap\n",
    "numeric_data = penguin_information[[\"Culmen Length (mm)\", \"Culmen Depth (mm)\", \"Flipper Length (mm)\", \n",
    "                              \"Body Mass (g)\", \"Delta 15 N (o/oo)\", \"Delta 13 C (o/oo)\"]]\n",
    "\n",
    "numeric_data.corr().style.background_gradient(cmap='YlOrRd')"
   ]
  },
  {
   "cell_type": "markdown",
   "id": "8d28d3c2",
   "metadata": {},
   "source": [
    "High Positive Correlation 0.7 - 0.9:\n",
    "It can be observed that there is a high positive correlation between Body Mass (g) and Flipper Length (mm). \n",
    "\n",
    "Moderate Positive Correlation 0.5 - 0.7:\n",
    "A moderate positive correlation can be observed between Culmen Length(mm) and Flipper Length, Culmen Length (mm) and Body Mass (g), Culmen Depth (mm) and Delta 15 N (o/oo), and Delta 15 N (o/oo) and Delta 13 C (o/oo).\n",
    "\n",
    "Moderate Negative Correlation -0.5 - -0.7: A Moderate negative correlation can be observed between Culmen Depth (mm) and Flipper Length (mm), and Body Mass (g) and Delta 15 N (o/oo)."
   ]
  },
  {
   "cell_type": "markdown",
   "id": "8830af37",
   "metadata": {},
   "source": [
    "#### Flipper Length and Body Mass (g)"
   ]
  },
  {
   "cell_type": "code",
   "execution_count": 51,
   "id": "6cbbce85",
   "metadata": {},
   "outputs": [
    {
     "data": {
      "text/plain": [
       "<AxesSubplot:xlabel='Body Mass (g)', ylabel='Flipper Length (mm)'>"
      ]
     },
     "execution_count": 51,
     "metadata": {},
     "output_type": "execute_result"
    },
    {
     "data": {
      "image/png": "[encoded data removed]",
      "text/plain": [
       "<Figure size 432x288 with 1 Axes>"
      ]
     },
     "metadata": {
      "needs_background": "light"
     },
     "output_type": "display_data"
    }
   ],
   "source": [
    "penguin_information.plot.scatter(x=\"Body Mass (g)\", y=\"Flipper Length (mm)\")\n"
   ]
  },
  {
   "cell_type": "markdown",
   "id": "c7e39a8e",
   "metadata": {},
   "source": [
    "A clear positive correlation can be seen between body mass and flipper length (mm) which was previously observed to have a high positive correlation."
   ]
  },
  {
   "cell_type": "markdown",
   "id": "6359c724",
   "metadata": {},
   "source": [
    "#### Culmen Length (mm) and Flipper Length (mm)"
   ]
  },
  {
   "cell_type": "code",
   "execution_count": 52,
   "id": "3613f520",
   "metadata": {},
   "outputs": [
    {
     "data": {
      "text/plain": [
       "<AxesSubplot:xlabel='Culmen Length (mm)', ylabel='Flipper Length (mm)'>"
      ]
     },
     "execution_count": 52,
     "metadata": {},
     "output_type": "execute_result"
    },
    {
     "data": {
      "image/png": "[encoded data removed]",
      "text/plain": [
       "<Figure size 432x288 with 1 Axes>"
      ]
     },
     "metadata": {
      "needs_background": "light"
     },
     "output_type": "display_data"
    }
   ],
   "source": [
    "penguin_information.plot.scatter(x=\"Culmen Length (mm)\", y=\"Flipper Length (mm)\")"
   ]
  },
  {
   "cell_type": "markdown",
   "id": "caa96393",
   "metadata": {},
   "source": [
    "A positive moderate correlation was previously noted and it can be seen above, clusters can also be seen which may be atrributed to another column."
   ]
  },
  {
   "cell_type": "markdown",
   "id": "4c703a9c",
   "metadata": {},
   "source": [
    "#### Culmen Length (mm) and Body Mass (g)"
   ]
  },
  {
   "cell_type": "code",
   "execution_count": 53,
   "id": "92ca0d1b",
   "metadata": {},
   "outputs": [
    {
     "data": {
      "text/plain": [
       "<AxesSubplot:xlabel='Culmen Length (mm)', ylabel='Body Mass (g)'>"
      ]
     },
     "execution_count": 53,
     "metadata": {},
     "output_type": "execute_result"
    },
    {
     "data": {
      "image/png": "[encoded data removed]",
      "text/plain": [
       "<Figure size 432x288 with 1 Axes>"
      ]
     },
     "metadata": {
      "needs_background": "light"
     },
     "output_type": "display_data"
    }
   ],
   "source": [
    "penguin_information.plot.scatter(x=\"Culmen Length (mm)\", y=\"Body Mass (g)\")"
   ]
  },
  {
   "cell_type": "markdown",
   "id": "fa5f87f5",
   "metadata": {},
   "source": [
    "A positive moderate correlation was also previously noted on Culmen Length (mm) and Body Mass (g) and it can also be observed above."
   ]
  },
  {
   "cell_type": "markdown",
   "id": "408f65b4",
   "metadata": {},
   "source": [
    "#### Culmen Depth (mm) and Delta 15 N (o/oo)"
   ]
  },
  {
   "cell_type": "code",
   "execution_count": 54,
   "id": "74b26093",
   "metadata": {},
   "outputs": [
    {
     "data": {
      "text/plain": [
       "<AxesSubplot:xlabel='Culmen Depth (mm)', ylabel='Delta 15 N (o/oo)'>"
      ]
     },
     "execution_count": 54,
     "metadata": {},
     "output_type": "execute_result"
    },
    {
     "data": {
      "image/png": "[encoded data removed]",
      "text/plain": [
       "<Figure size 432x288 with 1 Axes>"
      ]
     },
     "metadata": {
      "needs_background": "light"
     },
     "output_type": "display_data"
    }
   ],
   "source": [
    "penguin_information.plot.scatter(x=\"Culmen Depth (mm)\", y=\"Delta 15 N (o/oo)\")"
   ]
  },
  {
   "cell_type": "markdown",
   "id": "82474bb9",
   "metadata": {},
   "source": [
    "A positive moderate correlation was previously noted on Culmen Depth (mm) and Delta 15 N (o/oo) and although it can be observed above, the results very spread out."
   ]
  },
  {
   "cell_type": "markdown",
   "id": "32272f74",
   "metadata": {},
   "source": [
    "#### Delta 15 N (o/oo) and Delta 13 C (o/oo)"
   ]
  },
  {
   "cell_type": "code",
   "execution_count": 55,
   "id": "0c50f94f",
   "metadata": {},
   "outputs": [
    {
     "data": {
      "text/plain": [
       "<AxesSubplot:xlabel='Delta 15 N (o/oo)', ylabel='Delta 13 C (o/oo)'>"
      ]
     },
     "execution_count": 55,
     "metadata": {},
     "output_type": "execute_result"
    },
    {
     "data": {
      "image/png": "[encoded data removed]",
      "text/plain": [
       "<Figure size 432x288 with 1 Axes>"
      ]
     },
     "metadata": {
      "needs_background": "light"
     },
     "output_type": "display_data"
    }
   ],
   "source": [
    "penguin_information.plot.scatter(x=\"Delta 15 N (o/oo)\", y=\"Delta 13 C (o/oo)\")"
   ]
  },
  {
   "cell_type": "markdown",
   "id": "9085df46",
   "metadata": {},
   "source": [
    "A positive moderate correlation was previously noted on Delta 15 N (o/oo) and Delta 13 C (o/oo) however the correlation isn't obvious from the scatter plot."
   ]
  },
  {
   "cell_type": "markdown",
   "id": "12f16909",
   "metadata": {},
   "source": [
    "#### Culmen Depth (mm) and Flipper Length (mm)"
   ]
  },
  {
   "cell_type": "code",
   "execution_count": 56,
   "id": "e6df7c4f",
   "metadata": {},
   "outputs": [
    {
     "data": {
      "text/plain": [
       "<AxesSubplot:xlabel='Culmen Depth (mm)', ylabel='Flipper Length (mm)'>"
      ]
     },
     "execution_count": 56,
     "metadata": {},
     "output_type": "execute_result"
    },
    {
     "data": {
      "image/png": "[encoded data removed]",
      "text/plain": [
       "<Figure size 432x288 with 1 Axes>"
      ]
     },
     "metadata": {
      "needs_background": "light"
     },
     "output_type": "display_data"
    }
   ],
   "source": [
    "penguin_information.plot.scatter(x=\"Culmen Depth (mm)\", y=\"Flipper Length (mm)\")"
   ]
  },
  {
   "cell_type": "markdown",
   "id": "41bf4525",
   "metadata": {},
   "source": [
    "A positive moderate correlation was previously noted on Culmen Depth (mm) and Flipper Length (mm) with a correlation that can be seen above, 2 large clusters can be seen which may be due to another variable."
   ]
  },
  {
   "cell_type": "markdown",
   "id": "48a916e7",
   "metadata": {},
   "source": [
    "#### Body Mass (g) and Delta 15 N (o/oo)"
   ]
  },
  {
   "cell_type": "code",
   "execution_count": 57,
   "id": "d98d4400",
   "metadata": {},
   "outputs": [
    {
     "data": {
      "text/plain": [
       "<AxesSubplot:xlabel='Body Mass (g)', ylabel='Delta 15 N (o/oo)'>"
      ]
     },
     "execution_count": 57,
     "metadata": {},
     "output_type": "execute_result"
    },
    {
     "data": {
      "image/png": "[encoded data removed]",
      "text/plain": [
       "<Figure size 432x288 with 1 Axes>"
      ]
     },
     "metadata": {
      "needs_background": "light"
     },
     "output_type": "display_data"
    }
   ],
   "source": [
    "penguin_information.plot.scatter(x=\"Body Mass (g)\", y=\"Delta 15 N (o/oo)\")"
   ]
  },
  {
   "cell_type": "markdown",
   "id": "6a6d41ab",
   "metadata": {},
   "source": [
    "A negative moderate correlation was previously noted on Body Mass (g) and Delta 15 N (o/oo) which can be seen in the scatter plot above."
   ]
  },
  {
   "cell_type": "markdown",
   "id": "62e8a705",
   "metadata": {},
   "source": [
    "#### Summary of correlation among numeric data"
   ]
  },
  {
   "cell_type": "markdown",
   "id": "ed4b2b21",
   "metadata": {},
   "source": [
    "In the moderate correlation scatter plots, it was clear that there were clusters which could've been determined by a numerous amount of different non-numeric column which will be investigated further."
   ]
  },
  {
   "cell_type": "markdown",
   "id": "d98f6b09",
   "metadata": {},
   "source": [
    "#### Culmen Depth (mm) and Species"
   ]
  },
  {
   "cell_type": "code",
   "execution_count": 58,
   "id": "72c466a2",
   "metadata": {},
   "outputs": [
    {
     "ename": "NameError",
     "evalue": "name 'plt' is not defined",
     "output_type": "error",
     "traceback": [
      "\u001b[0;31m---------------------------------------------------------------------------\u001b[0m",
      "\u001b[0;31mNameError\u001b[0m                                 Traceback (most recent call last)",
      "\u001b[0;32m/tmp/ipykernel_779220/1484153786.py\u001b[0m in \u001b[0;36m<cell line: 4>\u001b[0;34m()\u001b[0m\n\u001b[1;32m      2\u001b[0m \u001b[0;31m# boxplot of Culmen Depth (mm) against Species\u001b[0m\u001b[0;34m\u001b[0m\u001b[0;34m\u001b[0m\u001b[0m\n\u001b[1;32m      3\u001b[0m \u001b[0msns\u001b[0m\u001b[0;34m.\u001b[0m\u001b[0mboxplot\u001b[0m\u001b[0;34m(\u001b[0m\u001b[0mdata\u001b[0m\u001b[0;34m=\u001b[0m\u001b[0mpenguin_information\u001b[0m\u001b[0;34m,\u001b[0m \u001b[0mx\u001b[0m\u001b[0;34m=\u001b[0m\u001b[0;34m\"Culmen Depth (mm)\"\u001b[0m\u001b[0;34m,\u001b[0m \u001b[0my\u001b[0m\u001b[0;34m=\u001b[0m\u001b[0;34m\"Species\"\u001b[0m\u001b[0;34m,\u001b[0m \u001b[0morient\u001b[0m\u001b[0;34m=\u001b[0m\u001b[0;34m\"h\"\u001b[0m\u001b[0;34m)\u001b[0m\u001b[0;34m\u001b[0m\u001b[0;34m\u001b[0m\u001b[0m\n\u001b[0;32m----> 4\u001b[0;31m \u001b[0mplt\u001b[0m\u001b[0;34m.\u001b[0m\u001b[0mtitle\u001b[0m\u001b[0;34m(\u001b[0m\u001b[0;34m\"Boxplot of Culmen Depth (mm) w.r.t Species\"\u001b[0m\u001b[0;34m)\u001b[0m\u001b[0;34m;\u001b[0m\u001b[0;34m\u001b[0m\u001b[0;34m\u001b[0m\u001b[0m\n\u001b[0m",
      "\u001b[0;31mNameError\u001b[0m: name 'plt' is not defined"
     ]
    },
    {
     "data": {
      "image/png": "[encoded data removed]",
      "text/plain": [
       "<Figure size 432x288 with 1 Axes>"
      ]
     },
     "metadata": {
      "needs_background": "light"
     },
     "output_type": "display_data"
    }
   ],
   "source": [
    "import seaborn as sns\n",
    "# boxplot of Culmen Depth (mm) against Species\n",
    "sns.boxplot(data=penguin_information, x=\"Culmen Depth (mm)\", y=\"Species\", orient=\"h\")\n",
    "plt.title(\"Boxplot of Culmen Depth (mm) w.r.t Species\");"
   ]
  },
  {
   "cell_type": "markdown",
   "id": "1a1f0390",
   "metadata": {},
   "source": [
    "Previously we saw a separation between of culmen Depth and flipper length, we speculated that this could be due to another variable."
   ]
  },
  {
   "cell_type": "markdown",
   "id": "b701d8c5",
   "metadata": {},
   "source": [
    "#### Flipper Length (mm) and Species"
   ]
  },
  {
   "cell_type": "code",
   "execution_count": 59,
   "id": "509ab67b",
   "metadata": {},
   "outputs": [
    {
     "ename": "NameError",
     "evalue": "name 'plt' is not defined",
     "output_type": "error",
     "traceback": [
      "\u001b[0;31m---------------------------------------------------------------------------\u001b[0m",
      "\u001b[0;31mNameError\u001b[0m                                 Traceback (most recent call last)",
      "\u001b[0;32m/tmp/ipykernel_779220/4291250012.py\u001b[0m in \u001b[0;36m<cell line: 3>\u001b[0;34m()\u001b[0m\n\u001b[1;32m      1\u001b[0m \u001b[0;31m# boxplot of Flipper Length (mm) against Species\u001b[0m\u001b[0;34m\u001b[0m\u001b[0;34m\u001b[0m\u001b[0m\n\u001b[1;32m      2\u001b[0m \u001b[0msns\u001b[0m\u001b[0;34m.\u001b[0m\u001b[0mboxplot\u001b[0m\u001b[0;34m(\u001b[0m\u001b[0mdata\u001b[0m\u001b[0;34m=\u001b[0m\u001b[0mpenguin_information\u001b[0m\u001b[0;34m,\u001b[0m \u001b[0mx\u001b[0m\u001b[0;34m=\u001b[0m\u001b[0;34m\"Flipper Length (mm)\"\u001b[0m\u001b[0;34m,\u001b[0m \u001b[0my\u001b[0m\u001b[0;34m=\u001b[0m\u001b[0;34m\"Species\"\u001b[0m\u001b[0;34m,\u001b[0m \u001b[0morient\u001b[0m\u001b[0;34m=\u001b[0m\u001b[0;34m\"h\"\u001b[0m\u001b[0;34m)\u001b[0m\u001b[0;34m\u001b[0m\u001b[0;34m\u001b[0m\u001b[0m\n\u001b[0;32m----> 3\u001b[0;31m \u001b[0mplt\u001b[0m\u001b[0;34m.\u001b[0m\u001b[0mtitle\u001b[0m\u001b[0;34m(\u001b[0m\u001b[0;34m\"Boxplot of Flipper Length (mm) w.r.t Species\"\u001b[0m\u001b[0;34m)\u001b[0m\u001b[0;34m;\u001b[0m\u001b[0;34m\u001b[0m\u001b[0;34m\u001b[0m\u001b[0m\n\u001b[0m",
      "\u001b[0;31mNameError\u001b[0m: name 'plt' is not defined"
     ]
    },
    {
     "data": {
      "image/png": "[encoded data removed]",
      "text/plain": [
       "<Figure size 432x288 with 1 Axes>"
      ]
     },
     "metadata": {
      "needs_background": "light"
     },
     "output_type": "display_data"
    }
   ],
   "source": [
    "# boxplot of Flipper Length (mm) against Species\n",
    "sns.boxplot(data=penguin_information, x=\"Flipper Length (mm)\", y=\"Species\", orient=\"h\")\n",
    "plt.title(\"Boxplot of Flipper Length (mm) w.r.t Species\");"
   ]
  },
  {
   "cell_type": "markdown",
   "id": "00b515ce",
   "metadata": {},
   "source": [
    "From the boxplot comparing Culmen Depth (mm) w.r.t Species and Flipper Length (mm) w.r.t Species, the gentoo penguin can be labeled as the cluster on the top right, staying within the flipper length range of 200 - 230 and culmen depth range of roughly 13 - 17.5."
   ]
  },
  {
   "cell_type": "code",
   "execution_count": 60,
   "id": "0cf0601f",
   "metadata": {},
   "outputs": [
    {
     "data": {
      "text/plain": [
       "Index(['studyName', 'Sample Number', 'Species', 'Region', 'Island', 'Stage',\n",
       "       'Individual ID', 'Clutch Completion', 'Date Egg', 'Culmen Length (mm)',\n",
       "       'Culmen Depth (mm)', 'Flipper Length (mm)', 'Body Mass (g)', 'Sex',\n",
       "       'Delta 15 N (o/oo)', 'Delta 13 C (o/oo)', 'Comments'],\n",
       "      dtype='object')"
      ]
     },
     "execution_count": 60,
     "metadata": {},
     "output_type": "execute_result"
    }
   ],
   "source": [
    "penguin_information.columns"
   ]
  },
  {
   "cell_type": "code",
   "execution_count": 61,
   "id": "b4069a38",
   "metadata": {},
   "outputs": [
    {
     "data": {
      "text/plain": [
       "Island     Species                                  \n",
       "Biscoe     Adelie Penguin (Pygoscelis adeliae)           44\n",
       "           Gentoo penguin (Pygoscelis papua)            124\n",
       "Dream      Adelie Penguin (Pygoscelis adeliae)           56\n",
       "           Chinstrap penguin (Pygoscelis antarctica)     68\n",
       "Torgersen  Adelie Penguin (Pygoscelis adeliae)           52\n",
       "dtype: int64"
      ]
     },
     "execution_count": 61,
     "metadata": {},
     "output_type": "execute_result"
    }
   ],
   "source": [
    "penguin_information.groupby([\"Island\", \"Species\"]).size()"
   ]
  },
  {
   "cell_type": "markdown",
   "id": "74950aac",
   "metadata": {},
   "source": [
    "It can be observed that the Adelie Penguin was taken from all the islands, while the Gentoo penguin and Chinstrap penguin were taken both taken from one island."
   ]
  },
  {
   "cell_type": "code",
   "execution_count": 62,
   "id": "9515ff81",
   "metadata": {},
   "outputs": [
    {
     "ename": "NameError",
     "evalue": "name 'plt' is not defined",
     "output_type": "error",
     "traceback": [
      "\u001b[0;31m---------------------------------------------------------------------------\u001b[0m",
      "\u001b[0;31mNameError\u001b[0m                                 Traceback (most recent call last)",
      "\u001b[0;32m/tmp/ipykernel_779220/2686279416.py\u001b[0m in \u001b[0;36m<cell line: 4>\u001b[0;34m()\u001b[0m\n\u001b[1;32m      2\u001b[0m \u001b[0;31m# boxplot of Culmen Depth (mm) against Species\u001b[0m\u001b[0;34m\u001b[0m\u001b[0;34m\u001b[0m\u001b[0m\n\u001b[1;32m      3\u001b[0m \u001b[0msns\u001b[0m\u001b[0;34m.\u001b[0m\u001b[0mboxplot\u001b[0m\u001b[0;34m(\u001b[0m\u001b[0mdata\u001b[0m\u001b[0;34m=\u001b[0m\u001b[0mpenguin_information\u001b[0m\u001b[0;34m,\u001b[0m \u001b[0mx\u001b[0m\u001b[0;34m=\u001b[0m\u001b[0;34m\"Culmen Depth (mm)\"\u001b[0m\u001b[0;34m,\u001b[0m \u001b[0my\u001b[0m\u001b[0;34m=\u001b[0m\u001b[0;34m\"Island\"\u001b[0m\u001b[0;34m,\u001b[0m \u001b[0morient\u001b[0m\u001b[0;34m=\u001b[0m\u001b[0;34m\"h\"\u001b[0m\u001b[0;34m)\u001b[0m\u001b[0;34m\u001b[0m\u001b[0;34m\u001b[0m\u001b[0m\n\u001b[0;32m----> 4\u001b[0;31m \u001b[0mplt\u001b[0m\u001b[0;34m.\u001b[0m\u001b[0mtitle\u001b[0m\u001b[0;34m(\u001b[0m\u001b[0;34m\"Boxplot of Culmen Depth (mm) w.r.t Species\"\u001b[0m\u001b[0;34m)\u001b[0m\u001b[0;34m;\u001b[0m\u001b[0;34m\u001b[0m\u001b[0;34m\u001b[0m\u001b[0m\n\u001b[0m",
      "\u001b[0;31mNameError\u001b[0m: name 'plt' is not defined"
     ]
    },
    {
     "data": {
      "image/png": "[encoded data removed]",
      "text/plain": [
       "<Figure size 432x288 with 1 Axes>"
      ]
     },
     "metadata": {
      "needs_background": "light"
     },
     "output_type": "display_data"
    }
   ],
   "source": [
    "import seaborn as sns\n",
    "# boxplot of Culmen Depth (mm) against Species\n",
    "sns.boxplot(data=penguin_information, x=\"Culmen Depth (mm)\", y=\"Island\", orient=\"h\")\n",
    "plt.title(\"Boxplot of Culmen Depth (mm) w.r.t Species\");"
   ]
  },
  {
   "cell_type": "markdown",
   "id": "f3880617",
   "metadata": {},
   "source": [
    "When comparing the above boxplot to the boxplot comparing Culmen Depth (mm) and Species, it can be seen that the islands are shaped silimar to the majority of the penguin they contain, this can be clearly seen in the Biscoe island mainly containing the gentoo penguin. So Islands don't play as large a part in culment depth as the species does."
   ]
  },
  {
   "cell_type": "code",
   "execution_count": 63,
   "id": "a52d78c7",
   "metadata": {},
   "outputs": [
    {
     "data": {
      "text/plain": [
       "Date Egg  Date Egg\n",
       "2007      11          104\n",
       "          12            6\n",
       "2008      11          114\n",
       "2009      11          112\n",
       "          12            8\n",
       "Name: Date Egg, dtype: int64"
      ]
     },
     "execution_count": 63,
     "metadata": {},
     "output_type": "execute_result"
    }
   ],
   "source": [
    "penguin_information[\"Date Egg\"].groupby([penguin_information[\"Date Egg\"].dt.year, penguin_information[\"Date Egg\"].dt.month]).size()"
   ]
  },
  {
   "cell_type": "markdown",
   "id": "c0776fe8",
   "metadata": {},
   "source": [
    "It can be observed that the penguins were all evenly sampled every year."
   ]
  },
  {
   "cell_type": "code",
   "execution_count": 64,
   "id": "0ccf0cd6",
   "metadata": {},
   "outputs": [
    {
     "ename": "NameError",
     "evalue": "name 'plt' is not defined",
     "output_type": "error",
     "traceback": [
      "\u001b[0;31m---------------------------------------------------------------------------\u001b[0m",
      "\u001b[0;31mNameError\u001b[0m                                 Traceback (most recent call last)",
      "\u001b[0;32m/tmp/ipykernel_779220/3699608490.py\u001b[0m in \u001b[0;36m<cell line: 4>\u001b[0;34m()\u001b[0m\n\u001b[1;32m      2\u001b[0m \u001b[0;31m# boxplot of Culmen Depth (mm) against Species\u001b[0m\u001b[0;34m\u001b[0m\u001b[0;34m\u001b[0m\u001b[0m\n\u001b[1;32m      3\u001b[0m \u001b[0msns\u001b[0m\u001b[0;34m.\u001b[0m\u001b[0mboxplot\u001b[0m\u001b[0;34m(\u001b[0m\u001b[0mdata\u001b[0m\u001b[0;34m=\u001b[0m\u001b[0mpenguin_information\u001b[0m\u001b[0;34m,\u001b[0m \u001b[0mx\u001b[0m\u001b[0;34m=\u001b[0m\u001b[0;34m\"Body Mass (g)\"\u001b[0m\u001b[0;34m,\u001b[0m \u001b[0my\u001b[0m\u001b[0;34m=\u001b[0m\u001b[0;34m\"Sex\"\u001b[0m\u001b[0;34m,\u001b[0m \u001b[0morient\u001b[0m\u001b[0;34m=\u001b[0m\u001b[0;34m\"h\"\u001b[0m\u001b[0;34m)\u001b[0m\u001b[0;34m\u001b[0m\u001b[0;34m\u001b[0m\u001b[0m\n\u001b[0;32m----> 4\u001b[0;31m \u001b[0mplt\u001b[0m\u001b[0;34m.\u001b[0m\u001b[0mtitle\u001b[0m\u001b[0;34m(\u001b[0m\u001b[0;34m\"Boxplot of Culmen Depth (mm) w.r.t Species\"\u001b[0m\u001b[0;34m)\u001b[0m\u001b[0;34m;\u001b[0m\u001b[0;34m\u001b[0m\u001b[0;34m\u001b[0m\u001b[0m\n\u001b[0m",
      "\u001b[0;31mNameError\u001b[0m: name 'plt' is not defined"
     ]
    },
    {
     "data": {
      "image/png": "[encoded data removed]",
      "text/plain": [
       "<Figure size 432x288 with 1 Axes>"
      ]
     },
     "metadata": {
      "needs_background": "light"
     },
     "output_type": "display_data"
    }
   ],
   "source": [
    "import seaborn as sns\n",
    "# boxplot of Culmen Depth (mm) against Species\n",
    "sns.boxplot(data=penguin_information, x=\"Body Mass (g)\", y=\"Sex\", orient=\"h\")\n",
    "plt.title(\"Boxplot of Culmen Depth (mm) w.r.t Species\");"
   ]
  },
  {
   "cell_type": "markdown",
   "id": "021b9bcf",
   "metadata": {},
   "source": [
    "### Task 3"
   ]
  },
  {
   "cell_type": "code",
   "execution_count": 65,
   "id": "ece98b23",
   "metadata": {},
   "outputs": [
    {
     "data": {
      "text/html": [
       "<div>\n",
       "<style scoped>\n",
       "    .dataframe tbody tr th:only-of-type {\n",
       "        vertical-align: middle;\n",
       "    }\n",
       "\n",
       "    .dataframe tbody tr th {\n",
       "        vertical-align: top;\n",
       "    }\n",
       "\n",
       "    .dataframe thead th {\n",
       "        text-align: right;\n",
       "    }\n",
       "</style>\n",
       "<table border=\"1\" class=\"dataframe\">\n",
       "  <thead>\n",
       "    <tr style=\"text-align: right;\">\n",
       "      <th></th>\n",
       "      <th>Culmen Length (mm)</th>\n",
       "      <th>Culmen Depth (mm)</th>\n",
       "      <th>Flipper Length (mm)</th>\n",
       "      <th>Body Mass (g)</th>\n",
       "    </tr>\n",
       "    <tr>\n",
       "      <th>Species</th>\n",
       "      <th></th>\n",
       "      <th></th>\n",
       "      <th></th>\n",
       "      <th></th>\n",
       "    </tr>\n",
       "  </thead>\n",
       "  <tbody>\n",
       "    <tr>\n",
       "      <th>Adelie Penguin (Pygoscelis adeliae)</th>\n",
       "      <td>38.825144</td>\n",
       "      <td>18.338495</td>\n",
       "      <td>190.025758</td>\n",
       "      <td>3703.958910</td>\n",
       "    </tr>\n",
       "    <tr>\n",
       "      <th>Chinstrap penguin (Pygoscelis antarctica)</th>\n",
       "      <td>48.833824</td>\n",
       "      <td>18.420588</td>\n",
       "      <td>195.823529</td>\n",
       "      <td>3733.088235</td>\n",
       "    </tr>\n",
       "    <tr>\n",
       "      <th>Gentoo penguin (Pygoscelis papua)</th>\n",
       "      <td>47.475983</td>\n",
       "      <td>14.999606</td>\n",
       "      <td>217.055768</td>\n",
       "      <td>5068.965761</td>\n",
       "    </tr>\n",
       "  </tbody>\n",
       "</table>\n",
       "</div>"
      ],
      "text/plain": [
       "                                           Culmen Length (mm)  \\\n",
       "Species                                                         \n",
       "Adelie Penguin (Pygoscelis adeliae)                 38.825144   \n",
       "Chinstrap penguin (Pygoscelis antarctica)           48.833824   \n",
       "Gentoo penguin (Pygoscelis papua)                   47.475983   \n",
       "\n",
       "                                           Culmen Depth (mm)  \\\n",
       "Species                                                        \n",
       "Adelie Penguin (Pygoscelis adeliae)                18.338495   \n",
       "Chinstrap penguin (Pygoscelis antarctica)          18.420588   \n",
       "Gentoo penguin (Pygoscelis papua)                  14.999606   \n",
       "\n",
       "                                           Flipper Length (mm)  Body Mass (g)  \n",
       "Species                                                                        \n",
       "Adelie Penguin (Pygoscelis adeliae)                 190.025758    3703.958910  \n",
       "Chinstrap penguin (Pygoscelis antarctica)           195.823529    3733.088235  \n",
       "Gentoo penguin (Pygoscelis papua)                   217.055768    5068.965761  "
      ]
     },
     "execution_count": 65,
     "metadata": {},
     "output_type": "execute_result"
    }
   ],
   "source": [
    "# Get the mean for all numeric data for the grouped by species\n",
    "df = penguin_information.groupby(['Species']).mean()\n",
    "df = df.drop(columns=['Sample Number', 'Delta 15 N (o/oo)', 'Delta 13 C (o/oo)'])\n",
    "df"
   ]
  },
  {
   "cell_type": "markdown",
   "id": "4352400d",
   "metadata": {},
   "source": [
    "It can be observed that the chinstrap and gentoo penguin have a similar culmen length while the adelie penguin is 10mm less. \n",
    "\n",
    "The adelie penguin and chinstrap penguin in the case of culmen dpeth, are more similar with the gentoo penguin having a slightly smaller culment depth.\n",
    "\n",
    "The flipper length is with the smallest value appointed to the adelie penguin, with the Gentoo penguin having the largest value.\n",
    "\n",
    "The body mass is scaled similarly to the flipper length, this correlates to the Flipper Length and Body Mass (g) scatter plot which had a high positive correlation."
   ]
  },
  {
   "cell_type": "code",
   "execution_count": 66,
   "id": "625340d1",
   "metadata": {},
   "outputs": [
    {
     "data": {
      "text/html": [
       "<div>\n",
       "<style scoped>\n",
       "    .dataframe tbody tr th:only-of-type {\n",
       "        vertical-align: middle;\n",
       "    }\n",
       "\n",
       "    .dataframe tbody tr th {\n",
       "        vertical-align: top;\n",
       "    }\n",
       "\n",
       "    .dataframe thead th {\n",
       "        text-align: right;\n",
       "    }\n",
       "</style>\n",
       "<table border=\"1\" class=\"dataframe\">\n",
       "  <thead>\n",
       "    <tr style=\"text-align: right;\">\n",
       "      <th></th>\n",
       "      <th>Culmen Length (mm)</th>\n",
       "      <th>Culmen Depth (mm)</th>\n",
       "      <th>Flipper Length (mm)</th>\n",
       "      <th>Body Mass (g)</th>\n",
       "    </tr>\n",
       "    <tr>\n",
       "      <th>Species</th>\n",
       "      <th></th>\n",
       "      <th></th>\n",
       "      <th></th>\n",
       "      <th></th>\n",
       "    </tr>\n",
       "  </thead>\n",
       "  <tbody>\n",
       "    <tr>\n",
       "      <th>Adelie Penguin (Pygoscelis adeliae)</th>\n",
       "      <td>2.686991</td>\n",
       "      <td>1.216483</td>\n",
       "      <td>6.578130</td>\n",
       "      <td>458.848798</td>\n",
       "    </tr>\n",
       "    <tr>\n",
       "      <th>Chinstrap penguin (Pygoscelis antarctica)</th>\n",
       "      <td>3.339256</td>\n",
       "      <td>1.135395</td>\n",
       "      <td>7.131894</td>\n",
       "      <td>384.335081</td>\n",
       "    </tr>\n",
       "    <tr>\n",
       "      <th>Gentoo penguin (Pygoscelis papua)</th>\n",
       "      <td>3.086123</td>\n",
       "      <td>0.996447</td>\n",
       "      <td>6.621801</td>\n",
       "      <td>508.164382</td>\n",
       "    </tr>\n",
       "  </tbody>\n",
       "</table>\n",
       "</div>"
      ],
      "text/plain": [
       "                                           Culmen Length (mm)  \\\n",
       "Species                                                         \n",
       "Adelie Penguin (Pygoscelis adeliae)                  2.686991   \n",
       "Chinstrap penguin (Pygoscelis antarctica)            3.339256   \n",
       "Gentoo penguin (Pygoscelis papua)                    3.086123   \n",
       "\n",
       "                                           Culmen Depth (mm)  \\\n",
       "Species                                                        \n",
       "Adelie Penguin (Pygoscelis adeliae)                 1.216483   \n",
       "Chinstrap penguin (Pygoscelis antarctica)           1.135395   \n",
       "Gentoo penguin (Pygoscelis papua)                   0.996447   \n",
       "\n",
       "                                           Flipper Length (mm)  Body Mass (g)  \n",
       "Species                                                                        \n",
       "Adelie Penguin (Pygoscelis adeliae)                   6.578130     458.848798  \n",
       "Chinstrap penguin (Pygoscelis antarctica)             7.131894     384.335081  \n",
       "Gentoo penguin (Pygoscelis papua)                     6.621801     508.164382  "
      ]
     },
     "execution_count": 66,
     "metadata": {},
     "output_type": "execute_result"
    }
   ],
   "source": [
    "df = penguin_information.groupby(['Species']).std()\n",
    "df = df.drop(columns=['Sample Number', 'Delta 15 N (o/oo)', 'Delta 13 C (o/oo)'])\n",
    "df"
   ]
  },
  {
   "cell_type": "markdown",
   "id": "ffdd50af",
   "metadata": {},
   "source": [
    "The standard deviations can be seen above, with the biggest deviation belonging to flipper length and body mass. Earlier we observed that Body mass behaved differently across genders, with flipper length being correlated with body mass, this may be the reason for its large deviation."
   ]
  },
  {
   "cell_type": "markdown",
   "id": "e6991869",
   "metadata": {},
   "source": [
    "### Task 4"
   ]
  },
  {
   "cell_type": "markdown",
   "id": "b376be0d",
   "metadata": {},
   "source": [
    "#### Adelie Penguin (Pygoscelis adeliae)"
   ]
  },
  {
   "cell_type": "code",
   "execution_count": 67,
   "id": "2e250946",
   "metadata": {},
   "outputs": [
    {
     "data": {
      "text/html": [
       "<style type=\"text/css\">\n",
       "#T_c4bd8_row0_col0, #T_c4bd8_row1_col1, #T_c4bd8_row2_col2, #T_c4bd8_row3_col3, #T_c4bd8_row4_col4, #T_c4bd8_row5_col5 {\n",
       "  background-color: #800026;\n",
       "  color: #f1f1f1;\n",
       "}\n",
       "#T_c4bd8_row0_col1 {\n",
       "  background-color: #fec965;\n",
       "  color: #000000;\n",
       "}\n",
       "#T_c4bd8_row0_col2 {\n",
       "  background-color: #fd9a42;\n",
       "  color: #000000;\n",
       "}\n",
       "#T_c4bd8_row0_col3 {\n",
       "  background-color: #fd7034;\n",
       "  color: #f1f1f1;\n",
       "}\n",
       "#T_c4bd8_row0_col4 {\n",
       "  background-color: #fff3af;\n",
       "  color: #000000;\n",
       "}\n",
       "#T_c4bd8_row0_col5, #T_c4bd8_row3_col5 {\n",
       "  background-color: #ffe48d;\n",
       "  color: #000000;\n",
       "}\n",
       "#T_c4bd8_row1_col0 {\n",
       "  background-color: #feb44e;\n",
       "  color: #000000;\n",
       "}\n",
       "#T_c4bd8_row1_col2 {\n",
       "  background-color: #fea546;\n",
       "  color: #000000;\n",
       "}\n",
       "#T_c4bd8_row1_col3, #T_c4bd8_row3_col2 {\n",
       "  background-color: #fc6a32;\n",
       "  color: #f1f1f1;\n",
       "}\n",
       "#T_c4bd8_row1_col4 {\n",
       "  background-color: #ffefa4;\n",
       "  color: #000000;\n",
       "}\n",
       "#T_c4bd8_row1_col5 {\n",
       "  background-color: #feca66;\n",
       "  color: #000000;\n",
       "}\n",
       "#T_c4bd8_row2_col0 {\n",
       "  background-color: #febf5a;\n",
       "  color: #000000;\n",
       "}\n",
       "#T_c4bd8_row2_col1 {\n",
       "  background-color: #fedf83;\n",
       "  color: #000000;\n",
       "}\n",
       "#T_c4bd8_row2_col3 {\n",
       "  background-color: #fd933f;\n",
       "  color: #000000;\n",
       "}\n",
       "#T_c4bd8_row2_col4, #T_c4bd8_row2_col5, #T_c4bd8_row4_col1, #T_c4bd8_row4_col3, #T_c4bd8_row5_col0, #T_c4bd8_row5_col2 {\n",
       "  background-color: #ffffcc;\n",
       "  color: #000000;\n",
       "}\n",
       "#T_c4bd8_row3_col0 {\n",
       "  background-color: #fd7435;\n",
       "  color: #f1f1f1;\n",
       "}\n",
       "#T_c4bd8_row3_col1, #T_c4bd8_row5_col4 {\n",
       "  background-color: #fd8439;\n",
       "  color: #f1f1f1;\n",
       "}\n",
       "#T_c4bd8_row3_col4 {\n",
       "  background-color: #fffec9;\n",
       "  color: #000000;\n",
       "}\n",
       "#T_c4bd8_row4_col0 {\n",
       "  background-color: #fff6b6;\n",
       "  color: #000000;\n",
       "}\n",
       "#T_c4bd8_row4_col2 {\n",
       "  background-color: #ffe794;\n",
       "  color: #000000;\n",
       "}\n",
       "#T_c4bd8_row4_col5 {\n",
       "  background-color: #fc5d2e;\n",
       "  color: #f1f1f1;\n",
       "}\n",
       "#T_c4bd8_row5_col1 {\n",
       "  background-color: #fff8ba;\n",
       "  color: #000000;\n",
       "}\n",
       "#T_c4bd8_row5_col3 {\n",
       "  background-color: #fffdc8;\n",
       "  color: #000000;\n",
       "}\n",
       "</style>\n",
       "<table id=\"T_c4bd8\">\n",
       "  <thead>\n",
       "    <tr>\n",
       "      <th class=\"blank level0\" >&nbsp;</th>\n",
       "      <th id=\"T_c4bd8_level0_col0\" class=\"col_heading level0 col0\" >Culmen Length (mm)</th>\n",
       "      <th id=\"T_c4bd8_level0_col1\" class=\"col_heading level0 col1\" >Culmen Depth (mm)</th>\n",
       "      <th id=\"T_c4bd8_level0_col2\" class=\"col_heading level0 col2\" >Flipper Length (mm)</th>\n",
       "      <th id=\"T_c4bd8_level0_col3\" class=\"col_heading level0 col3\" >Body Mass (g)</th>\n",
       "      <th id=\"T_c4bd8_level0_col4\" class=\"col_heading level0 col4\" >Delta 15 N (o/oo)</th>\n",
       "      <th id=\"T_c4bd8_level0_col5\" class=\"col_heading level0 col5\" >Delta 13 C (o/oo)</th>\n",
       "    </tr>\n",
       "  </thead>\n",
       "  <tbody>\n",
       "    <tr>\n",
       "      <th id=\"T_c4bd8_level0_row0\" class=\"row_heading level0 row0\" >Culmen Length (mm)</th>\n",
       "      <td id=\"T_c4bd8_row0_col0\" class=\"data row0 col0\" >1.000000</td>\n",
       "      <td id=\"T_c4bd8_row0_col1\" class=\"data row0 col1\" >0.373196</td>\n",
       "      <td id=\"T_c4bd8_row0_col2\" class=\"data row0 col2\" >0.339833</td>\n",
       "      <td id=\"T_c4bd8_row0_col3\" class=\"data row0 col3\" >0.553830</td>\n",
       "      <td id=\"T_c4bd8_row0_col4\" class=\"data row0 col4\" >0.070931</td>\n",
       "      <td id=\"T_c4bd8_row0_col5\" class=\"data row0 col5\" >0.007198</td>\n",
       "    </tr>\n",
       "    <tr>\n",
       "      <th id=\"T_c4bd8_level0_row1\" class=\"row_heading level0 row1\" >Culmen Depth (mm)</th>\n",
       "      <td id=\"T_c4bd8_row1_col0\" class=\"data row1 col0\" >0.373196</td>\n",
       "      <td id=\"T_c4bd8_row1_col1\" class=\"data row1 col1\" >1.000000</td>\n",
       "      <td id=\"T_c4bd8_row1_col2\" class=\"data row1 col2\" >0.293057</td>\n",
       "      <td id=\"T_c4bd8_row1_col3\" class=\"data row1 col3\" >0.564990</td>\n",
       "      <td id=\"T_c4bd8_row1_col4\" class=\"data row1 col4\" >0.101734</td>\n",
       "      <td id=\"T_c4bd8_row1_col5\" class=\"data row1 col5\" >0.147919</td>\n",
       "    </tr>\n",
       "    <tr>\n",
       "      <th id=\"T_c4bd8_level0_row2\" class=\"row_heading level0 row2\" >Flipper Length (mm)</th>\n",
       "      <td id=\"T_c4bd8_row2_col0\" class=\"data row2 col0\" >0.339833</td>\n",
       "      <td id=\"T_c4bd8_row2_col1\" class=\"data row2 col1\" >0.293057</td>\n",
       "      <td id=\"T_c4bd8_row2_col2\" class=\"data row2 col2\" >1.000000</td>\n",
       "      <td id=\"T_c4bd8_row2_col3\" class=\"data row2 col3\" >0.474054</td>\n",
       "      <td id=\"T_c4bd8_row2_col4\" class=\"data row2 col4\" >-0.016268</td>\n",
       "      <td id=\"T_c4bd8_row2_col5\" class=\"data row2 col5\" >-0.215286</td>\n",
       "    </tr>\n",
       "    <tr>\n",
       "      <th id=\"T_c4bd8_level0_row3\" class=\"row_heading level0 row3\" >Body Mass (g)</th>\n",
       "      <td id=\"T_c4bd8_row3_col0\" class=\"data row3 col0\" >0.553830</td>\n",
       "      <td id=\"T_c4bd8_row3_col1\" class=\"data row3 col1\" >0.564990</td>\n",
       "      <td id=\"T_c4bd8_row3_col2\" class=\"data row3 col2\" >0.474054</td>\n",
       "      <td id=\"T_c4bd8_row3_col3\" class=\"data row3 col3\" >1.000000</td>\n",
       "      <td id=\"T_c4bd8_row3_col4\" class=\"data row3 col4\" >-0.007743</td>\n",
       "      <td id=\"T_c4bd8_row3_col5\" class=\"data row3 col5\" >0.007080</td>\n",
       "    </tr>\n",
       "    <tr>\n",
       "      <th id=\"T_c4bd8_level0_row4\" class=\"row_heading level0 row4\" >Delta 15 N (o/oo)</th>\n",
       "      <td id=\"T_c4bd8_row4_col0\" class=\"data row4 col0\" >0.070931</td>\n",
       "      <td id=\"T_c4bd8_row4_col1\" class=\"data row4 col1\" >0.101734</td>\n",
       "      <td id=\"T_c4bd8_row4_col2\" class=\"data row4 col2\" >-0.016268</td>\n",
       "      <td id=\"T_c4bd8_row4_col3\" class=\"data row4 col3\" >-0.007743</td>\n",
       "      <td id=\"T_c4bd8_row4_col4\" class=\"data row4 col4\" >1.000000</td>\n",
       "      <td id=\"T_c4bd8_row4_col5\" class=\"data row4 col5\" >0.508313</td>\n",
       "    </tr>\n",
       "    <tr>\n",
       "      <th id=\"T_c4bd8_level0_row5\" class=\"row_heading level0 row5\" >Delta 13 C (o/oo)</th>\n",
       "      <td id=\"T_c4bd8_row5_col0\" class=\"data row5 col0\" >0.007198</td>\n",
       "      <td id=\"T_c4bd8_row5_col1\" class=\"data row5 col1\" >0.147919</td>\n",
       "      <td id=\"T_c4bd8_row5_col2\" class=\"data row5 col2\" >-0.215286</td>\n",
       "      <td id=\"T_c4bd8_row5_col3\" class=\"data row5 col3\" >0.007080</td>\n",
       "      <td id=\"T_c4bd8_row5_col4\" class=\"data row5 col4\" >0.508313</td>\n",
       "      <td id=\"T_c4bd8_row5_col5\" class=\"data row5 col5\" >1.000000</td>\n",
       "    </tr>\n",
       "  </tbody>\n",
       "</table>\n"
      ],
      "text/plain": [
       "<pandas.io.formats.style.Styler at 0x7fffa91a6670>"
      ]
     },
     "execution_count": 67,
     "metadata": {},
     "output_type": "execute_result"
    }
   ],
   "source": [
    "# Select the adelie species only\n",
    "adelie = penguin_information.loc[penguin_information['Species'] == \"Adelie Penguin (Pygoscelis adeliae)\"]\n",
    "\n",
    "# correlation heatmap\n",
    "numeric_data = adelie[[\"Culmen Length (mm)\", \"Culmen Depth (mm)\", \"Flipper Length (mm)\", \n",
    "                              \"Body Mass (g)\", \"Delta 15 N (o/oo)\", \"Delta 13 C (o/oo)\"]]\n",
    "\n",
    "numeric_data.corr().style.background_gradient(cmap='YlOrRd')"
   ]
  },
  {
   "cell_type": "markdown",
   "id": "94d87ed6",
   "metadata": {},
   "source": [
    "#### Chinstrap penguin (Pygoscelis antarctica)"
   ]
  },
  {
   "cell_type": "code",
   "execution_count": 68,
   "id": "c2789195",
   "metadata": {},
   "outputs": [
    {
     "data": {
      "text/html": [
       "<style type=\"text/css\">\n",
       "#T_9bf85_row0_col0, #T_9bf85_row1_col1, #T_9bf85_row2_col2, #T_9bf85_row3_col3, #T_9bf85_row4_col4, #T_9bf85_row5_col5 {\n",
       "  background-color: #800026;\n",
       "  color: #f1f1f1;\n",
       "}\n",
       "#T_9bf85_row0_col1, #T_9bf85_row1_col3 {\n",
       "  background-color: #fc4f2a;\n",
       "  color: #f1f1f1;\n",
       "}\n",
       "#T_9bf85_row0_col2 {\n",
       "  background-color: #feba55;\n",
       "  color: #000000;\n",
       "}\n",
       "#T_9bf85_row0_col3 {\n",
       "  background-color: #fd7a37;\n",
       "  color: #f1f1f1;\n",
       "}\n",
       "#T_9bf85_row0_col4 {\n",
       "  background-color: #feca66;\n",
       "  color: #000000;\n",
       "}\n",
       "#T_9bf85_row0_col5 {\n",
       "  background-color: #fec15d;\n",
       "  color: #000000;\n",
       "}\n",
       "#T_9bf85_row1_col0 {\n",
       "  background-color: #fc592d;\n",
       "  color: #f1f1f1;\n",
       "}\n",
       "#T_9bf85_row1_col2 {\n",
       "  background-color: #fd913e;\n",
       "  color: #000000;\n",
       "}\n",
       "#T_9bf85_row1_col4 {\n",
       "  background-color: #fed673;\n",
       "  color: #000000;\n",
       "}\n",
       "#T_9bf85_row1_col5 {\n",
       "  background-color: #fec863;\n",
       "  color: #000000;\n",
       "}\n",
       "#T_9bf85_row2_col0 {\n",
       "  background-color: #feac49;\n",
       "  color: #000000;\n",
       "}\n",
       "#T_9bf85_row2_col1 {\n",
       "  background-color: #fd7636;\n",
       "  color: #f1f1f1;\n",
       "}\n",
       "#T_9bf85_row2_col3 {\n",
       "  background-color: #f54026;\n",
       "  color: #f1f1f1;\n",
       "}\n",
       "#T_9bf85_row2_col4 {\n",
       "  background-color: #feb44e;\n",
       "  color: #000000;\n",
       "}\n",
       "#T_9bf85_row2_col5 {\n",
       "  background-color: #febb56;\n",
       "  color: #000000;\n",
       "}\n",
       "#T_9bf85_row3_col0 {\n",
       "  background-color: #fd9e43;\n",
       "  color: #000000;\n",
       "}\n",
       "#T_9bf85_row3_col1 {\n",
       "  background-color: #fc6832;\n",
       "  color: #f1f1f1;\n",
       "}\n",
       "#T_9bf85_row3_col2 {\n",
       "  background-color: #fd6e33;\n",
       "  color: #f1f1f1;\n",
       "}\n",
       "#T_9bf85_row3_col4 {\n",
       "  background-color: #ffe895;\n",
       "  color: #000000;\n",
       "}\n",
       "#T_9bf85_row3_col5 {\n",
       "  background-color: #fedc7c;\n",
       "  color: #000000;\n",
       "}\n",
       "#T_9bf85_row4_col0, #T_9bf85_row4_col1, #T_9bf85_row4_col3, #T_9bf85_row4_col5, #T_9bf85_row5_col2, #T_9bf85_row5_col4 {\n",
       "  background-color: #ffffcc;\n",
       "  color: #000000;\n",
       "}\n",
       "#T_9bf85_row4_col2 {\n",
       "  background-color: #fffac0;\n",
       "  color: #000000;\n",
       "}\n",
       "#T_9bf85_row5_col0 {\n",
       "  background-color: #fff9be;\n",
       "  color: #000000;\n",
       "}\n",
       "#T_9bf85_row5_col1 {\n",
       "  background-color: #fff6b6;\n",
       "  color: #000000;\n",
       "}\n",
       "#T_9bf85_row5_col3 {\n",
       "  background-color: #fff3ae;\n",
       "  color: #000000;\n",
       "}\n",
       "</style>\n",
       "<table id=\"T_9bf85\">\n",
       "  <thead>\n",
       "    <tr>\n",
       "      <th class=\"blank level0\" >&nbsp;</th>\n",
       "      <th id=\"T_9bf85_level0_col0\" class=\"col_heading level0 col0\" >Culmen Length (mm)</th>\n",
       "      <th id=\"T_9bf85_level0_col1\" class=\"col_heading level0 col1\" >Culmen Depth (mm)</th>\n",
       "      <th id=\"T_9bf85_level0_col2\" class=\"col_heading level0 col2\" >Flipper Length (mm)</th>\n",
       "      <th id=\"T_9bf85_level0_col3\" class=\"col_heading level0 col3\" >Body Mass (g)</th>\n",
       "      <th id=\"T_9bf85_level0_col4\" class=\"col_heading level0 col4\" >Delta 15 N (o/oo)</th>\n",
       "      <th id=\"T_9bf85_level0_col5\" class=\"col_heading level0 col5\" >Delta 13 C (o/oo)</th>\n",
       "    </tr>\n",
       "  </thead>\n",
       "  <tbody>\n",
       "    <tr>\n",
       "      <th id=\"T_9bf85_level0_row0\" class=\"row_heading level0 row0\" >Culmen Length (mm)</th>\n",
       "      <td id=\"T_9bf85_row0_col0\" class=\"data row0 col0\" >1.000000</td>\n",
       "      <td id=\"T_9bf85_row0_col1\" class=\"data row0 col1\" >0.653536</td>\n",
       "      <td id=\"T_9bf85_row0_col2\" class=\"data row0 col2\" >0.471607</td>\n",
       "      <td id=\"T_9bf85_row0_col3\" class=\"data row0 col3\" >0.513638</td>\n",
       "      <td id=\"T_9bf85_row0_col4\" class=\"data row0 col4\" >0.126853</td>\n",
       "      <td id=\"T_9bf85_row0_col5\" class=\"data row0 col5\" >0.162862</td>\n",
       "    </tr>\n",
       "    <tr>\n",
       "      <th id=\"T_9bf85_level0_row1\" class=\"row_heading level0 row1\" >Culmen Depth (mm)</th>\n",
       "      <td id=\"T_9bf85_row1_col0\" class=\"data row1 col0\" >0.653536</td>\n",
       "      <td id=\"T_9bf85_row1_col1\" class=\"data row1 col1\" >1.000000</td>\n",
       "      <td id=\"T_9bf85_row1_col2\" class=\"data row1 col2\" >0.580143</td>\n",
       "      <td id=\"T_9bf85_row1_col3\" class=\"data row1 col3\" >0.604498</td>\n",
       "      <td id=\"T_9bf85_row1_col4\" class=\"data row1 col4\" >0.077198</td>\n",
       "      <td id=\"T_9bf85_row1_col5\" class=\"data row1 col5\" >0.137349</td>\n",
       "    </tr>\n",
       "    <tr>\n",
       "      <th id=\"T_9bf85_level0_row2\" class=\"row_heading level0 row2\" >Flipper Length (mm)</th>\n",
       "      <td id=\"T_9bf85_row2_col0\" class=\"data row2 col0\" >0.471607</td>\n",
       "      <td id=\"T_9bf85_row2_col1\" class=\"data row2 col1\" >0.580143</td>\n",
       "      <td id=\"T_9bf85_row2_col2\" class=\"data row2 col2\" >1.000000</td>\n",
       "      <td id=\"T_9bf85_row2_col3\" class=\"data row2 col3\" >0.641559</td>\n",
       "      <td id=\"T_9bf85_row2_col4\" class=\"data row2 col4\" >0.217113</td>\n",
       "      <td id=\"T_9bf85_row2_col5\" class=\"data row2 col5\" >0.185342</td>\n",
       "    </tr>\n",
       "    <tr>\n",
       "      <th id=\"T_9bf85_level0_row3\" class=\"row_heading level0 row3\" >Body Mass (g)</th>\n",
       "      <td id=\"T_9bf85_row3_col0\" class=\"data row3 col0\" >0.513638</td>\n",
       "      <td id=\"T_9bf85_row3_col1\" class=\"data row3 col1\" >0.604498</td>\n",
       "      <td id=\"T_9bf85_row3_col2\" class=\"data row3 col2\" >0.641559</td>\n",
       "      <td id=\"T_9bf85_row3_col3\" class=\"data row3 col3\" >1.000000</td>\n",
       "      <td id=\"T_9bf85_row3_col4\" class=\"data row3 col4\" >-0.048422</td>\n",
       "      <td id=\"T_9bf85_row3_col5\" class=\"data row3 col5\" >0.043149</td>\n",
       "    </tr>\n",
       "    <tr>\n",
       "      <th id=\"T_9bf85_level0_row4\" class=\"row_heading level0 row4\" >Delta 15 N (o/oo)</th>\n",
       "      <td id=\"T_9bf85_row4_col0\" class=\"data row4 col0\" >0.126853</td>\n",
       "      <td id=\"T_9bf85_row4_col1\" class=\"data row4 col1\" >0.077198</td>\n",
       "      <td id=\"T_9bf85_row4_col2\" class=\"data row4 col2\" >0.217113</td>\n",
       "      <td id=\"T_9bf85_row4_col3\" class=\"data row4 col3\" >-0.048422</td>\n",
       "      <td id=\"T_9bf85_row4_col4\" class=\"data row4 col4\" >1.000000</td>\n",
       "      <td id=\"T_9bf85_row4_col5\" class=\"data row4 col5\" >-0.244165</td>\n",
       "    </tr>\n",
       "    <tr>\n",
       "      <th id=\"T_9bf85_level0_row5\" class=\"row_heading level0 row5\" >Delta 13 C (o/oo)</th>\n",
       "      <td id=\"T_9bf85_row5_col0\" class=\"data row5 col0\" >0.162862</td>\n",
       "      <td id=\"T_9bf85_row5_col1\" class=\"data row5 col1\" >0.137349</td>\n",
       "      <td id=\"T_9bf85_row5_col2\" class=\"data row5 col2\" >0.185342</td>\n",
       "      <td id=\"T_9bf85_row5_col3\" class=\"data row5 col3\" >0.043149</td>\n",
       "      <td id=\"T_9bf85_row5_col4\" class=\"data row5 col4\" >-0.244165</td>\n",
       "      <td id=\"T_9bf85_row5_col5\" class=\"data row5 col5\" >1.000000</td>\n",
       "    </tr>\n",
       "  </tbody>\n",
       "</table>\n"
      ],
      "text/plain": [
       "<pandas.io.formats.style.Styler at 0x7fffa91fa2e0>"
      ]
     },
     "execution_count": 68,
     "metadata": {},
     "output_type": "execute_result"
    }
   ],
   "source": [
    "# Select the adelie species only\n",
    "chinstrap = penguin_information.loc[penguin_information['Species'] == \"Chinstrap penguin (Pygoscelis antarctica)\"]\n",
    "\n",
    "# correlation heatmap\n",
    "numeric_data = chinstrap[[\"Culmen Length (mm)\", \"Culmen Depth (mm)\", \"Flipper Length (mm)\", \n",
    "                              \"Body Mass (g)\", \"Delta 15 N (o/oo)\", \"Delta 13 C (o/oo)\"]]\n",
    "\n",
    "numeric_data.corr().style.background_gradient(cmap='YlOrRd')"
   ]
  },
  {
   "cell_type": "markdown",
   "id": "03333bfd",
   "metadata": {},
   "source": [
    "#### Gentoo penguin (Pygoscelis papua)\t"
   ]
  },
  {
   "cell_type": "code",
   "execution_count": 69,
   "id": "e2d62ba1",
   "metadata": {},
   "outputs": [
    {
     "data": {
      "text/html": [
       "<style type=\"text/css\">\n",
       "#T_5fbfb_row0_col0, #T_5fbfb_row1_col1, #T_5fbfb_row2_col2, #T_5fbfb_row3_col3, #T_5fbfb_row4_col4, #T_5fbfb_row5_col5 {\n",
       "  background-color: #800026;\n",
       "  color: #f1f1f1;\n",
       "}\n",
       "#T_5fbfb_row0_col1 {\n",
       "  background-color: #fc4f2a;\n",
       "  color: #f1f1f1;\n",
       "}\n",
       "#T_5fbfb_row0_col2 {\n",
       "  background-color: #ed3022;\n",
       "  color: #f1f1f1;\n",
       "}\n",
       "#T_5fbfb_row0_col3 {\n",
       "  background-color: #f74327;\n",
       "  color: #f1f1f1;\n",
       "}\n",
       "#T_5fbfb_row0_col4 {\n",
       "  background-color: #fea145;\n",
       "  color: #000000;\n",
       "}\n",
       "#T_5fbfb_row0_col5 {\n",
       "  background-color: #feb651;\n",
       "  color: #000000;\n",
       "}\n",
       "#T_5fbfb_row1_col0 {\n",
       "  background-color: #fc592d;\n",
       "  color: #f1f1f1;\n",
       "}\n",
       "#T_5fbfb_row1_col2, #T_5fbfb_row3_col0 {\n",
       "  background-color: #f33b25;\n",
       "  color: #f1f1f1;\n",
       "}\n",
       "#T_5fbfb_row1_col3 {\n",
       "  background-color: #f84628;\n",
       "  color: #f1f1f1;\n",
       "}\n",
       "#T_5fbfb_row1_col4, #T_5fbfb_row2_col4 {\n",
       "  background-color: #fd8a3b;\n",
       "  color: #f1f1f1;\n",
       "}\n",
       "#T_5fbfb_row1_col5 {\n",
       "  background-color: #fec15d;\n",
       "  color: #000000;\n",
       "}\n",
       "#T_5fbfb_row2_col0 {\n",
       "  background-color: #f43e26;\n",
       "  color: #f1f1f1;\n",
       "}\n",
       "#T_5fbfb_row2_col1 {\n",
       "  background-color: #f84528;\n",
       "  color: #f1f1f1;\n",
       "}\n",
       "#T_5fbfb_row2_col3 {\n",
       "  background-color: #ef3323;\n",
       "  color: #f1f1f1;\n",
       "}\n",
       "#T_5fbfb_row2_col5 {\n",
       "  background-color: #fece6a;\n",
       "  color: #000000;\n",
       "}\n",
       "#T_5fbfb_row3_col1 {\n",
       "  background-color: #f13624;\n",
       "  color: #f1f1f1;\n",
       "}\n",
       "#T_5fbfb_row3_col2 {\n",
       "  background-color: #e51e1d;\n",
       "  color: #f1f1f1;\n",
       "}\n",
       "#T_5fbfb_row3_col4 {\n",
       "  background-color: #fea446;\n",
       "  color: #000000;\n",
       "}\n",
       "#T_5fbfb_row3_col5 {\n",
       "  background-color: #feac49;\n",
       "  color: #000000;\n",
       "}\n",
       "#T_5fbfb_row4_col0 {\n",
       "  background-color: #ffefa5;\n",
       "  color: #000000;\n",
       "}\n",
       "#T_5fbfb_row4_col1 {\n",
       "  background-color: #fed572;\n",
       "  color: #000000;\n",
       "}\n",
       "#T_5fbfb_row4_col2 {\n",
       "  background-color: #fec863;\n",
       "  color: #000000;\n",
       "}\n",
       "#T_5fbfb_row4_col3 {\n",
       "  background-color: #fff9be;\n",
       "  color: #000000;\n",
       "}\n",
       "#T_5fbfb_row4_col5, #T_5fbfb_row5_col0, #T_5fbfb_row5_col1, #T_5fbfb_row5_col2, #T_5fbfb_row5_col3, #T_5fbfb_row5_col4 {\n",
       "  background-color: #ffffcc;\n",
       "  color: #000000;\n",
       "}\n",
       "</style>\n",
       "<table id=\"T_5fbfb\">\n",
       "  <thead>\n",
       "    <tr>\n",
       "      <th class=\"blank level0\" >&nbsp;</th>\n",
       "      <th id=\"T_5fbfb_level0_col0\" class=\"col_heading level0 col0\" >Culmen Length (mm)</th>\n",
       "      <th id=\"T_5fbfb_level0_col1\" class=\"col_heading level0 col1\" >Culmen Depth (mm)</th>\n",
       "      <th id=\"T_5fbfb_level0_col2\" class=\"col_heading level0 col2\" >Flipper Length (mm)</th>\n",
       "      <th id=\"T_5fbfb_level0_col3\" class=\"col_heading level0 col3\" >Body Mass (g)</th>\n",
       "      <th id=\"T_5fbfb_level0_col4\" class=\"col_heading level0 col4\" >Delta 15 N (o/oo)</th>\n",
       "      <th id=\"T_5fbfb_level0_col5\" class=\"col_heading level0 col5\" >Delta 13 C (o/oo)</th>\n",
       "    </tr>\n",
       "  </thead>\n",
       "  <tbody>\n",
       "    <tr>\n",
       "      <th id=\"T_5fbfb_level0_row0\" class=\"row_heading level0 row0\" >Culmen Length (mm)</th>\n",
       "      <td id=\"T_5fbfb_row0_col0\" class=\"data row0 col0\" >1.000000</td>\n",
       "      <td id=\"T_5fbfb_row0_col1\" class=\"data row0 col1\" >0.607152</td>\n",
       "      <td id=\"T_5fbfb_row0_col2\" class=\"data row0 col2\" >0.664356</td>\n",
       "      <td id=\"T_5fbfb_row0_col3\" class=\"data row0 col3\" >0.673636</td>\n",
       "      <td id=\"T_5fbfb_row0_col4\" class=\"data row0 col4\" >0.119532</td>\n",
       "      <td id=\"T_5fbfb_row0_col5\" class=\"data row0 col5\" >0.008982</td>\n",
       "    </tr>\n",
       "    <tr>\n",
       "      <th id=\"T_5fbfb_level0_row1\" class=\"row_heading level0 row1\" >Culmen Depth (mm)</th>\n",
       "      <td id=\"T_5fbfb_row1_col0\" class=\"data row1 col0\" >0.607152</td>\n",
       "      <td id=\"T_5fbfb_row1_col1\" class=\"data row1 col1\" >1.000000</td>\n",
       "      <td id=\"T_5fbfb_row1_col2\" class=\"data row1 col2\" >0.632712</td>\n",
       "      <td id=\"T_5fbfb_row1_col3\" class=\"data row1 col3\" >0.666543</td>\n",
       "      <td id=\"T_5fbfb_row1_col4\" class=\"data row1 col4\" >0.232019</td>\n",
       "      <td id=\"T_5fbfb_row1_col5\" class=\"data row1 col5\" >-0.041259</td>\n",
       "    </tr>\n",
       "    <tr>\n",
       "      <th id=\"T_5fbfb_level0_row2\" class=\"row_heading level0 row2\" >Flipper Length (mm)</th>\n",
       "      <td id=\"T_5fbfb_row2_col0\" class=\"data row2 col0\" >0.664356</td>\n",
       "      <td id=\"T_5fbfb_row2_col1\" class=\"data row2 col1\" >0.632712</td>\n",
       "      <td id=\"T_5fbfb_row2_col2\" class=\"data row2 col2\" >1.000000</td>\n",
       "      <td id=\"T_5fbfb_row2_col3\" class=\"data row2 col3\" >0.711209</td>\n",
       "      <td id=\"T_5fbfb_row2_col4\" class=\"data row2 col4\" >0.232947</td>\n",
       "      <td id=\"T_5fbfb_row2_col5\" class=\"data row2 col5\" >-0.106216</td>\n",
       "    </tr>\n",
       "    <tr>\n",
       "      <th id=\"T_5fbfb_level0_row3\" class=\"row_heading level0 row3\" >Body Mass (g)</th>\n",
       "      <td id=\"T_5fbfb_row3_col0\" class=\"data row3 col0\" >0.673636</td>\n",
       "      <td id=\"T_5fbfb_row3_col1\" class=\"data row3 col1\" >0.666543</td>\n",
       "      <td id=\"T_5fbfb_row3_col2\" class=\"data row3 col2\" >0.711209</td>\n",
       "      <td id=\"T_5fbfb_row3_col3\" class=\"data row3 col3\" >1.000000</td>\n",
       "      <td id=\"T_5fbfb_row3_col4\" class=\"data row3 col4\" >0.107441</td>\n",
       "      <td id=\"T_5fbfb_row3_col5\" class=\"data row3 col5\" >0.068012</td>\n",
       "    </tr>\n",
       "    <tr>\n",
       "      <th id=\"T_5fbfb_level0_row4\" class=\"row_heading level0 row4\" >Delta 15 N (o/oo)</th>\n",
       "      <td id=\"T_5fbfb_row4_col0\" class=\"data row4 col0\" >0.119532</td>\n",
       "      <td id=\"T_5fbfb_row4_col1\" class=\"data row4 col1\" >0.232019</td>\n",
       "      <td id=\"T_5fbfb_row4_col2\" class=\"data row4 col2\" >0.232947</td>\n",
       "      <td id=\"T_5fbfb_row4_col3\" class=\"data row4 col3\" >0.107441</td>\n",
       "      <td id=\"T_5fbfb_row4_col4\" class=\"data row4 col4\" >1.000000</td>\n",
       "      <td id=\"T_5fbfb_row4_col5\" class=\"data row4 col5\" >-0.549042</td>\n",
       "    </tr>\n",
       "    <tr>\n",
       "      <th id=\"T_5fbfb_level0_row5\" class=\"row_heading level0 row5\" >Delta 13 C (o/oo)</th>\n",
       "      <td id=\"T_5fbfb_row5_col0\" class=\"data row5 col0\" >0.008982</td>\n",
       "      <td id=\"T_5fbfb_row5_col1\" class=\"data row5 col1\" >-0.041259</td>\n",
       "      <td id=\"T_5fbfb_row5_col2\" class=\"data row5 col2\" >-0.106216</td>\n",
       "      <td id=\"T_5fbfb_row5_col3\" class=\"data row5 col3\" >0.068012</td>\n",
       "      <td id=\"T_5fbfb_row5_col4\" class=\"data row5 col4\" >-0.549042</td>\n",
       "      <td id=\"T_5fbfb_row5_col5\" class=\"data row5 col5\" >1.000000</td>\n",
       "    </tr>\n",
       "  </tbody>\n",
       "</table>\n"
      ],
      "text/plain": [
       "<pandas.io.formats.style.Styler at 0x7fffa91fad00>"
      ]
     },
     "execution_count": 69,
     "metadata": {},
     "output_type": "execute_result"
    }
   ],
   "source": [
    "# Select the adelie species only\n",
    "gentoo = penguin_information.loc[penguin_information['Species'] == \"Gentoo penguin (Pygoscelis papua)\"]\n",
    "\n",
    "# correlation heatmap\n",
    "numeric_data = gentoo[[\"Culmen Length (mm)\", \"Culmen Depth (mm)\", \"Flipper Length (mm)\", \n",
    "                              \"Body Mass (g)\", \"Delta 15 N (o/oo)\", \"Delta 13 C (o/oo)\"]]\n",
    "\n",
    "numeric_data.corr().style.background_gradient(cmap='YlOrRd')"
   ]
  },
  {
   "cell_type": "markdown",
   "id": "53418cee",
   "metadata": {},
   "source": [
    "### Task 5"
   ]
  },
  {
   "cell_type": "code",
   "execution_count": 70,
   "id": "8c44f012",
   "metadata": {},
   "outputs": [],
   "source": [
    "df1 = penguin_information[['Culmen Length (mm)', 'Culmen Depth (mm)', 'Flipper Length (mm)', 'Body Mass (g)']]"
   ]
  },
  {
   "cell_type": "markdown",
   "id": "42f6378e",
   "metadata": {},
   "source": [
    "3 cluster groups which is how many species are present.\n",
    "When the number of K clusters were increased, it wasn't obvious what the different cluster groups represented."
   ]
  },
  {
   "cell_type": "code",
   "execution_count": 76,
   "id": "b18b3032",
   "metadata": {},
   "outputs": [],
   "source": [
    "import matplotlib.pyplot as plt\n",
    "K=3"
   ]
  },
  {
   "cell_type": "code",
   "execution_count": 77,
   "id": "0b36aae5",
   "metadata": {},
   "outputs": [
    {
     "name": "stdout",
     "output_type": "stream",
     "text": [
      "Centroids: \n",
      "     Culmen Length (mm)  Culmen Depth (mm)  Flipper Length (mm)  Body Mass (g)\n",
      "79                 42.1               19.1                195.0         4000.0\n",
      "205                50.7               19.7                203.0         4050.0\n",
      "94                 36.2               17.3                187.0         3300.0\n"
     ]
    }
   ],
   "source": [
    "# Step 2 : Select random observation as centroids\n",
    "Centroids = (df1.sample(n=K))\n",
    "\n",
    "print(\"Centroids: \")\n",
    "print(Centroids)"
   ]
  },
  {
   "cell_type": "code",
   "execution_count": 78,
   "id": "a414cc88",
   "metadata": {},
   "outputs": [
    {
     "data": {
      "image/png": "[encoded data removed]",
      "text/plain": [
       "<Figure size 432x288 with 1 Axes>"
      ]
     },
     "metadata": {
      "needs_background": "light"
     },
     "output_type": "display_data"
    }
   ],
   "source": [
    "#Visualise data points, red point/observation is the centroids\n",
    "plt.scatter(df1[\"Culmen Depth (mm)\"],df1[\"Flipper Length (mm)\"],s = 100,c='black')\n",
    "plt.scatter(Centroids[\"Culmen Depth (mm)\"],Centroids[\"Flipper Length (mm)\"],s = 100,c='red')\n",
    "plt.xlabel('Culmen Depth (mm)')\n",
    "plt.ylabel('Flipper Length (mm)')\n",
    "plt.title(\"Scatter Plot with centroids\")\n",
    "plt.show()"
   ]
  },
  {
   "cell_type": "code",
   "execution_count": 79,
   "id": "aa77502e",
   "metadata": {},
   "outputs": [],
   "source": [
    "import numpy as np\n",
    "\n",
    "def distance(obs):\n",
    "    d = np.sqrt(((obs - Centroids) ** 2).sum(axis=1)) \n",
    "    return d.idxmin()"
   ]
  },
  {
   "cell_type": "code",
   "execution_count": 80,
   "id": "fcb6ffeb",
   "metadata": {},
   "outputs": [
    {
     "data": {
      "image/png": "[encoded data removed]",
      "text/plain": [
       "<Figure size 432x288 with 1 Axes>"
      ]
     },
     "metadata": {
      "needs_background": "light"
     },
     "output_type": "display_data"
    },
    {
     "name": "stdout",
     "output_type": "stream",
     "text": [
      "     Culmen Length (mm)  Culmen Depth (mm)  Flipper Length (mm)  Body Mass (g)\n",
      "79                 42.1               19.1                195.0         4000.0\n",
      "205                50.7               19.7                203.0         4050.0\n",
      "94                 36.2               17.3                187.0         3300.0\n"
     ]
    }
   ],
   "source": [
    "# Apply the function to the entire data set.\n",
    "clusters = df1.apply(distance, axis=1)\n",
    "\n",
    "\n",
    "# Plot the cluster assignments.\n",
    "plt.scatter(df1[\"Culmen Depth (mm)\"],df1[\"Flipper Length (mm)\"],s = 100,c=clusters) \n",
    "plt.scatter(Centroids[\"Culmen Depth (mm)\"],Centroids[\"Flipper Length (mm)\"],s = 100,c='red')\n",
    "plt.xlabel('Culmen Depth (mm)')\n",
    "plt.ylabel('Flipper Length (mm)')\n",
    "plt.title(\"Scatter Plot with Clusters and Centroids\")\n",
    "# plt.legend()\n",
    "plt.show()\n",
    "print(Centroids)"
   ]
  },
  {
   "cell_type": "code",
   "execution_count": 81,
   "id": "54f5276f",
   "metadata": {},
   "outputs": [
    {
     "data": {
      "text/html": [
       "<div>\n",
       "<style scoped>\n",
       "    .dataframe tbody tr th:only-of-type {\n",
       "        vertical-align: middle;\n",
       "    }\n",
       "\n",
       "    .dataframe tbody tr th {\n",
       "        vertical-align: top;\n",
       "    }\n",
       "\n",
       "    .dataframe thead th {\n",
       "        text-align: right;\n",
       "    }\n",
       "</style>\n",
       "<table border=\"1\" class=\"dataframe\">\n",
       "  <thead>\n",
       "    <tr style=\"text-align: right;\">\n",
       "      <th></th>\n",
       "      <th>Culmen Length (mm)</th>\n",
       "      <th>Culmen Depth (mm)</th>\n",
       "      <th>Flipper Length (mm)</th>\n",
       "      <th>Body Mass (g)</th>\n",
       "    </tr>\n",
       "  </thead>\n",
       "  <tbody>\n",
       "    <tr>\n",
       "      <th>79</th>\n",
       "      <td>43.158571</td>\n",
       "      <td>18.440000</td>\n",
       "      <td>192.971429</td>\n",
       "      <td>3818.571429</td>\n",
       "    </tr>\n",
       "    <tr>\n",
       "      <th>94</th>\n",
       "      <td>39.973000</td>\n",
       "      <td>17.790000</td>\n",
       "      <td>188.460000</td>\n",
       "      <td>3332.000000</td>\n",
       "    </tr>\n",
       "    <tr>\n",
       "      <th>205</th>\n",
       "      <td>46.498528</td>\n",
       "      <td>16.265531</td>\n",
       "      <td>211.269140</td>\n",
       "      <td>4855.767292</td>\n",
       "    </tr>\n",
       "  </tbody>\n",
       "</table>\n",
       "</div>"
      ],
      "text/plain": [
       "     Culmen Length (mm)  Culmen Depth (mm)  Flipper Length (mm)  Body Mass (g)\n",
       "79            43.158571          18.440000           192.971429    3818.571429\n",
       "94            39.973000          17.790000           188.460000    3332.000000\n",
       "205           46.498528          16.265531           211.269140    4855.767292"
      ]
     },
     "execution_count": 81,
     "metadata": {},
     "output_type": "execute_result"
    }
   ],
   "source": [
    "Centroids = df1.groupby(clusters).mean()\n",
    "Centroids"
   ]
  },
  {
   "cell_type": "markdown",
   "id": "8a04251f",
   "metadata": {},
   "source": [
    "When the above mean is compared to the means of the different numeric values across the different species, the results are similar. Although not entirely accurate, it can be seen which values belong to each species as the Gentoo penguin (Pygoscelis papua)\thad the highest body mass, flipper length and culmen length while also having the shortest culmen Depth.\n",
    "Variables such as date or gender may account for the why it isn't completely accurate."
   ]
  },
  {
   "cell_type": "code",
   "execution_count": 82,
   "id": "d65e1104",
   "metadata": {},
   "outputs": [
    {
     "data": {
      "image/png": "[encoded data removed]",
      "text/plain": [
       "<Figure size 432x288 with 1 Axes>"
      ]
     },
     "metadata": {
      "needs_background": "light"
     },
     "output_type": "display_data"
    }
   ],
   "source": [
    "plt.scatter(penguin_information[\"Culmen Depth (mm)\"][:3], penguin_information[\"Flipper Length (mm)\"][:3], s = 100, c = 'purple', label = 'Gentoo penguin (Pygoscelis papua)')\n",
    "plt.scatter(penguin_information[\"Culmen Depth (mm)\"][3:213], penguin_information[\"Flipper Length (mm)\"][3:213], s = 100, c = 'orange', label = 'Adelie Penguin (Pygoscelis adeliae)')\n",
    "plt.scatter(penguin_information[\"Culmen Depth (mm)\"][213:344], penguin_information[\"Flipper Length (mm)\"][213:344], s = 100, c = 'green', label = 'Chinstrap penguin (Pygoscelis antarctica)')\n",
    "plt.xlabel('Culmen Depth (mm)')\n",
    "plt.ylabel('Flipper Length (mm)')\n",
    "\n",
    "plt.title(\"Scatter Plot with Original Clusters\")\n",
    "plt.legend()\n",
    "plt.show()"
   ]
  },
  {
   "cell_type": "markdown",
   "id": "8739a9fd",
   "metadata": {},
   "source": [
    "The Culmen Depth and Flipper length was chosen as we observed in earlier boxplots comparing the 3 species that the chinstrap penguin was visibly distinguishable from the other two species. This can be seen as the chinstrap is the only present penguin in that area."
   ]
  },
  {
   "cell_type": "markdown",
   "id": "20564a01",
   "metadata": {},
   "source": [
    "### Task 6"
   ]
  },
  {
   "cell_type": "code",
   "execution_count": 84,
   "id": "e43545f5",
   "metadata": {},
   "outputs": [],
   "source": [
    "from sklearn.preprocessing import StandardScaler\n",
    "features = ['Culmen Length (mm)', 'Culmen Depth (mm)', 'Flipper Length (mm)', 'Body Mass (g)']\n",
    "\n",
    "# Separating out the features\n",
    "x = penguin_information.loc[:, features].values\n",
    "# Separating out the target\n",
    "y = penguin_information.loc[:,['Species']].values\n",
    "# Standardizing the features\n",
    "x = StandardScaler().fit_transform(x)"
   ]
  },
  {
   "cell_type": "code",
   "execution_count": 85,
   "id": "f604b69f",
   "metadata": {},
   "outputs": [],
   "source": [
    "from sklearn.decomposition import PCA\n",
    "pca = PCA(n_components=2)\n",
    "principalComponents = pca.fit_transform(x)\n",
    "principalDf = pd.DataFrame(data = principalComponents, columns = ['principal component 1', 'principal component 2'])"
   ]
  },
  {
   "cell_type": "code",
   "execution_count": 86,
   "id": "0baeaf85",
   "metadata": {},
   "outputs": [],
   "source": [
    "finalDf = pd.concat([principalDf, penguin_information[['Species']]], axis = 1)"
   ]
  },
  {
   "cell_type": "code",
   "execution_count": 92,
   "id": "f19cfb8a",
   "metadata": {},
   "outputs": [
    {
     "data": {
      "image/png": "[encoded data removed]",
      "text/plain": [
       "<Figure size 576x576 with 1 Axes>"
      ]
     },
     "metadata": {
      "needs_background": "light"
     },
     "output_type": "display_data"
    }
   ],
   "source": [
    "fig = plt.figure(figsize = (8,8))\n",
    "ax = fig.add_subplot(1,1,1) \n",
    "ax.set_xlabel('Principal Component 1', fontsize = 15)\n",
    "ax.set_ylabel('Principal Component 2', fontsize = 15)\n",
    "ax.set_title('2 component PCA', fontsize = 20)\n",
    "targets = ['Adelie Penguin (Pygoscelis adeliae)', 'Chinstrap penguin (Pygoscelis antarctica)', 'Gentoo penguin (Pygoscelis papua)']\n",
    "colors = ['r', 'g', 'b']\n",
    "for target, color in zip(targets,colors):\n",
    "    indicesToKeep = finalDf['Species'] == target\n",
    "    ax.scatter(finalDf.loc[indicesToKeep, 'principal component 1']\n",
    "               , finalDf.loc[indicesToKeep, 'principal component 2']\n",
    "               , c = color\n",
    "               , s = 50)\n",
    "ax.legend(targets)\n",
    "ax.grid()"
   ]
  },
  {
   "cell_type": "markdown",
   "id": "5159310a",
   "metadata": {},
   "source": [
    "Although the Gentoo penguin is well separated from the other 2 species, the Adelie Chinstrap penguin are both very close togther, making it harder to distinguish between the two."
   ]
  },
  {
   "cell_type": "code",
   "execution_count": 93,
   "id": "8d53d04d",
   "metadata": {},
   "outputs": [
    {
     "data": {
      "text/plain": [
       "array([0.68843878, 0.19312919])"
      ]
     },
     "execution_count": 93,
     "metadata": {},
     "output_type": "execute_result"
    }
   ],
   "source": [
    "pca.explained_variance_ratio_"
   ]
  },
  {
   "cell_type": "markdown",
   "id": "17329d6e",
   "metadata": {},
   "source": [
    "Above we can see that the first principal component analysis has a 68% variance and the second principal component analysis contains 19% variance. Altogether this adds up to 88% which is above 85%, being a valid way to visualise the data."
   ]
  },
  {
   "cell_type": "markdown",
   "id": "bb90744e",
   "metadata": {},
   "source": [
    "#### Limitations"
   ]
  },
  {
   "cell_type": "markdown",
   "id": "64fc1570",
   "metadata": {},
   "source": [
    "PCA checks for correlations between columns, when looking at the heat maps previously ovbserved, there was a difference in the way the non-numeric values were correlated to each otheer.\n",
    "It is also hard for PCA to handle outliers, which may have been present from the previous data imputation or incorrect data."
   ]
  }
 ],
 "metadata": {
  "kernelspec": {
   "display_name": "Python 3 (ipykernel)",
   "language": "python",
   "name": "python3"
  },
  "language_info": {
   "codemirror_mode": {
    "name": "ipython",
    "version": 3
   },
   "file_extension": ".py",
   "mimetype": "text/x-python",
   "name": "python",
   "nbconvert_exporter": "python",
   "pygments_lexer": "ipython3",
   "version": "3.9.13"
  }
 },
 "nbformat": 4,
 "nbformat_minor": 5
}
